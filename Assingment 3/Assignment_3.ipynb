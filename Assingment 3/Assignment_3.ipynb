{
  "cells": [
    {
      "cell_type": "markdown",
      "metadata": {
        "colab_type": "text",
        "id": "view-in-github"
      },
      "source": [
        "<a href=\"https://colab.research.google.com/github/jwilliams2023/Machine-Learning-Assignments/blob/main/Assignment_3.ipynb\" target=\"_parent\"><img src=\"https://colab.research.google.com/assets/colab-badge.svg\" alt=\"Open In Colab\"/></a>"
      ]
    },
    {
      "cell_type": "markdown",
      "metadata": {
        "id": "OqiRSXyk9PUM"
      },
      "source": [
        "# Dependencies\n",
        "\n",
        "- numpy\n",
        "- pandas\n",
        "- matplotlib\n",
        "- seaborn\n",
        "- scikit-learn\n",
        "- nltk\n",
        "- gensim\n",
        "- datasets\n",
        "- transformers\n",
        "- torch - (CUDA 11.8 version for GPU support)\n",
        "- evaluate\n"
      ]
    },
    {
      "cell_type": "code",
      "execution_count": 2,
      "metadata": {
        "colab": {
          "base_uri": "https://localhost:8080/"
        },
        "id": "nV4_rVVK4z3L",
        "outputId": "bed850c3-273a-41c6-c706-03060a89073d"
      },
      "outputs": [
        {
          "name": "stdout",
          "output_type": "stream",
          "text": [
            "Defaulting to user installation because normal site-packages is not writeable\n",
            "Requirement already satisfied: numpy in c:\\users\\joseph\\appdata\\roaming\\python\\python312\\site-packages (1.26.4)\n",
            "Requirement already satisfied: pandas in c:\\users\\joseph\\appdata\\roaming\\python\\python312\\site-packages (2.2.3)\n",
            "Requirement already satisfied: matplotlib in c:\\users\\joseph\\appdata\\roaming\\python\\python312\\site-packages (3.10.1)\n",
            "Requirement already satisfied: seaborn in c:\\users\\joseph\\appdata\\roaming\\python\\python312\\site-packages (0.13.2)\n",
            "Requirement already satisfied: scikit-learn in c:\\users\\joseph\\appdata\\roaming\\python\\python312\\site-packages (1.6.1)\n",
            "Requirement already satisfied: nltk in c:\\users\\joseph\\appdata\\roaming\\python\\python312\\site-packages (3.9.1)\n",
            "Requirement already satisfied: gensim in c:\\users\\joseph\\appdata\\roaming\\python\\python312\\site-packages (4.3.3)\n",
            "Requirement already satisfied: datasets in c:\\users\\joseph\\appdata\\roaming\\python\\python312\\site-packages (3.5.0)\n",
            "Requirement already satisfied: transformers in c:\\users\\joseph\\appdata\\roaming\\python\\python312\\site-packages (4.51.0)\n",
            "Requirement already satisfied: python-dateutil>=2.8.2 in c:\\users\\joseph\\appdata\\roaming\\python\\python312\\site-packages (from pandas) (2.9.0.post0)\n",
            "Requirement already satisfied: pytz>=2020.1 in c:\\users\\joseph\\appdata\\roaming\\python\\python312\\site-packages (from pandas) (2025.2)\n",
            "Requirement already satisfied: tzdata>=2022.7 in c:\\users\\joseph\\appdata\\roaming\\python\\python312\\site-packages (from pandas) (2025.2)\n",
            "Requirement already satisfied: contourpy>=1.0.1 in c:\\users\\joseph\\appdata\\roaming\\python\\python312\\site-packages (from matplotlib) (1.3.1)\n",
            "Requirement already satisfied: cycler>=0.10 in c:\\users\\joseph\\appdata\\roaming\\python\\python312\\site-packages (from matplotlib) (0.12.1)\n",
            "Requirement already satisfied: fonttools>=4.22.0 in c:\\users\\joseph\\appdata\\roaming\\python\\python312\\site-packages (from matplotlib) (4.57.0)\n",
            "Requirement already satisfied: kiwisolver>=1.3.1 in c:\\users\\joseph\\appdata\\roaming\\python\\python312\\site-packages (from matplotlib) (1.4.8)\n",
            "Requirement already satisfied: packaging>=20.0 in c:\\users\\joseph\\appdata\\roaming\\python\\python312\\site-packages (from matplotlib) (24.2)\n",
            "Requirement already satisfied: pillow>=8 in c:\\users\\joseph\\appdata\\roaming\\python\\python312\\site-packages (from matplotlib) (11.1.0)\n",
            "Requirement already satisfied: pyparsing>=2.3.1 in c:\\users\\joseph\\appdata\\roaming\\python\\python312\\site-packages (from matplotlib) (3.2.3)\n",
            "Requirement already satisfied: scipy>=1.6.0 in c:\\users\\joseph\\appdata\\roaming\\python\\python312\\site-packages (from scikit-learn) (1.13.1)\n",
            "Requirement already satisfied: joblib>=1.2.0 in c:\\users\\joseph\\appdata\\roaming\\python\\python312\\site-packages (from scikit-learn) (1.4.2)\n",
            "Requirement already satisfied: threadpoolctl>=3.1.0 in c:\\users\\joseph\\appdata\\roaming\\python\\python312\\site-packages (from scikit-learn) (3.6.0)\n",
            "Requirement already satisfied: click in c:\\users\\joseph\\appdata\\roaming\\python\\python312\\site-packages (from nltk) (8.1.8)\n",
            "Requirement already satisfied: regex>=2021.8.3 in c:\\users\\joseph\\appdata\\roaming\\python\\python312\\site-packages (from nltk) (2024.11.6)\n",
            "Requirement already satisfied: tqdm in c:\\users\\joseph\\appdata\\roaming\\python\\python312\\site-packages (from nltk) (4.67.1)\n",
            "Requirement already satisfied: smart-open>=1.8.1 in c:\\users\\joseph\\appdata\\roaming\\python\\python312\\site-packages (from gensim) (7.1.0)\n",
            "Requirement already satisfied: filelock in c:\\users\\joseph\\appdata\\roaming\\python\\python312\\site-packages (from datasets) (3.18.0)\n",
            "Requirement already satisfied: pyarrow>=15.0.0 in c:\\users\\joseph\\appdata\\roaming\\python\\python312\\site-packages (from datasets) (19.0.1)\n",
            "Requirement already satisfied: dill<0.3.9,>=0.3.0 in c:\\users\\joseph\\appdata\\roaming\\python\\python312\\site-packages (from datasets) (0.3.8)\n",
            "Requirement already satisfied: requests>=2.32.2 in c:\\users\\joseph\\appdata\\roaming\\python\\python312\\site-packages (from datasets) (2.32.3)\n",
            "Requirement already satisfied: xxhash in c:\\users\\joseph\\appdata\\roaming\\python\\python312\\site-packages (from datasets) (3.5.0)\n",
            "Requirement already satisfied: multiprocess<0.70.17 in c:\\users\\joseph\\appdata\\roaming\\python\\python312\\site-packages (from datasets) (0.70.16)\n",
            "Requirement already satisfied: fsspec<=2024.12.0,>=2023.1.0 in c:\\users\\joseph\\appdata\\roaming\\python\\python312\\site-packages (from fsspec[http]<=2024.12.0,>=2023.1.0->datasets) (2024.12.0)\n",
            "Requirement already satisfied: aiohttp in c:\\users\\joseph\\appdata\\roaming\\python\\python312\\site-packages (from datasets) (3.11.16)\n",
            "Requirement already satisfied: huggingface-hub>=0.24.0 in c:\\users\\joseph\\appdata\\roaming\\python\\python312\\site-packages (from datasets) (0.30.1)\n",
            "Requirement already satisfied: pyyaml>=5.1 in c:\\users\\joseph\\appdata\\roaming\\python\\python312\\site-packages (from datasets) (6.0.2)\n",
            "Requirement already satisfied: tokenizers<0.22,>=0.21 in c:\\users\\joseph\\appdata\\roaming\\python\\python312\\site-packages (from transformers) (0.21.1)\n",
            "Requirement already satisfied: safetensors>=0.4.3 in c:\\users\\joseph\\appdata\\roaming\\python\\python312\\site-packages (from transformers) (0.5.3)\n",
            "Requirement already satisfied: aiohappyeyeballs>=2.3.0 in c:\\users\\joseph\\appdata\\roaming\\python\\python312\\site-packages (from aiohttp->datasets) (2.6.1)\n",
            "Requirement already satisfied: aiosignal>=1.1.2 in c:\\users\\joseph\\appdata\\roaming\\python\\python312\\site-packages (from aiohttp->datasets) (1.3.2)\n",
            "Requirement already satisfied: attrs>=17.3.0 in c:\\users\\joseph\\appdata\\roaming\\python\\python312\\site-packages (from aiohttp->datasets) (25.3.0)\n",
            "Requirement already satisfied: frozenlist>=1.1.1 in c:\\users\\joseph\\appdata\\roaming\\python\\python312\\site-packages (from aiohttp->datasets) (1.5.0)\n",
            "Requirement already satisfied: multidict<7.0,>=4.5 in c:\\users\\joseph\\appdata\\roaming\\python\\python312\\site-packages (from aiohttp->datasets) (6.3.2)\n",
            "Requirement already satisfied: propcache>=0.2.0 in c:\\users\\joseph\\appdata\\roaming\\python\\python312\\site-packages (from aiohttp->datasets) (0.3.1)\n",
            "Requirement already satisfied: yarl<2.0,>=1.17.0 in c:\\users\\joseph\\appdata\\roaming\\python\\python312\\site-packages (from aiohttp->datasets) (1.19.0)\n",
            "Requirement already satisfied: typing-extensions>=3.7.4.3 in c:\\users\\joseph\\appdata\\roaming\\python\\python312\\site-packages (from huggingface-hub>=0.24.0->datasets) (4.13.1)\n",
            "Requirement already satisfied: six>=1.5 in c:\\users\\joseph\\appdata\\roaming\\python\\python312\\site-packages (from python-dateutil>=2.8.2->pandas) (1.17.0)\n",
            "Requirement already satisfied: charset-normalizer<4,>=2 in c:\\users\\joseph\\appdata\\roaming\\python\\python312\\site-packages (from requests>=2.32.2->datasets) (3.4.1)\n",
            "Requirement already satisfied: idna<4,>=2.5 in c:\\users\\joseph\\appdata\\roaming\\python\\python312\\site-packages (from requests>=2.32.2->datasets) (3.10)\n",
            "Requirement already satisfied: urllib3<3,>=1.21.1 in c:\\users\\joseph\\appdata\\roaming\\python\\python312\\site-packages (from requests>=2.32.2->datasets) (2.3.0)\n",
            "Requirement already satisfied: certifi>=2017.4.17 in c:\\users\\joseph\\appdata\\roaming\\python\\python312\\site-packages (from requests>=2.32.2->datasets) (2025.1.31)\n",
            "Requirement already satisfied: wrapt in c:\\users\\joseph\\appdata\\roaming\\python\\python312\\site-packages (from smart-open>=1.8.1->gensim) (1.17.2)\n",
            "Requirement already satisfied: colorama in c:\\users\\joseph\\appdata\\roaming\\python\\python312\\site-packages (from tqdm->nltk) (0.4.6)\n",
            "Note: you may need to restart the kernel to use updated packages.\n"
          ]
        }
      ],
      "source": [
        "%pip install numpy pandas matplotlib seaborn scikit-learn nltk gensim datasets transformers"
      ]
    },
    {
      "cell_type": "markdown",
      "metadata": {
        "id": "aQZyaGXvS0Rc"
      },
      "source": [
        "## Part 1 Word Embeddings and N-gram"
      ]
    },
    {
      "cell_type": "code",
      "execution_count": 3,
      "metadata": {
        "colab": {
          "base_uri": "https://localhost:8080/",
          "height": 529
        },
        "id": "wkid0SKxHCTu",
        "outputId": "99867586-3e8a-42b2-e316-fdf90e200d47"
      },
      "outputs": [
        {
          "name": "stdout",
          "output_type": "stream",
          "text": [
            "['human', 'interface', 'computer']\n",
            "3\n"
          ]
        }
      ],
      "source": [
        "import gensim.downloader as api\n",
        "from gensim.models import FastText\n",
        "from gensim.test.utils import common_texts\n",
        "\n",
        "print(common_texts[0])\n",
        "print(len(common_texts[0]))"
      ]
    },
    {
      "cell_type": "markdown",
      "metadata": {
        "id": "-2qpKr4ESfHY"
      },
      "source": [
        "### 1.1 (a) - Glove-twitter-50D word2vec and compute nxn matrices"
      ]
    },
    {
      "cell_type": "code",
      "execution_count": 4,
      "metadata": {
        "id": "YWM4dgsRH6qL"
      },
      "outputs": [],
      "source": [
        "from sklearn.metrics.pairwise import cosine_similarity\n",
        "import numpy as np\n",
        "import pandas as pd\n"
      ]
    },
    {
      "cell_type": "code",
      "execution_count": 5,
      "metadata": {
        "id": "IxhnLxF7ILk9"
      },
      "outputs": [],
      "source": [
        "words = [\"Dog\", \"Bark\", \"Tree\", \"Bank\", \"River\", \"Money\"]"
      ]
    },
    {
      "cell_type": "code",
      "execution_count": null,
      "metadata": {
        "id": "LTIee-l0JpSX"
      },
      "outputs": [],
      "source": [
        "import pandas as pd\n",
        "from sklearn.metrics.pairwise import cosine_similarity\n",
        "\n",
        "#computes the cosine similarity matrix for a list of words using a word embedding model\n",
        "def compute_similarity_matrix(model, words):\n",
        "    vectors = []\n",
        "    labels = [] \n",
        "\n",
        "    for word in words:\n",
        "        key = word.lower()\n",
        "        if key in model:\n",
        "            vectors.append(model[key])  #append if the word exists\n",
        "            labels.append(word)         #keep original word as label\n",
        "        else:\n",
        "            print(f\"{word} not found\")\n",
        "\n",
        "    #compute cosine similarity across all word vectors\n",
        "    similarity_matrix = cosine_similarity(vectors)\n",
        "\n",
        "    #convert to dataframe with labels as index and columns\n",
        "    df = pd.DataFrame(similarity_matrix, index=labels, columns=labels)\n",
        "    return df"
      ]
    },
    {
      "cell_type": "code",
      "execution_count": 7,
      "metadata": {
        "id": "wsMkrvkaM2iV"
      },
      "outputs": [],
      "source": [
        "if 'model' not in globals():\n",
        "    model = api.load('glove-twitter-50')"
      ]
    },
    {
      "cell_type": "code",
      "execution_count": 8,
      "metadata": {
        "id": "D7bRDz9ONqxG"
      },
      "outputs": [
        {
          "data": {
            "application/vnd.microsoft.datawrangler.viewer.v0+json": {
              "columns": [
                {
                  "name": "index",
                  "rawType": "object",
                  "type": "string"
                },
                {
                  "name": "Dog",
                  "rawType": "float32",
                  "type": "float"
                },
                {
                  "name": "Bark",
                  "rawType": "float32",
                  "type": "float"
                },
                {
                  "name": "Tree",
                  "rawType": "float32",
                  "type": "float"
                },
                {
                  "name": "Bank",
                  "rawType": "float32",
                  "type": "float"
                },
                {
                  "name": "River",
                  "rawType": "float32",
                  "type": "float"
                },
                {
                  "name": "Money",
                  "rawType": "float32",
                  "type": "float"
                }
              ],
              "conversionMethod": "pd.DataFrame",
              "ref": "535d2ec0-51ce-4d8b-b186-325f963be804",
              "rows": [
                [
                  "Dog",
                  "0.9999999",
                  "0.59377956",
                  "0.7137508",
                  "0.34823626",
                  "0.40120095",
                  "0.57513344"
                ],
                [
                  "Bark",
                  "0.59377956",
                  "0.99999994",
                  "0.54587334",
                  "0.04010864",
                  "0.26663473",
                  "0.29098505"
                ],
                [
                  "Tree",
                  "0.7137508",
                  "0.54587334",
                  "1.0000002",
                  "0.34945628",
                  "0.48711586",
                  "0.5100811"
                ],
                [
                  "Bank",
                  "0.34823626",
                  "0.04010864",
                  "0.34945628",
                  "0.9999998",
                  "0.31992203",
                  "0.67465633"
                ],
                [
                  "River",
                  "0.40120095",
                  "0.26663473",
                  "0.48711586",
                  "0.31992203",
                  "1.0000002",
                  "0.3377998"
                ],
                [
                  "Money",
                  "0.57513344",
                  "0.29098505",
                  "0.5100811",
                  "0.67465633",
                  "0.3377998",
                  "1.0000001"
                ]
              ],
              "shape": {
                "columns": 6,
                "rows": 6
              }
            },
            "text/html": [
              "<div>\n",
              "<style scoped>\n",
              "    .dataframe tbody tr th:only-of-type {\n",
              "        vertical-align: middle;\n",
              "    }\n",
              "\n",
              "    .dataframe tbody tr th {\n",
              "        vertical-align: top;\n",
              "    }\n",
              "\n",
              "    .dataframe thead th {\n",
              "        text-align: right;\n",
              "    }\n",
              "</style>\n",
              "<table border=\"1\" class=\"dataframe\">\n",
              "  <thead>\n",
              "    <tr style=\"text-align: right;\">\n",
              "      <th></th>\n",
              "      <th>Dog</th>\n",
              "      <th>Bark</th>\n",
              "      <th>Tree</th>\n",
              "      <th>Bank</th>\n",
              "      <th>River</th>\n",
              "      <th>Money</th>\n",
              "    </tr>\n",
              "  </thead>\n",
              "  <tbody>\n",
              "    <tr>\n",
              "      <th>Dog</th>\n",
              "      <td>1.000000</td>\n",
              "      <td>0.593780</td>\n",
              "      <td>0.713751</td>\n",
              "      <td>0.348236</td>\n",
              "      <td>0.401201</td>\n",
              "      <td>0.575133</td>\n",
              "    </tr>\n",
              "    <tr>\n",
              "      <th>Bark</th>\n",
              "      <td>0.593780</td>\n",
              "      <td>1.000000</td>\n",
              "      <td>0.545873</td>\n",
              "      <td>0.040109</td>\n",
              "      <td>0.266635</td>\n",
              "      <td>0.290985</td>\n",
              "    </tr>\n",
              "    <tr>\n",
              "      <th>Tree</th>\n",
              "      <td>0.713751</td>\n",
              "      <td>0.545873</td>\n",
              "      <td>1.000000</td>\n",
              "      <td>0.349456</td>\n",
              "      <td>0.487116</td>\n",
              "      <td>0.510081</td>\n",
              "    </tr>\n",
              "    <tr>\n",
              "      <th>Bank</th>\n",
              "      <td>0.348236</td>\n",
              "      <td>0.040109</td>\n",
              "      <td>0.349456</td>\n",
              "      <td>1.000000</td>\n",
              "      <td>0.319922</td>\n",
              "      <td>0.674656</td>\n",
              "    </tr>\n",
              "    <tr>\n",
              "      <th>River</th>\n",
              "      <td>0.401201</td>\n",
              "      <td>0.266635</td>\n",
              "      <td>0.487116</td>\n",
              "      <td>0.319922</td>\n",
              "      <td>1.000000</td>\n",
              "      <td>0.337800</td>\n",
              "    </tr>\n",
              "    <tr>\n",
              "      <th>Money</th>\n",
              "      <td>0.575133</td>\n",
              "      <td>0.290985</td>\n",
              "      <td>0.510081</td>\n",
              "      <td>0.674656</td>\n",
              "      <td>0.337800</td>\n",
              "      <td>1.000000</td>\n",
              "    </tr>\n",
              "  </tbody>\n",
              "</table>\n",
              "</div>"
            ],
            "text/plain": [
              "            Dog      Bark      Tree      Bank     River     Money\n",
              "Dog    1.000000  0.593780  0.713751  0.348236  0.401201  0.575133\n",
              "Bark   0.593780  1.000000  0.545873  0.040109  0.266635  0.290985\n",
              "Tree   0.713751  0.545873  1.000000  0.349456  0.487116  0.510081\n",
              "Bank   0.348236  0.040109  0.349456  1.000000  0.319922  0.674656\n",
              "River  0.401201  0.266635  0.487116  0.319922  1.000000  0.337800\n",
              "Money  0.575133  0.290985  0.510081  0.674656  0.337800  1.000000"
            ]
          },
          "metadata": {},
          "output_type": "display_data"
        }
      ],
      "source": [
        "similarity_matrix = compute_similarity_matrix(model, words)\n",
        "display(similarity_matrix)"
      ]
    },
    {
      "cell_type": "markdown",
      "metadata": {
        "id": "WDH6XQT-SoAi"
      },
      "source": [
        "### 1.1 (b) - Fasttext Embedding from Genism and compute nxn matrices"
      ]
    },
    {
      "cell_type": "code",
      "execution_count": 9,
      "metadata": {
        "id": "lWwIms8COx24"
      },
      "outputs": [
        {
          "data": {
            "application/vnd.microsoft.datawrangler.viewer.v0+json": {
              "columns": [
                {
                  "name": "index",
                  "rawType": "object",
                  "type": "string"
                },
                {
                  "name": "Dog",
                  "rawType": "float32",
                  "type": "float"
                },
                {
                  "name": "Bark",
                  "rawType": "float32",
                  "type": "float"
                },
                {
                  "name": "Tree",
                  "rawType": "float32",
                  "type": "float"
                },
                {
                  "name": "Bank",
                  "rawType": "float32",
                  "type": "float"
                },
                {
                  "name": "River",
                  "rawType": "float32",
                  "type": "float"
                },
                {
                  "name": "Money",
                  "rawType": "float32",
                  "type": "float"
                }
              ],
              "conversionMethod": "pd.DataFrame",
              "ref": "4d8c1ad7-1482-4e26-9148-424e98d5ef7d",
              "rows": [
                [
                  "Dog",
                  "0.99999994",
                  "0.107832246",
                  "-0.16999218",
                  "0.03131566",
                  "-0.0134963",
                  "-0.111240484"
                ],
                [
                  "Bark",
                  "0.107832246",
                  "1.0",
                  "0.20756483",
                  "0.16962697",
                  "0.08665441",
                  "-0.046767604"
                ],
                [
                  "Tree",
                  "-0.16999218",
                  "0.20756483",
                  "1.0000001",
                  "0.035650108",
                  "0.065253995",
                  "-0.2630894"
                ],
                [
                  "Bank",
                  "0.03131566",
                  "0.16962697",
                  "0.035650108",
                  "1.0000001",
                  "0.2032952",
                  "-0.016420454"
                ],
                [
                  "River",
                  "-0.0134963",
                  "0.08665441",
                  "0.065253995",
                  "0.2032952",
                  "1.0000001",
                  "-0.122650415"
                ],
                [
                  "Money",
                  "-0.111240484",
                  "-0.046767604",
                  "-0.2630894",
                  "-0.016420454",
                  "-0.122650415",
                  "1.0"
                ]
              ],
              "shape": {
                "columns": 6,
                "rows": 6
              }
            },
            "text/html": [
              "<div>\n",
              "<style scoped>\n",
              "    .dataframe tbody tr th:only-of-type {\n",
              "        vertical-align: middle;\n",
              "    }\n",
              "\n",
              "    .dataframe tbody tr th {\n",
              "        vertical-align: top;\n",
              "    }\n",
              "\n",
              "    .dataframe thead th {\n",
              "        text-align: right;\n",
              "    }\n",
              "</style>\n",
              "<table border=\"1\" class=\"dataframe\">\n",
              "  <thead>\n",
              "    <tr style=\"text-align: right;\">\n",
              "      <th></th>\n",
              "      <th>Dog</th>\n",
              "      <th>Bark</th>\n",
              "      <th>Tree</th>\n",
              "      <th>Bank</th>\n",
              "      <th>River</th>\n",
              "      <th>Money</th>\n",
              "    </tr>\n",
              "  </thead>\n",
              "  <tbody>\n",
              "    <tr>\n",
              "      <th>Dog</th>\n",
              "      <td>1.000000</td>\n",
              "      <td>0.107832</td>\n",
              "      <td>-0.169992</td>\n",
              "      <td>0.031316</td>\n",
              "      <td>-0.013496</td>\n",
              "      <td>-0.111240</td>\n",
              "    </tr>\n",
              "    <tr>\n",
              "      <th>Bark</th>\n",
              "      <td>0.107832</td>\n",
              "      <td>1.000000</td>\n",
              "      <td>0.207565</td>\n",
              "      <td>0.169627</td>\n",
              "      <td>0.086654</td>\n",
              "      <td>-0.046768</td>\n",
              "    </tr>\n",
              "    <tr>\n",
              "      <th>Tree</th>\n",
              "      <td>-0.169992</td>\n",
              "      <td>0.207565</td>\n",
              "      <td>1.000000</td>\n",
              "      <td>0.035650</td>\n",
              "      <td>0.065254</td>\n",
              "      <td>-0.263089</td>\n",
              "    </tr>\n",
              "    <tr>\n",
              "      <th>Bank</th>\n",
              "      <td>0.031316</td>\n",
              "      <td>0.169627</td>\n",
              "      <td>0.035650</td>\n",
              "      <td>1.000000</td>\n",
              "      <td>0.203295</td>\n",
              "      <td>-0.016420</td>\n",
              "    </tr>\n",
              "    <tr>\n",
              "      <th>River</th>\n",
              "      <td>-0.013496</td>\n",
              "      <td>0.086654</td>\n",
              "      <td>0.065254</td>\n",
              "      <td>0.203295</td>\n",
              "      <td>1.000000</td>\n",
              "      <td>-0.122650</td>\n",
              "    </tr>\n",
              "    <tr>\n",
              "      <th>Money</th>\n",
              "      <td>-0.111240</td>\n",
              "      <td>-0.046768</td>\n",
              "      <td>-0.263089</td>\n",
              "      <td>-0.016420</td>\n",
              "      <td>-0.122650</td>\n",
              "      <td>1.000000</td>\n",
              "    </tr>\n",
              "  </tbody>\n",
              "</table>\n",
              "</div>"
            ],
            "text/plain": [
              "            Dog      Bark      Tree      Bank     River     Money\n",
              "Dog    1.000000  0.107832 -0.169992  0.031316 -0.013496 -0.111240\n",
              "Bark   0.107832  1.000000  0.207565  0.169627  0.086654 -0.046768\n",
              "Tree  -0.169992  0.207565  1.000000  0.035650  0.065254 -0.263089\n",
              "Bank   0.031316  0.169627  0.035650  1.000000  0.203295 -0.016420\n",
              "River -0.013496  0.086654  0.065254  0.203295  1.000000 -0.122650\n",
              "Money -0.111240 -0.046768 -0.263089 -0.016420 -0.122650  1.000000"
            ]
          },
          "metadata": {},
          "output_type": "display_data"
        }
      ],
      "source": [
        "fasttext_model = FastText(sentences=common_texts, vector_size=50, window=5, min_count=1, epochs=10)\n",
        "fasttext_similarity_matrix = compute_similarity_matrix(fasttext_model.wv,words)\n",
        "display(fasttext_similarity_matrix)"
      ]
    },
    {
      "cell_type": "markdown",
      "metadata": {
        "id": "W3ZOzAblS3BM"
      },
      "source": [
        "### 1.1 (c) - Which embedding captures better semantics? "
      ]
    },
    {
      "cell_type": "code",
      "execution_count": null,
      "metadata": {
        "id": "G4HUdmUPRBnu"
      },
      "outputs": [
        {
          "data": {
            "image/png": "[encoded data removed]",
            "text/plain": [
              "<Figure size 800x600 with 2 Axes>"
            ]
          },
          "metadata": {},
          "output_type": "display_data"
        },
        {
          "data": {
            "image/png": "[encoded data removed]",
            "text/plain": [
              "<Figure size 800x600 with 2 Axes>"
            ]
          },
          "metadata": {},
          "output_type": "display_data"
        }
      ],
      "source": [
        "import seaborn as sns\n",
        "import matplotlib.pyplot as plt\n",
        "\n",
        "import seaborn as sns\n",
        "import matplotlib.pyplot as plt\n",
        "\n",
        "#heatmap from similarity matrix\n",
        "def plot_heatmap(sim_matrix, title):\n",
        "    plt.figure(figsize=(8, 6))\n",
        "    sns.heatmap(sim_matrix, annot=True, cmap=\"coolwarm\", fmt=\".2f\", linewidths=0.5)\n",
        "    plt.title(title)\n",
        "    plt.xticks(rotation=45)\n",
        "    plt.yticks(rotation=0)\n",
        "    plt.tight_layout()\n",
        "    plt.show()\n",
        "\n",
        "#plot Glove similarity heatmap\n",
        "plot_heatmap(similarity_matrix, \"GloVe Similarity Heatmap\")\n",
        "\n",
        "#plot Fasttext similarity heatmap\n",
        "plot_heatmap(fasttext_similarity_matrix, \"FastText Similarity Heatmap\")\n"
      ]
    },
    {
      "cell_type": "markdown",
      "metadata": {
        "id": "I3bCDQdfSEVx"
      },
      "source": [
        "### Which embedding captures better semantics?\n",
        "\n",
        "From the similarity scores heatmap the glove model does a better job at capturing word meanings compared to Fasttext.\n",
        "\n",
        "The glove embeddings were trained on twitter, so they already good built in.\n",
        "\n",
        "We can see this in these correctly correlated results:\n",
        "- Dog and Bark have a decent similarity of 0.59.\n",
        "- Bank and Money score 0.67.\n",
        "- Bank and River got 0.32.\n",
        "\n",
        "Fasttext was trained on a really small sample dataset so of course these resutls pail in comparison:\n",
        "- Dog and Bark only scored 0.11\n",
        "- Bank and Money had almost no connection at all at -0.02\n",
        "- Some had negative scores, which shows the model is not learning the relationships.\n",
        "\n",
        "Glove clearly captured better semantic relationships, but FastText could also if it was trained on a larger and better quality dataset like glove's twitter."
      ]
    },
    {
      "cell_type": "markdown",
      "metadata": {
        "id": "1x8Is7mlTWn9"
      },
      "source": [
        "## 1.2 N-grams and Classification "
      ]
    },
    {
      "cell_type": "markdown",
      "metadata": {},
      "source": [
        "### 1.2 (a) - Split the data 70% training and 30% testing."
      ]
    },
    {
      "cell_type": "code",
      "execution_count": 11,
      "metadata": {
        "id": "utvqgwe9T52W"
      },
      "outputs": [
        {
          "name": "stderr",
          "output_type": "stream",
          "text": [
            "[nltk_data] Downloading package twitter_samples to\n",
            "[nltk_data]     C:\\Users\\Joseph\\AppData\\Roaming\\nltk_data...\n",
            "[nltk_data]   Package twitter_samples is already up-to-date!\n",
            "[nltk_data] Downloading package stopwords to\n",
            "[nltk_data]     C:\\Users\\Joseph\\AppData\\Roaming\\nltk_data...\n",
            "[nltk_data]   Package stopwords is already up-to-date!\n"
          ]
        }
      ],
      "source": [
        "import pandas as pd\n",
        "import nltk\n",
        "from nltk.corpus import twitter_samples\n",
        "from nltk.corpus import stopwords\n",
        "import matplotlib.pyplot as plt\n",
        "from sklearn.model_selection import train_test_split\n",
        "\n",
        "nltk.download('twitter_samples')\n",
        "nltk.download('stopwords')\n",
        "\n",
        "positive_tweets = twitter_samples.strings('positive_tweets.json')\n",
        "negative_tweets = twitter_samples.strings('negative_tweets.json')\n",
        "\n",
        "all_tweets = positive_tweets + negative_tweets\n",
        "labels = [1] * len(positive_tweets) + [0] * len(negative_tweets)\n",
        "\n",
        "X_train, X_test, y_train, y_test = train_test_split(all_tweets, labels, test_size=0.3, random_state=77)\n"
      ]
    },
    {
      "cell_type": "markdown",
      "metadata": {
        "id": "_tpWTVO8T6lu"
      },
      "source": [
        "### 1.2 (b) - Extract n-grams for n in [1, 4]."
      ]
    },
    {
      "cell_type": "code",
      "execution_count": null,
      "metadata": {
        "id": "trAK4zijgBw2"
      },
      "outputs": [],
      "source": [
        "from sklearn.feature_extraction.text import CountVectorizer\n",
        "\n",
        "#set up countvectorizer for unigrams to 4-grams\n",
        "vectorizers = {\n",
        "    n: CountVectorizer(ngram_range=(n, n), stop_words='english')\n",
        "    for n in range(1, 5)\n",
        "}\n"
      ]
    },
    {
      "cell_type": "markdown",
      "metadata": {
        "id": "kOVywZ_MT952"
      },
      "source": [
        "### 2. (c) - Build a logistic regression model "
      ]
    },
    {
      "cell_type": "code",
      "execution_count": 48,
      "metadata": {
        "id": "3BZiWsfegeg9"
      },
      "outputs": [
        {
          "name": "stdout",
          "output_type": "stream",
          "text": [
            "1-gram accuracy score: 0.7437\n",
            "2-gram accuracy score: 0.6163\n",
            "3-gram accuracy score: 0.5500\n",
            "4-gram accuracy score: 0.5387\n"
          ]
        },
        {
          "data": {
            "image/png": "[encoded data removed]",
            "text/plain": [
              "<Figure size 800x500 with 1 Axes>"
            ]
          },
          "metadata": {},
          "output_type": "display_data"
        }
      ],
      "source": [
        "from sklearn.linear_model import LogisticRegression\n",
        "from sklearn.metrics import accuracy_score\n",
        "\n",
        "res = []\n",
        "\n",
        "#train a logistic regression model for each n-gram and collect accuracy\n",
        "for n, vectorizer in vectorizers.items():\n",
        "    X_train_vec = vectorizer.fit_transform(X_train)\n",
        "    X_test_vec = vectorizer.transform(X_test)\n",
        "\n",
        "    model = LogisticRegression(max_iter=200)\n",
        "    model.fit(X_train_vec, y_train)\n",
        "\n",
        "    y_pred = model.predict(X_test_vec)\n",
        "    acc = accuracy_score(y_test, y_pred)\n",
        "\n",
        "    res.append((n, acc))\n",
        "    print(f\"{n}-gram accuracy score: {acc:.4f}\")\n",
        "\n",
        "#extract values for plotting\n",
        "n_values = [n for n, _ in res]\n",
        "acc_values = [acc for _, acc in res]\n",
        "\n",
        "#plot accuracy vs. n-gram size\n",
        "plt.figure(figsize=(8, 5))\n",
        "plt.bar(n_values, acc_values)\n",
        "plt.xlabel(\"n-gram size\")\n",
        "plt.ylabel(\"accuracy\")\n",
        "plt.title(\"logistic regression accuracy by n-gram size\")\n",
        "plt.xticks(n_values)\n",
        "plt.ylim(0, 1)\n",
        "plt.grid(axis='y', linestyle='--', alpha=0.7)\n",
        "plt.tight_layout()\n",
        "plt.show()\n"
      ]
    },
    {
      "cell_type": "markdown",
      "metadata": {},
      "source": [
        "### Logistic Regression Performance\n",
        "\n",
        "The logistic regression model accuracy for each n gram size:\n",
        "\n",
        "- 1-gram accuracy score: 0.7437\n",
        "- 2-gram accuracy score: 0.6163\n",
        "- 3-gram accuracy score: 0.5500\n",
        "- 4-gram accuracy score: 0.5387\n",
        "\n",
        "From the bar chart and printed values, we can see that:\n",
        "\n",
        "- the model performed best with 1-gram, achieving accuracy of 74%.\n",
        "- as n-gram size increased, accuracy declines.\n",
        "- The 4-gram model was worst in accuracy, indicating that maybe the longer n size it wont generalize well, possibly due to overfitting as 1 gram was the best.\n",
        "\n",
        "So unigrams provided the best performance. higher n-grams capture more specific patterns and hurt generalization.\n"
      ]
    },
    {
      "cell_type": "markdown",
      "metadata": {
        "id": "n8lZqfRZUBHT"
      },
      "source": [
        "### 1.2 (d) - How does the value of n in n-gram affect the model’s performance?"
      ]
    },
    {
      "cell_type": "code",
      "execution_count": null,
      "metadata": {
        "id": "4Ec5c4m7hIl0"
      },
      "outputs": [
        {
          "data": {
            "image/png": "[encoded data removed]",
            "text/plain": [
              "<Figure size 640x480 with 1 Axes>"
            ]
          },
          "metadata": {},
          "output_type": "display_data"
        }
      ],
      "source": [
        "unzipped = list(zip(*res)) #extract ngram sizes and accuracies\n",
        "\n",
        "ngram_sizes, accuracy_scores = unzipped[0], unzipped[1]\n",
        "\n",
        "#plot accuracy vs n-gram size\n",
        "plt.plot(ngram_sizes, accuracy_scores, marker=\"o\")\n",
        "plt.title(\"Accuracy vs n-gram size\")\n",
        "plt.xlabel(\"n-gram size\")\n",
        "plt.ylabel(\"Accuracy\")\n",
        "# plt.grid(True)\n",
        "# plt.xticks(ngram_sizes)\n",
        "plt.xticks(ngram_sizes, labels=[\"unigram = 1\", \"bigram = 2\", \"trigram = 3\", \"quadgram = 4\"])\n",
        "plt.show()"
      ]
    },
    {
      "cell_type": "markdown",
      "metadata": {
        "id": "x9EuipYOlr9A"
      },
      "source": [
        "#### How does the value of n in n-gram affect the model’s performance?\n",
        "\n",
        "As the n increases, the model performance decreases. Unigrams got the best accuracy, while each in crease in n-gram size showed a drop in accuracy.\n",
        "\n",
        "This is likely because larger n-grams lead to more sparse features. Higher-grams can capture more context, but they also result in combinations seen not enough times for learning. This can cause overfitting.\n",
        "\n",
        "Unigrams performed best due to their simplicity and higher presence across the data most likely.\n"
      ]
    },
    {
      "cell_type": "markdown",
      "metadata": {
        "id": "JPZA0tS1UIp7"
      },
      "source": [
        "## Part 2 RNN and Machine Translation"
      ]
    },
    {
      "cell_type": "code",
      "execution_count": null,
      "metadata": {
        "id": "YAA8Vo3bxIpl"
      },
      "outputs": [
        {
          "name": "stdout",
          "output_type": "stream",
          "text": [
            "Defaulting to user installation because normal site-packages is not writeable\n",
            "Looking in indexes: https://download.pytorch.org/whl/cu118\n",
            "Requirement already satisfied: torch in c:\\users\\joseph\\appdata\\roaming\\python\\python312\\site-packages (2.6.0+cu118)\n",
            "Requirement already satisfied: filelock in c:\\users\\joseph\\appdata\\roaming\\python\\python312\\site-packages (from torch) (3.18.0)\n",
            "Requirement already satisfied: typing-extensions>=4.10.0 in c:\\users\\joseph\\appdata\\roaming\\python\\python312\\site-packages (from torch) (4.13.1)\n",
            "Requirement already satisfied: networkx in c:\\users\\joseph\\appdata\\roaming\\python\\python312\\site-packages (from torch) (3.3)\n",
            "Requirement already satisfied: jinja2 in c:\\users\\joseph\\appdata\\roaming\\python\\python312\\site-packages (from torch) (3.1.4)\n",
            "Requirement already satisfied: fsspec in c:\\users\\joseph\\appdata\\roaming\\python\\python312\\site-packages (from torch) (2024.12.0)\n",
            "Requirement already satisfied: setuptools in c:\\users\\joseph\\appdata\\roaming\\python\\python312\\site-packages (from torch) (78.1.0)\n",
            "Requirement already satisfied: sympy==1.13.1 in c:\\users\\joseph\\appdata\\roaming\\python\\python312\\site-packages (from torch) (1.13.1)\n",
            "Requirement already satisfied: mpmath<1.4,>=1.1.0 in c:\\users\\joseph\\appdata\\roaming\\python\\python312\\site-packages (from sympy==1.13.1->torch) (1.3.0)\n",
            "Requirement already satisfied: MarkupSafe>=2.0 in c:\\users\\joseph\\appdata\\roaming\\python\\python312\\site-packages (from jinja2->torch) (3.0.2)\n",
            "Note: you may need to restart the kernel to use updated packages.\n",
            "Defaulting to user installation because normal site-packages is not writeable\n",
            "Requirement already satisfied: datasets in c:\\users\\joseph\\appdata\\roaming\\python\\python312\\site-packages (3.5.0)\n",
            "Requirement already satisfied: evaluate in c:\\users\\joseph\\appdata\\roaming\\python\\python312\\site-packages (0.4.3)\n",
            "Requirement already satisfied: filelock in c:\\users\\joseph\\appdata\\roaming\\python\\python312\\site-packages (from datasets) (3.18.0)\n",
            "Requirement already satisfied: numpy>=1.17 in c:\\users\\joseph\\appdata\\roaming\\python\\python312\\site-packages (from datasets) (1.26.4)\n",
            "Requirement already satisfied: pyarrow>=15.0.0 in c:\\users\\joseph\\appdata\\roaming\\python\\python312\\site-packages (from datasets) (19.0.1)\n",
            "Requirement already satisfied: dill<0.3.9,>=0.3.0 in c:\\users\\joseph\\appdata\\roaming\\python\\python312\\site-packages (from datasets) (0.3.8)\n",
            "Requirement already satisfied: pandas in c:\\users\\joseph\\appdata\\roaming\\python\\python312\\site-packages (from datasets) (2.2.3)\n",
            "Requirement already satisfied: requests>=2.32.2 in c:\\users\\joseph\\appdata\\roaming\\python\\python312\\site-packages (from datasets) (2.32.3)\n",
            "Requirement already satisfied: tqdm>=4.66.3 in c:\\users\\joseph\\appdata\\roaming\\python\\python312\\site-packages (from datasets) (4.67.1)\n",
            "Requirement already satisfied: xxhash in c:\\users\\joseph\\appdata\\roaming\\python\\python312\\site-packages (from datasets) (3.5.0)\n",
            "Requirement already satisfied: multiprocess<0.70.17 in c:\\users\\joseph\\appdata\\roaming\\python\\python312\\site-packages (from datasets) (0.70.16)\n",
            "Requirement already satisfied: fsspec<=2024.12.0,>=2023.1.0 in c:\\users\\joseph\\appdata\\roaming\\python\\python312\\site-packages (from fsspec[http]<=2024.12.0,>=2023.1.0->datasets) (2024.12.0)\n",
            "Requirement already satisfied: aiohttp in c:\\users\\joseph\\appdata\\roaming\\python\\python312\\site-packages (from datasets) (3.11.16)\n",
            "Requirement already satisfied: huggingface-hub>=0.24.0 in c:\\users\\joseph\\appdata\\roaming\\python\\python312\\site-packages (from datasets) (0.30.1)\n",
            "Requirement already satisfied: packaging in c:\\users\\joseph\\appdata\\roaming\\python\\python312\\site-packages (from datasets) (24.2)\n",
            "Requirement already satisfied: pyyaml>=5.1 in c:\\users\\joseph\\appdata\\roaming\\python\\python312\\site-packages (from datasets) (6.0.2)\n",
            "Requirement already satisfied: aiohappyeyeballs>=2.3.0 in c:\\users\\joseph\\appdata\\roaming\\python\\python312\\site-packages (from aiohttp->datasets) (2.6.1)\n",
            "Requirement already satisfied: aiosignal>=1.1.2 in c:\\users\\joseph\\appdata\\roaming\\python\\python312\\site-packages (from aiohttp->datasets) (1.3.2)\n",
            "Requirement already satisfied: attrs>=17.3.0 in c:\\users\\joseph\\appdata\\roaming\\python\\python312\\site-packages (from aiohttp->datasets) (25.3.0)\n",
            "Requirement already satisfied: frozenlist>=1.1.1 in c:\\users\\joseph\\appdata\\roaming\\python\\python312\\site-packages (from aiohttp->datasets) (1.5.0)\n",
            "Requirement already satisfied: multidict<7.0,>=4.5 in c:\\users\\joseph\\appdata\\roaming\\python\\python312\\site-packages (from aiohttp->datasets) (6.3.2)\n",
            "Requirement already satisfied: propcache>=0.2.0 in c:\\users\\joseph\\appdata\\roaming\\python\\python312\\site-packages (from aiohttp->datasets) (0.3.1)\n",
            "Requirement already satisfied: yarl<2.0,>=1.17.0 in c:\\users\\joseph\\appdata\\roaming\\python\\python312\\site-packages (from aiohttp->datasets) (1.19.0)\n",
            "Requirement already satisfied: typing-extensions>=3.7.4.3 in c:\\users\\joseph\\appdata\\roaming\\python\\python312\\site-packages (from huggingface-hub>=0.24.0->datasets) (4.13.1)\n",
            "Requirement already satisfied: charset-normalizer<4,>=2 in c:\\users\\joseph\\appdata\\roaming\\python\\python312\\site-packages (from requests>=2.32.2->datasets) (3.4.1)\n",
            "Requirement already satisfied: idna<4,>=2.5 in c:\\users\\joseph\\appdata\\roaming\\python\\python312\\site-packages (from requests>=2.32.2->datasets) (3.10)\n",
            "Requirement already satisfied: urllib3<3,>=1.21.1 in c:\\users\\joseph\\appdata\\roaming\\python\\python312\\site-packages (from requests>=2.32.2->datasets) (2.3.0)\n",
            "Requirement already satisfied: certifi>=2017.4.17 in c:\\users\\joseph\\appdata\\roaming\\python\\python312\\site-packages (from requests>=2.32.2->datasets) (2025.1.31)\n",
            "Requirement already satisfied: colorama in c:\\users\\joseph\\appdata\\roaming\\python\\python312\\site-packages (from tqdm>=4.66.3->datasets) (0.4.6)\n",
            "Requirement already satisfied: python-dateutil>=2.8.2 in c:\\users\\joseph\\appdata\\roaming\\python\\python312\\site-packages (from pandas->datasets) (2.9.0.post0)\n",
            "Requirement already satisfied: pytz>=2020.1 in c:\\users\\joseph\\appdata\\roaming\\python\\python312\\site-packages (from pandas->datasets) (2025.2)\n",
            "Requirement already satisfied: tzdata>=2022.7 in c:\\users\\joseph\\appdata\\roaming\\python\\python312\\site-packages (from pandas->datasets) (2025.2)\n",
            "Requirement already satisfied: six>=1.5 in c:\\users\\joseph\\appdata\\roaming\\python\\python312\\site-packages (from python-dateutil>=2.8.2->pandas->datasets) (1.17.0)\n",
            "Note: you may need to restart the kernel to use updated packages.\n"
          ]
        }
      ],
      "source": [
        "%pip install torch --index-url https://download.pytorch.org/whl/cu118\n",
        "\n",
        "%pip install datasets evaluate"
      ]
    },
    {
      "cell_type": "code",
      "execution_count": 16,
      "metadata": {},
      "outputs": [
        {
          "name": "stdout",
          "output_type": "stream",
          "text": [
            "PyTorch version: 2.6.0+cu118\n",
            "CUDA available: True\n",
            "GPU device name: NVIDIA GeForce RTX 4080 SUPER\n"
          ]
        }
      ],
      "source": [
        "import torch\n",
        "\n",
        "print(\"PyTorch version:\", torch.__version__)\n",
        "print(\"CUDA available:\", torch.cuda.is_available())\n",
        "print(\"GPU device name:\", torch.cuda.get_device_name(0) if torch.cuda.is_available() else \"None\")\n"
      ]
    },
    {
      "cell_type": "markdown",
      "metadata": {},
      "source": [
        "### 2.1 - Load the California State bill subset"
      ]
    },
    {
      "cell_type": "code",
      "execution_count": null,
      "metadata": {},
      "outputs": [
        {
          "name": "stderr",
          "output_type": "stream",
          "text": [
            "C:\\Users\\Joseph\\AppData\\Roaming\\Python\\Python312\\site-packages\\tqdm\\auto.py:21: TqdmWarning: IProgress not found. Please update jupyter and ipywidgets. See https://ipywidgets.readthedocs.io/en/stable/user_install.html\n",
            "  from .autonotebook import tqdm as notebook_tqdm\n"
          ]
        }
      ],
      "source": [
        "from datasets import load_dataset\n",
        "\n",
        "#load billsum and split\n",
        "billsum = load_dataset(\"billsum\", split=\"ca_test\")\n",
        "billsum = billsum.train_test_split(test_size=0.2)\n"
      ]
    },
    {
      "cell_type": "code",
      "execution_count": null,
      "metadata": {},
      "outputs": [
        {
          "name": "stdout",
          "output_type": "stream",
          "text": [
            "encoding for: 1024_128\n"
          ]
        },
        {
          "name": "stderr",
          "output_type": "stream",
          "text": [
            "Map: 100%|██████████| 989/989 [00:00<00:00, 1094.03 examples/s]\n",
            "Map: 100%|██████████| 248/248 [00:00<00:00, 1004.05 examples/s]\n"
          ]
        },
        {
          "name": "stdout",
          "output_type": "stream",
          "text": [
            "encoding for: 1024_256\n"
          ]
        },
        {
          "name": "stderr",
          "output_type": "stream",
          "text": [
            "Map: 100%|██████████| 989/989 [00:00<00:00, 1095.24 examples/s]\n",
            "Map: 100%|██████████| 248/248 [00:00<00:00, 964.98 examples/s] \n"
          ]
        },
        {
          "name": "stdout",
          "output_type": "stream",
          "text": [
            "encoding for: 2048_128\n"
          ]
        },
        {
          "name": "stderr",
          "output_type": "stream",
          "text": [
            "Map: 100%|██████████| 989/989 [00:01<00:00, 961.87 examples/s] \n",
            "Map: 100%|██████████| 248/248 [00:00<00:00, 810.46 examples/s]\n"
          ]
        },
        {
          "name": "stdout",
          "output_type": "stream",
          "text": [
            "encoding for: 2048_256\n"
          ]
        },
        {
          "name": "stderr",
          "output_type": "stream",
          "text": [
            "Map: 100%|██████████| 989/989 [00:01<00:00, 957.68 examples/s]\n",
            "Map: 100%|██████████| 248/248 [00:00<00:00, 756.09 examples/s]"
          ]
        },
        {
          "name": "stdout",
          "output_type": "stream",
          "text": [
            "\n",
            "tokenized seq lengths:\n",
            "- 1024_128\n",
            "- 1024_256\n",
            "- 2048_128\n",
            "- 2048_256\n"
          ]
        },
        {
          "name": "stderr",
          "output_type": "stream",
          "text": [
            "\n"
          ]
        }
      ],
      "source": [
        "from transformers import AutoTokenizer\n",
        "\n",
        "#loads the tokenizer for the t5 model\n",
        "text_tokenizer = AutoTokenizer.from_pretrained(\"t5-small\")\n",
        "\n",
        "#defines the input and summary length limits to test\n",
        "TEXT_LEN_1024 = 1024\n",
        "TEXT_LEN_2048 = 2048\n",
        "SUMMARY_LEN_128 = 128\n",
        "SUMMARY_LEN_256 = 256\n",
        "\n",
        "#list of each length configuration by name and size\n",
        "lengths = [\n",
        "    {\"name\": \"1024_128\", \"input_len\": TEXT_LEN_1024, \"summary_len\": SUMMARY_LEN_128},\n",
        "    {\"name\": \"1024_256\", \"input_len\": TEXT_LEN_1024, \"summary_len\": SUMMARY_LEN_256},\n",
        "    {\"name\": \"2048_128\", \"input_len\": TEXT_LEN_2048, \"summary_len\": SUMMARY_LEN_128},\n",
        "    {\"name\": \"2048_256\", \"input_len\": TEXT_LEN_2048, \"summary_len\": SUMMARY_LEN_256},\n",
        "]\n",
        "\n",
        "#dictionary to store the tokenized dataset for each setting\n",
        "tokenized_by_length = {}\n",
        "\n",
        "#function to tokenize one example using the input and summary limits\n",
        "def encode_text_and_summary(example, input_len, summary_len):\n",
        "    text_tokens = text_tokenizer(\n",
        "        example[\"text\"],\n",
        "        max_length=input_len,           #tokenize the bill text\n",
        "        truncation=True,\n",
        "        padding=\"max_length\"\n",
        "    )\n",
        "\n",
        "    summary_tokens = text_tokenizer(\n",
        "        example[\"summary\"],\n",
        "        max_length=summary_len,            #tokenize the summary tex\n",
        "        truncation=True,\n",
        "        padding=\"max_length\"\n",
        "    )\n",
        "\n",
        "    return {\n",
        "        \"input_ids\": text_tokens[\"input_ids\"],\n",
        "        \"attention_mask\": text_tokens[\"attention_mask\"],         #return a dictionary of token ids and attention mask - helps the model ignore the padding and focus on the real text which tokens are real (1) and which are just padding (0)\n",
        "        \"labels\": summary_tokens[\"input_ids\"]\n",
        "    }\n",
        "\n",
        "#loop through each length config and tokenize the dataset\n",
        "for length in lengths:\n",
        "    print(f\"encoding for: {length['name']}\")\n",
        "    processed = billsum.map(\n",
        "        lambda x: encode_text_and_summary(x, length[\"input_len\"], length[\"summary_len\"]),\n",
        "        batched=True\n",
        "    )\n",
        "    tokenized_by_length[length[\"name\"]] = processed\n",
        "\n",
        "#print the names of the configs that were processed\n",
        "print(\"\\ntokenized seq lengths:\")\n",
        "for name in tokenized_by_length:\n",
        "    print(f\"- {name}\")\n"
      ]
    },
    {
      "cell_type": "code",
      "execution_count": null,
      "metadata": {},
      "outputs": [],
      "source": [
        "from torch.utils.data import Dataset\n",
        "\n",
        "\n",
        "#defines a custom dataset\n",
        "class Seq2SeqDataset(Dataset):\n",
        "    def __init__(self, data):\n",
        "        self.input_ids = data[\"input_ids\"]\n",
        "        self.attention_mask = data[\"attention_mask\"]\n",
        "        self.labels = data[\"labels\"]\n",
        "\n",
        "    #returns the number of examples\n",
        "    def __len__(self):\n",
        "        return len(self.input_ids)\n",
        "\n",
        "    #returns a single example as a dictionary of tensors\n",
        "    def __getitem__(self, idx):\n",
        "        return {\n",
        "            \"input_ids\": torch.tensor(self.input_ids[idx], dtype=torch.long),\n",
        "            \"attention_mask\": torch.tensor(self.attention_mask[idx], dtype=torch.long),\n",
        "            \"labels\": torch.tensor(self.labels[idx], dtype=torch.long)\n",
        "        }\n"
      ]
    },
    {
      "cell_type": "markdown",
      "metadata": {},
      "source": [
        "### 2.2 && 2.3 - Model Setup and Varying Sequence Lengths"
      ]
    },
    {
      "cell_type": "code",
      "execution_count": null,
      "metadata": {},
      "outputs": [],
      "source": [
        "import torch.nn as nn\n",
        "\n",
        "#basic seq2seq model with LSTM encoder + decoder\n",
        "class Seq2SeqLSTM(nn.Module):\n",
        "    def __init__(self, vocab_size, embed_dim, hidden_dim, input_len, target_len, dropout=0.1):\n",
        "        super().__init__()\n",
        "\n",
        "        #turn token IDs into word vectors\n",
        "        self.embed = nn.Embedding(vocab_size, embed_dim)\n",
        "\n",
        "        #encoder LSTM reads the input and gives us final hidden states\n",
        "        self.encoder_lstm = nn.LSTM(embed_dim, hidden_dim, batch_first=True)\n",
        "\n",
        "        #decoder LSTM uses encoder output and tries to generate summary\n",
        "        self.decoder_lstm = nn.LSTM(embed_dim, hidden_dim, batch_first=True)\n",
        "\n",
        "        #final layer that maps decoder output to vocab scores\n",
        "        self.fc_out = nn.Linear(hidden_dim, vocab_size)\n",
        "\n",
        "        #dropout\n",
        "        self.dropout = nn.Dropout(dropout)\n",
        "\n",
        "        #save input and output lengths just in case\n",
        "        self.input_len = input_len\n",
        "        self.target_len = target_len\n",
        "\n",
        "    #runs input and target through the model\n",
        "    def forward(self, src, tgt):\n",
        "        #embed the input tokens and apply dropout\n",
        "        embedded_src = self.dropout(self.embed(src))\n",
        "\n",
        "        #pass input through encoder LSTM\n",
        "        _, (hidden, cell) = self.encoder_lstm(embedded_src)\n",
        "\n",
        "        #embed the decoder input (target tokens) and dropout\n",
        "        embedded_tgt = self.dropout(self.embed(tgt))\n",
        "\n",
        "        #pass through decoder LSTM using encoder's hidden states\n",
        "        decoder_outputs, _ = self.decoder_lstm(embedded_tgt, (hidden, cell))\n",
        "\n",
        "        #get vocab predictions from decoder outputs\n",
        "        return self.fc_out(decoder_outputs)\n"
      ]
    },
    {
      "cell_type": "code",
      "execution_count": 21,
      "metadata": {},
      "outputs": [],
      "source": [
        "def train_model(model, train_loader, optimizer, criterion, device, epochs=3):\n",
        "    #set model to training mode\n",
        "    model.train()\n",
        "\n",
        "    for epoch in range(epochs):\n",
        "        total_loss = 0\n",
        "\n",
        "        for batch in train_loader:\n",
        "            #move inputs and labels to the correct device\n",
        "            input_ids = batch[\"input_ids\"].to(device)\n",
        "            labels = batch[\"labels\"].to(device)\n",
        "\n",
        "            #prepare decoder input and target by shifting labels\n",
        "            decoder_input = labels[:, :-1]\n",
        "            decoder_target = labels[:, 1:]\n",
        "\n",
        "            #forward pass through the model\n",
        "            outputs = model(input_ids, decoder_input)\n",
        "\n",
        "            #reshape outputs and targets for loss calculation\n",
        "            outputs = outputs.reshape(-1, outputs.shape[-1])\n",
        "            decoder_target = decoder_target.reshape(-1)\n",
        "\n",
        "            #calculate loss\n",
        "            loss = criterion(outputs, decoder_target)\n",
        "\n",
        "            #backpropagation and optimizer step\n",
        "            optimizer.zero_grad()\n",
        "            loss.backward()\n",
        "            optimizer.step()\n",
        "\n",
        "            #accumulate batch loss\n",
        "            total_loss += loss.item()\n",
        "\n",
        "        #print average loss for the epoch\n",
        "        print(f\"Epoch {epoch+1}/{epochs} - Loss: {total_loss / len(train_loader):.4f}\")\n"
      ]
    },
    {
      "cell_type": "code",
      "execution_count": 22,
      "metadata": {},
      "outputs": [],
      "source": [
        "import evaluate\n",
        "\n",
        "def evaluate_bleu(model, test_loader, tokenizer, device):\n",
        "    #set model to evaluation mode\n",
        "    model.eval()\n",
        "\n",
        "    #load bleu evaluation metric\n",
        "    bleu = evaluate.load(\"bleu\")\n",
        "    predictions, references = [], []\n",
        "\n",
        "    with torch.no_grad():\n",
        "        for batch in test_loader:\n",
        "            #move input and labels to the device\n",
        "            input_ids = batch[\"input_ids\"].to(device)\n",
        "            labels = batch[\"labels\"].to(device)\n",
        "\n",
        "            #prepare decoder input from labels\n",
        "            decoder_input = labels[:, :-1]\n",
        "\n",
        "            #get model predictions\n",
        "            output_logits = model(input_ids, decoder_input)\n",
        "            pred_ids = torch.argmax(output_logits, dim=-1)\n",
        "\n",
        "            #decode predictions and labels to strings\n",
        "            decoded_preds = tokenizer.batch_decode(pred_ids, skip_special_tokens=True)\n",
        "            decoded_labels = tokenizer.batch_decode(labels, skip_special_tokens=True)\n",
        "\n",
        "            #collect results\n",
        "            predictions.extend(decoded_preds)\n",
        "            references.extend([[ref] for ref in decoded_labels])\n",
        "\n",
        "    #compute and return bleu score\n",
        "    score = bleu.compute(predictions=predictions, references=references)\n",
        "    return score[\"bleu\"]\n"
      ]
    },
    {
      "cell_type": "code",
      "execution_count": null,
      "metadata": {},
      "outputs": [
        {
          "name": "stdout",
          "output_type": "stream",
          "text": [
            "\n",
            "Training model for sequence lengths: 1024_128\n",
            "Epoch 1/20 - Loss: 7.2116\n",
            "Epoch 2/20 - Loss: 5.8558\n",
            "Epoch 3/20 - Loss: 5.4673\n",
            "Epoch 4/20 - Loss: 5.2014\n",
            "Epoch 5/20 - Loss: 5.0020\n",
            "Epoch 6/20 - Loss: 4.8375\n",
            "Epoch 7/20 - Loss: 4.6952\n",
            "Epoch 8/20 - Loss: 4.5693\n",
            "Epoch 9/20 - Loss: 4.4529\n",
            "Epoch 10/20 - Loss: 4.3488\n",
            "Epoch 11/20 - Loss: 4.2549\n",
            "Epoch 12/20 - Loss: 4.1677\n",
            "Epoch 13/20 - Loss: 4.0849\n",
            "Epoch 14/20 - Loss: 4.0067\n",
            "Epoch 15/20 - Loss: 3.9373\n",
            "Epoch 16/20 - Loss: 3.8704\n",
            "Epoch 17/20 - Loss: 3.8072\n",
            "Epoch 18/20 - Loss: 3.7438\n",
            "Epoch 19/20 - Loss: 3.6879\n",
            "Epoch 20/20 - Loss: 3.6328\n",
            "BLEU score for 1024_128: 0.0713\n",
            "\n",
            "Training model for sequence lengths: 1024_256\n",
            "Epoch 1/20 - Loss: 7.1715\n",
            "Epoch 2/20 - Loss: 5.9397\n",
            "Epoch 3/20 - Loss: 5.5549\n",
            "Epoch 4/20 - Loss: 5.2800\n",
            "Epoch 5/20 - Loss: 5.0753\n",
            "Epoch 6/20 - Loss: 4.9100\n",
            "Epoch 7/20 - Loss: 4.7751\n",
            "Epoch 8/20 - Loss: 4.6554\n",
            "Epoch 9/20 - Loss: 4.5506\n",
            "Epoch 10/20 - Loss: 4.4527\n",
            "Epoch 11/20 - Loss: 4.3661\n",
            "Epoch 12/20 - Loss: 4.2882\n",
            "Epoch 13/20 - Loss: 4.2152\n",
            "Epoch 14/20 - Loss: 4.1455\n",
            "Epoch 15/20 - Loss: 4.0826\n",
            "Epoch 16/20 - Loss: 4.0203\n",
            "Epoch 17/20 - Loss: 3.9642\n",
            "Epoch 18/20 - Loss: 3.9112\n",
            "Epoch 19/20 - Loss: 3.8598\n",
            "Epoch 20/20 - Loss: 3.8111\n",
            "BLEU score for 1024_256: 0.0774\n",
            "\n",
            "Training model for sequence lengths: 2048_128\n",
            "Epoch 1/20 - Loss: 7.1834\n",
            "Epoch 2/20 - Loss: 5.8486\n",
            "Epoch 3/20 - Loss: 5.4582\n",
            "Epoch 4/20 - Loss: 5.1916\n",
            "Epoch 5/20 - Loss: 4.9869\n",
            "Epoch 6/20 - Loss: 4.8171\n",
            "Epoch 7/20 - Loss: 4.6766\n",
            "Epoch 8/20 - Loss: 4.5482\n",
            "Epoch 9/20 - Loss: 4.4315\n",
            "Epoch 10/20 - Loss: 4.3304\n",
            "Epoch 11/20 - Loss: 4.2353\n",
            "Epoch 12/20 - Loss: 4.1479\n",
            "Epoch 13/20 - Loss: 4.0674\n",
            "Epoch 14/20 - Loss: 3.9943\n",
            "Epoch 15/20 - Loss: 3.9226\n",
            "Epoch 16/20 - Loss: 3.8540\n",
            "Epoch 17/20 - Loss: 3.7926\n",
            "Epoch 18/20 - Loss: 3.7348\n",
            "Epoch 19/20 - Loss: 3.6785\n",
            "Epoch 20/20 - Loss: 3.6247\n",
            "BLEU score for 2048_128: 0.0776\n",
            "\n",
            "Training model for sequence lengths: 2048_256\n",
            "Epoch 1/20 - Loss: 7.1787\n",
            "Epoch 2/20 - Loss: 5.9342\n",
            "Epoch 3/20 - Loss: 5.5303\n",
            "Epoch 4/20 - Loss: 5.2536\n",
            "Epoch 5/20 - Loss: 5.0498\n",
            "Epoch 6/20 - Loss: 4.8885\n",
            "Epoch 7/20 - Loss: 4.7503\n",
            "Epoch 8/20 - Loss: 4.6321\n",
            "Epoch 9/20 - Loss: 4.5264\n",
            "Epoch 10/20 - Loss: 4.4327\n",
            "Epoch 11/20 - Loss: 4.3441\n",
            "Epoch 12/20 - Loss: 4.2638\n",
            "Epoch 13/20 - Loss: 4.1869\n",
            "Epoch 14/20 - Loss: 4.1186\n",
            "Epoch 15/20 - Loss: 4.0573\n",
            "Epoch 16/20 - Loss: 3.9943\n",
            "Epoch 17/20 - Loss: 3.9362\n",
            "Epoch 18/20 - Loss: 3.8863\n",
            "Epoch 19/20 - Loss: 3.8328\n",
            "Epoch 20/20 - Loss: 3.7852\n",
            "BLEU score for 2048_256: 0.0819\n"
          ]
        }
      ],
      "source": [
        "import os\n",
        "from torch.utils.data import DataLoader\n",
        "\n",
        "device = torch.device(\"cuda\" if torch.cuda.is_available() else \"cpu\")\n",
        "\n",
        "#store bleu scores for eachg input and summary length combination\n",
        "results = []\n",
        "\n",
        "#loop through each input and summariy length config\n",
        "for length in lengths:\n",
        "    name = length[\"name\"]\n",
        "    input_len = length[\"input_len\"]\n",
        "    summary_len = length[\"summary_len\"]\n",
        "\n",
        "   #define the model save path using sequence lengths\n",
        "    model_path = f\"model_with_inputlen={input_len},summarylen={summary_len}.pt\"\n",
        "\n",
        "    #load the tokenized dataset for the current length setting\n",
        "    data = tokenized_by_length[name]\n",
        "    train_dataset = Seq2SeqDataset(data[\"train\"])\n",
        "    test_dataset = Seq2SeqDataset(data[\"test\"])\n",
        "\n",
        "    #create dataloaders for training and evaluation - wraps dataset and lets easily batch, shuffle, and load data during training \n",
        "    # helps avoid loading everything into memory at once and handles batching automatically\n",
        "    train_loader = DataLoader(train_dataset, batch_size=16, shuffle=True)\n",
        "    test_loader = DataLoader(test_dataset, batch_size=16)\n",
        "\n",
        "    #initialize the model with the currentt sequence lengths\n",
        "    model = Seq2SeqLSTM(\n",
        "        vocab_size=text_tokenizer.vocab_size,\n",
        "        embed_dim=128,\n",
        "        hidden_dim=256,\n",
        "        input_len=input_len,\n",
        "        target_len=summary_len,\n",
        "        dropout=0.3\n",
        "    ).to(device)\n",
        "\n",
        "    #load model if exists\n",
        "    if os.path.exists(model_path):\n",
        "        print(f\"Loading found model: {model_path}\")\n",
        "        model.load_state_dict(torch.load(model_path, map_location=device))\n",
        "        model.eval()\n",
        "    else:\n",
        "        print(f\"\\nTraining model for sequence lengths: {name}\")\n",
        "        optimizer = torch.optim.Adam(model.parameters(), lr=0.001)\n",
        "        criterion = nn.CrossEntropyLoss(ignore_index=text_tokenizer.pad_token_id)\n",
        "        train_model(model, train_loader, optimizer, criterion, device, epochs=20)\n",
        "        torch.save(model.state_dict(), model_path)\n",
        "\n",
        "    #evaluate the model using bleu score and store the result\n",
        "    bleu_score = evaluate_bleu(model, test_loader, text_tokenizer, device)\n",
        "    results.append((name, bleu_score))\n",
        "    print(f\"BLEU score for {name}: {bleu_score:.4f}\")\n"
      ]
    },
    {
      "cell_type": "code",
      "execution_count": null,
      "metadata": {},
      "outputs": [
        {
          "name": "stdout",
          "output_type": "stream",
          "text": [
            "\n",
            "Final BLEU Scores:\n",
            "1024_128: BLEU = 0.0713\n",
            "1024_256: BLEU = 0.0774\n",
            "2048_128: BLEU = 0.0776\n",
            "2048_256: BLEU = 0.0819\n",
            "\n",
            "Best Sequence Length:\n",
            "Seq Len: 2048_256\n",
            "BLEU Score: 0.0819\n"
          ]
        }
      ],
      "source": [
        "#print all bleu scores for each sequence length config\n",
        "print(\"\\nFinal BLEU Scores:\")\n",
        "for name, score in results:\n",
        "    print(f\"{name}: BLEU = {score:.4f}\")\n",
        "\n",
        "#find the length config with the highest bleu score\n",
        "best_seq_config = max(results, key=lambda x: x[1])\n",
        "\n",
        "#print the best performing length\n",
        "print(\"\\nBest Sequence Length:\")\n",
        "print(f\"Seq Len: {best_seq_config[0]}\")\n",
        "print(f\"BLEU Score: {best_seq_config[1]:.4f}\")\n"
      ]
    },
    {
      "cell_type": "markdown",
      "metadata": {},
      "source": [
        "### 2.4 - Hyperparameting Tuning"
      ]
    },
    {
      "cell_type": "code",
      "execution_count": null,
      "metadata": {},
      "outputs": [
        {
          "name": "stdout",
          "output_type": "stream",
          "text": [
            "\n",
            "Training with parameters: embed=128,hidden=256,dropout=0.3,lr=0.001\n",
            "Epoch 1/20 - Loss: 7.2039\n",
            "Epoch 2/20 - Loss: 5.9308\n",
            "Epoch 3/20 - Loss: 5.5208\n",
            "Epoch 4/20 - Loss: 5.2461\n",
            "Epoch 5/20 - Loss: 5.0450\n",
            "Epoch 6/20 - Loss: 4.8815\n",
            "Epoch 7/20 - Loss: 4.7441\n",
            "Epoch 8/20 - Loss: 4.6256\n",
            "Epoch 9/20 - Loss: 4.5204\n",
            "Epoch 10/20 - Loss: 4.4241\n",
            "Epoch 11/20 - Loss: 4.3362\n",
            "Epoch 12/20 - Loss: 4.2563\n",
            "Epoch 13/20 - Loss: 4.1802\n",
            "Epoch 14/20 - Loss: 4.1107\n",
            "Epoch 15/20 - Loss: 4.0485\n",
            "Epoch 16/20 - Loss: 3.9877\n",
            "Epoch 17/20 - Loss: 3.9301\n",
            "Epoch 18/20 - Loss: 3.8766\n",
            "Epoch 19/20 - Loss: 3.8263\n",
            "Epoch 20/20 - Loss: 3.7773\n",
            "BLEU score for embed=128,hidden=256,dropout=0.3,lr=0.001: 0.0809\n",
            "\n",
            "Training with parameters: embed=256,hidden=512,dropout=0.2,lr=0.0005\n",
            "Epoch 1/20 - Loss: 7.1627\n",
            "Epoch 2/20 - Loss: 5.7748\n",
            "Epoch 3/20 - Loss: 5.3809\n",
            "Epoch 4/20 - Loss: 5.1268\n",
            "Epoch 5/20 - Loss: 4.9320\n",
            "Epoch 6/20 - Loss: 4.7718\n",
            "Epoch 7/20 - Loss: 4.6307\n",
            "Epoch 8/20 - Loss: 4.5049\n",
            "Epoch 9/20 - Loss: 4.3922\n",
            "Epoch 10/20 - Loss: 4.2910\n",
            "Epoch 11/20 - Loss: 4.1981\n",
            "Epoch 12/20 - Loss: 4.1147\n",
            "Epoch 13/20 - Loss: 4.0354\n",
            "Epoch 14/20 - Loss: 3.9624\n",
            "Epoch 15/20 - Loss: 3.8892\n",
            "Epoch 16/20 - Loss: 3.8254\n",
            "Epoch 17/20 - Loss: 3.7649\n",
            "Epoch 18/20 - Loss: 3.7060\n",
            "Epoch 19/20 - Loss: 3.6501\n",
            "Epoch 20/20 - Loss: 3.5951\n",
            "BLEU score for embed=256,hidden=512,dropout=0.2,lr=0.0005: 0.0945\n",
            "\n",
            "Training with parameters: embed=512,hidden=512,dropout=0.1,lr=0.001\n",
            "Epoch 1/20 - Loss: 6.4450\n",
            "Epoch 2/20 - Loss: 5.0549\n",
            "Epoch 3/20 - Loss: 4.6032\n",
            "Epoch 4/20 - Loss: 4.2927\n",
            "Epoch 5/20 - Loss: 4.0508\n",
            "Epoch 6/20 - Loss: 3.8511\n",
            "Epoch 7/20 - Loss: 3.6790\n",
            "Epoch 8/20 - Loss: 3.5294\n",
            "Epoch 9/20 - Loss: 3.3952\n",
            "Epoch 10/20 - Loss: 3.2737\n",
            "Epoch 11/20 - Loss: 3.1644\n",
            "Epoch 12/20 - Loss: 3.0600\n",
            "Epoch 13/20 - Loss: 2.9649\n",
            "Epoch 14/20 - Loss: 2.8765\n",
            "Epoch 15/20 - Loss: 2.7927\n",
            "Epoch 16/20 - Loss: 2.7180\n",
            "Epoch 17/20 - Loss: 2.6429\n",
            "Epoch 18/20 - Loss: 2.5704\n",
            "Epoch 19/20 - Loss: 2.5066\n",
            "Epoch 20/20 - Loss: 2.4403\n",
            "BLEU score for embed=512,hidden=512,dropout=0.1,lr=0.001: 0.1518\n"
          ]
        }
      ],
      "source": [
        "#define different sets of hyperparameters to try\n",
        "hyperparameter_tunings = [\n",
        "    {\"name\": \"embed=128,hidden=256,dropout=0.3,lr=0.001\", \"embed_dim\": 128, \"hidden_dim\": 256, \"dropout\": 0.3, \"lr\": 0.001},\n",
        "    {\"name\": \"embed=256,hidden=512,dropout=0.2,lr=0.0005\", \"embed_dim\": 256, \"hidden_dim\": 512, \"dropout\": 0.2, \"lr\": 0.0005},\n",
        "    {\"name\": \"embed=512,hidden=512,dropout=0.1,lr=0.001\", \"embed_dim\": 512, \"hidden_dim\": 512, \"dropout\": 0.1, \"lr\": 0.001},\n",
        "                        ]\n",
        "\n",
        "#select the sequence length setting that performed best from before\n",
        "base_config = [length for length in lengths if length[\"name\"] == best_seq_config[0]][0]\n",
        "data = tokenized_by_length[base_config[\"name\"]]\n",
        "\n",
        "#prepare datasets and loaders based on the best sequence length\n",
        "train_dataset = Seq2SeqDataset(data[\"train\"])\n",
        "test_dataset = Seq2SeqDataset(data[\"test\"])\n",
        "train_loader = DataLoader(train_dataset, batch_size=16, shuffle=True)\n",
        "test_loader = DataLoader(test_dataset, batch_size=16)\n",
        "\n",
        "#store bleu scores for each tuned model\n",
        "tuned_results = []\n",
        "\n",
        "#loop through each of hyperparameters\n",
        "for params in hyperparameter_tunings:\n",
        "    #a path for saving or loading the model\n",
        "    model_path = f\"model_with_embed={params['embed_dim']},hidden={params['hidden_dim']},dropout={params['dropout']},learningrate={params['lr']}.pt\"\n",
        "\n",
        "    #initialize the model with the current hyperparameter values\n",
        "    model = Seq2SeqLSTM(\n",
        "        vocab_size=text_tokenizer.vocab_size,\n",
        "        embed_dim=params[\"embed_dim\"],\n",
        "        hidden_dim=params[\"hidden_dim\"],\n",
        "        input_len=base_config[\"input_len\"],\n",
        "        target_len=base_config[\"summary_len\"],\n",
        "        dropout=params[\"dropout\"]\n",
        "    ).to(device)\n",
        "\n",
        "    #load the model\n",
        "    if os.path.exists(model_path):\n",
        "        print(f\"Loading model {model_path}\")\n",
        "        model.load_state_dict(torch.load(model_path, map_location=device))\n",
        "        model.eval()\n",
        "    else:\n",
        "        print(f\"\\nTraining with parameters: {params['name']}\")\n",
        "        optimizer = torch.optim.Adam(model.parameters(), lr=params[\"lr\"])\n",
        "        criterion = nn.CrossEntropyLoss(ignore_index=text_tokenizer.pad_token_id)\n",
        "        train_model(model, train_loader, optimizer, criterion, device, epochs=20)\n",
        "        torch.save(model.state_dict(), model_path)\n",
        "\n",
        "    #evaluate bleu score and store the resultk\n",
        "    bleu_score = evaluate_bleu(model, test_loader, text_tokenizer, device)\n",
        "    tuned_results.append((params[\"name\"], bleu_score))\n",
        "    print(f\"BLEU score for {params['name']}: {bleu_score:.4f}\")\n"
      ]
    },
    {
      "cell_type": "code",
      "execution_count": null,
      "metadata": {},
      "outputs": [
        {
          "name": "stdout",
          "output_type": "stream",
          "text": [
            "\n",
            "Best hyperparameter setup:\n",
            "name: embed=512,hidden=512,dropout=0.1,lr=0.001\n",
            "bleu score: 0.1518\n",
            "\n",
            "hyperparameters:\n",
            "embedding dim: 512\n",
            "hidden dim: 512\n",
            "dropout: 0.1\n",
            "learning rate: 0.001\n"
          ]
        }
      ],
      "source": [
        "#find the hyperparameter setting with the highest bleu\n",
        "best_param_config = max(tuned_results, key=lambda x: x[1])\n",
        "\n",
        "#print best performing hyperparameter configv\n",
        "print(\"\\nBest hyperparameter setup:\")\n",
        "print(f\"name: {best_param_config[0]}\")\n",
        "print(f\"bleu score: {best_param_config[1]:.4f}\")\n",
        "\n",
        "#printthe best values for the best settings of params\n",
        "for params in hyperparameter_tunings:\n",
        "    if params[\"name\"] == best_param_config[0]:\n",
        "        final_hyperparams = params\n",
        "        print(\"\\nhyperparameters:\")\n",
        "        print(f\"embedding dim: {params['embed_dim']}\")\n",
        "        print(f\"hidden dim: {params['hidden_dim']}\")\n",
        "        print(f\"dropout: {params['dropout']}\")\n",
        "        print(f\"learning rate: {params['lr']}\")\n"
      ]
    },
    {
      "cell_type": "code",
      "execution_count": null,
      "metadata": {},
      "outputs": [
        {
          "name": "stdout",
          "output_type": "stream",
          "text": [
            "\n",
            "final best model bleu score: 0.1518\n",
            "model loaded from: model_with_embed=512,hidden=512,dropout=0.1,learningrate=0.001.pt\n",
            "final model saved as: model_final_best_model.pt\n"
          ]
        }
      ],
      "source": [
        "#build the path to the bestmodel using selected hyperparams\n",
        "final_model_path = f\"model_with_embed={final_hyperparams['embed_dim']},hidden={final_hyperparams['hidden_dim']},dropout={final_hyperparams['dropout']},learningrate={final_hyperparams['lr']}.pt\"\n",
        "\n",
        "#initialize the model using the best seq length and hyperparams from before\n",
        "final_model = Seq2SeqLSTM(\n",
        "    vocab_size=text_tokenizer.vocab_size,\n",
        "    embed_dim=final_hyperparams[\"embed_dim\"],\n",
        "    hidden_dim=final_hyperparams[\"hidden_dim\"],\n",
        "    input_len=base_config[\"input_len\"],\n",
        "    target_len=base_config[\"summary_len\"],\n",
        "    dropout=final_hyperparams[\"dropout\"]\n",
        ").to(device)\n",
        "\n",
        "#load the saved tuned model from disk\n",
        "final_model.load_state_dict(torch.load(final_model_path, map_location=device))\n",
        "final_model.eval()\n",
        "\n",
        "#prepare the test set based on the best seq length\n",
        "final_data = tokenized_by_length[best_seq_config[0]]\n",
        "final_test_dataset = Seq2SeqDataset(final_data[\"test\"])\n",
        "final_test_loader = DataLoader(final_test_dataset, batch_size=16)\n",
        "\n",
        "#evaluate BLEUon the final model\n",
        "final_bleu = evaluate_bleu(final_model, final_test_loader, text_tokenizer, device)\n",
        "print(f\"\\nfinal best model bleu score: {final_bleu:.4f}\")\n",
        "print(f\"model loaded from: {final_model_path}\")\n",
        "\n",
        "#save the final model filename\n",
        "torch.save(final_model.state_dict(), \"model_final_best_model.pt\")\n",
        "print(\"final model saved as: model_final_best_model.pt\")\n"
      ]
    },
    {
      "cell_type": "code",
      "execution_count": 53,
      "metadata": {},
      "outputs": [
        {
          "name": "stdout",
          "output_type": "stream",
          "text": [
            "\n",
            "Input Text 1:\n",
            "The people of the State of California do enact as follows: SECTION 1. (a) The Legislature finds and declares all of the following: (1) All pupils deserve and need safe and supportive school environments in which to learn. (2) Pupils who are Muslim, Sikh, or of South Asian descent often face verbal, ...\n",
            "reference Summary:\n",
            "Existing law establishes the system of public elementary and secondary schools in this state, and provides for the establishment of local educational agencies to operate these schools and provide instruction to pupils. Existing law states the policy of the State of California to afford all persons in public schools, regardless of their disability, gender, gender identity, gender expression, nationality, race or ethnicity, religion, sexual orientation, or any other specified characteristic, equal rights and opportunities in the educational institutions of the state. Existing law, the Safe Place to Learn Act, requires the State Department of Education, as part of its regular monitoring and review of a local educational agency, to assess whether the local educational agency has, among other things, adopted a policy that prohibits discrimination, harassment, intimidation, and bullying, as specified, and has publicized that policy to pupils, parents, employees, agents of the governing board, and the general public. Existing law also requires the department to assess whether the local educational agency has provided to certificated schoolsite employees who serve pupils in any of grades 7 to 12, inclusive, information on existing schoolsite and community resources related to the support of lesbian, gay, bisexual, transgender, and questioning pupils\n",
            "predicted Summary:\n",
            "ing law requireses the California of California elementary and secondary schools in the state, and authorize for the regulation of  agencies agencies to provide schools programs and  instruction to students in Existing law requires the intent of the California Department California, establish  of to the schools, as of the respective or and, or identity, gender expression, or origin, and, other origin, or, or orientation, or other other state characteristic, including,, other of the state institution of the state. Existing law requires the California Neighborhood Act Learn Act, requires the State Department of Social to to defined of    and  of thea state agency agency to as provide  the use control agency’  among other things,  bya  that iss ation,, or,, or  of or specified. and requires  contracts or  and be in including, or, or, the governing board of and the board acute safety Thising law requires requires the board to provide  the use agency agency’  that thed annually districts,. are pupils in kindergarten of grades 9 to 12, inclusive, to, the law or, training college in to the state of thebian,, andsexual, andactment, and requiresing certain,\n",
            "\n",
            "Input Text 2:\n",
            "The people of the State of California do enact as follows: SECTION 1. Article 7.5 (commencing with Section 48317) is added to Chapter 2 of Part 27 of Division 4 of Title 2 of the Education Code, to read: Article 7.5. School District of Choice Continued Enrollment 48317. Notwithstanding any other law...\n",
            "reference Summary:\n",
            "Existing law, until July 1, 2017, authorizes the governing board of a school district to accept pupils from other school districts by adopting a resolution to become a school district of choice, as defined. This bill, commencing with July 1, 2017, would authorize a pupil attending a school in a school district of choice on or before July 1, 2017, to continue to attend that school if the school district of choice authorizes the pupil to do so. (1)Existing law makes a person who directs, supervises, recruits, or otherwise aids another person in the commission of an act of prostitution, or who collects or receives all or part of the proceeds earned from an act of prostitution committed by another person, guilty of a misdemeanor that is punishable by imprisonment in a county jail for no more than 6 months, by a fine not exceeding $1,000, or by both that imprisonment and fine. Existing law specifies circumstances that may be used to determine if a person has committed the offense, including repeatedly speaking or communicating with another person, or repeatedly or continuously monitoring or watching another person, who is loitering in a public place with the intent to commit\n",
            "predicted Summary:\n",
            "ing law requires the January 1, 2017, authorizes the boardgoverning board of a school district to adopt,  than district, the  a license or be a  district, the or or specified, Exist bill would foring July the 1, 2016, require require thea county who privatea school district a school district,  or or before July 1, 2017, to adopt to include  school districtif the person district is the ors   to be not that The Theisting law requires ita person who iss  or or, or,, or  discrimin in, or or the state of  accident or stitution to as  iss  s  other more-   of income the individual or stitution,, the or or or of a misdemeanor. is able by imprisonment in a county jail not not more than one months, or thea fine not exceeding $10,000, or  both that fine. s Thising law requiress that that  be  for the whethera thea person who been , as, ofs, the person, or  of  appropriate or   in or as is  in, or a firearm entity of   to be the\n",
            "\n",
            "Input Text 3:\n",
            "The people of the State of California do enact as follows: SECTION 1. Section 102230 of the Health and Safety Code is amended to read: 102230. (a) (1) The State Registrar shall arrange and permanently preserve the certificates in a systematic manner and shall prepare and maintain comprehensive and c...\n",
            "reference Summary:\n",
            "Existing law requires the State Registrar to administer the registration of births, deaths, fetal deaths, and marriages. Existing law requires the State Registrar to arrange and permanently preserve the certificates in a systematic manner and to prepare and maintain a comprehensive and continuous index of all certificates registered. Existing law requires that specified birth, death, and marriage record indices prepared or maintained by local registrars and county recorders be kept confidential. Existing law requires, notwithstanding these provisions, local registrars and county recorders to release, when requested, their comprehensive birth, death, and nonconfidential marriage record indices to the State Registrar. This bill would additionally authorize the local registrar to release birth and death record indices to the county recorder within its jurisdiction for purposes of the preparation or maintenance of the indices of the county recorder. The bill would extend application of specified access restrictions applicable to confidential portions of certificates of live birth to confidential birth record indices. Existing law prescribes specified personal information to be included on birth, death, and marriage certificates. Under existing law, a certified copy of a birth or death record may\n",
            "predicted Summary:\n",
            "ing law establish the State DepartmentArchitectar of adopting state of s and and, anda,aught, and requires and, Existing law requires the State DepartmentArchitectar of adopt to requires attached and state of thea manner of that the the  submit a program strategy training state. the state of of Existing law requires the the informations including, or requires and ofrelating..ness  and  agenciesgovernmentalars and the officess. included to and Theing law requires the amongaotwithstanding any services to to governmentssars of to officess to be the or the by or parents,, and, or otherresident servicesstrict.. and.relating., the  DepartmentArchitectar of This bill would require require the department agencygoverningar to include of,  of ofa,, the, of. the jurisdiction. the of the  of other of the schoolgoverning.. the California, of. This bill would also the for the provisions to to to the communication of the of the or and provide and,.relating.. Thising law requiress the requirements services regarding be  in s and, or  and of The existing law, thea person farmers of thea person or overseas of of be\n",
            "\n",
            "Input Text 4:\n",
            "The people of the State of California do enact as follows: SECTION 1. Section 127660 of the Health and Safety Code is amended to read: 127660. (a) The Legislature hereby requests the University of California to establish the California Health Benefit Review Program to assess legislation proposing to...\n",
            "reference Summary:\n",
            "Existing law, until July 1, 2017, requests the University of California to establish the California Health Benefit Review Program to assess, among other things, legislation that proposes to mandate or repeal a mandated benefit or service, as defined. Existing law requests the University of California to prepare a written analysis with relevant data on public health, medical, financial, and other impacts of that legislation, as specified. Existing law requests the University of California to provide the analysis to the appropriate policy and fiscal committees of the Legislature, as specified, and to submit a report to the Governor and the Legislature regarding the implementation of these provisions by January 1, 2017. Existing law establishes the Health Care Benefits Fund in the State Treasury to effectively support the University of California and its work in implementing these provisions. The California Health Benefit Review Program has been reauthorized since its predecessor was established in 2002. This bill would additionally request the University of California, commencing July 1, 2017, California to include in its analysis, as part of the financial impacts of the above legislation, relevant data on the impact of coverage or repeal of coverage of the benefit or service on anticipated costs or savings estimated upon implementation for the 2 subsequent state fiscal years and, if applicable, for the\n",
            "predicted Summary:\n",
            "ing law requires the January 1, 2017, authorize  Department of California, establish  California State ands and, establish the among other things, the, thes and thed thesa stated reporter plan  plan as defined, Existing law requires the Department of California, establish anda program report of respect approval regarding the schools care and assistance and assistance and evaluation benefits, low program, including specified. Existing law requires the Department of California, establish the California of include extent policy and the committees of the Legislature, in specified. and the the a report to the Legislature, the Department. the Department of the provisions. the 1, 20 Theing law requireses the California and Services and and, the State Treasury and be the the board of California, the powers to thea the provisions. This act Constitution Cares and requires  anameing funds  provisions- program and the and Exist bill would require require the intent of California, theing July 1, 2016, and, develop  the annual of and specified of  California stability of the California-. and information collection or Internet of the for thes the for the California of other of the., the to to  of the purposend year. year of the asif the,  the purpose\n",
            "\n",
            "Input Text 5:\n",
            "The people of the State of California do enact as follows: SECTION 1. The Legislature finds and declares all of the following: (a) K–12 students are particularly vulnerable to solicitations for educational leadership conferences or forums that may appear to be selective awards or competitive honors,...\n",
            "reference Summary:\n",
            "Existing law prohibits various specified advertising practices, including, among others, the placement by an educational travel organization, as defined, or use of any misleading or untruthful advertising or statements or making of a substantial misrepresentation in conducting an educational travel program. Under existing law, the violation of any of these prohibitions is a misdemeanor. This bill would require an educational conference organization, as defined, that provides materials related to an educational conference, as defined, directly to a school or school employee for purposes of distribution to a student to include specified disclosures with the materials, to provide those disclosures to the school and specified school employees, and to provide the materials in a sealed envelope or other packaging addressed to the parent or legal guardian of the student. As a violation of these provisions would be a crime, this bill would impose a state-mandated local program. The California Constitution requires the state to reimburse local agencies and school districts for certain costs mandated by the state. Statutory provisions establish procedures for making that reimbursement. This bill would provide that no reimbursement is required by this act for a specified reason.\n",
            "predicted Summary:\n",
            "ing law requiress   requirements of in including  among other,  California of the individual institution,, as defined, to  of  person or mannede, or space  of  that a public likelihooddempresentation, the  individual institution,. Exist existing law,   of these person  provisionss, a crimedemeanor. This bill would require the application institution to to as defined, to is for to to the individual institution, as defined, to or thea person district county district or the of thes thea person success be, informations. the  of as the the servicess and the state district county information district. as would the the information of thea school of and    by the department or guard guardian of the   This parta crime of these provisions is be a crime. this bill would impose a state-mandated local program. The California Constitution requires the state to reimburse local agencies and school districts for certain costs mandated by the state. Statutory provisions establish procedures for making that reimbursement. This bill would require that  reimbursement is required by this act for a specified reason.            \n"
          ]
        },
        {
          "name": "stderr",
          "output_type": "stream",
          "text": [
            "C:\\Users\\Joseph\\AppData\\Local\\Temp\\ipykernel_5268\\1642782150.py:5: UserWarning: To copy construct from a tensor, it is recommended to use sourceTensor.clone().detach() or sourceTensor.clone().detach().requires_grad_(True), rather than torch.tensor(sourceTensor).\n",
            "  input_ids = torch.tensor(sample_batch[\"input_ids\"]).unsqueeze(0).to(device)\n",
            "C:\\Users\\Joseph\\AppData\\Local\\Temp\\ipykernel_5268\\1642782150.py:6: UserWarning: To copy construct from a tensor, it is recommended to use sourceTensor.clone().detach() or sourceTensor.clone().detach().requires_grad_(True), rather than torch.tensor(sourceTensor).\n",
            "  labels = torch.tensor(sample_batch[\"labels\"]).to(device)\n"
          ]
        }
      ],
      "source": [
        "#select 5 examples from the test set (does amouunt matter?)\n",
        "sample_batch = final_test_dataset[:5]\n",
        "\n",
        "#move input and labels to device\n",
        "input_ids = torch.tensor(sample_batch[\"input_ids\"]).unsqueeze(0).to(device)\n",
        "labels = torch.tensor(sample_batch[\"labels\"]).to(device)\n",
        "\n",
        "#set model to eval mode and get thier predictions\n",
        "final_model.eval()\n",
        "with torch.no_grad():\n",
        "    decoder_input = labels[:, :-1]\n",
        "    output_logits = final_model(input_ids.squeeze(0), decoder_input)\n",
        "    pred_ids = torch.argmax(output_logits, dim=-1)\n",
        "\n",
        "#decode the predictions and ground truth summaries\n",
        "pred_summaries = text_tokenizer.batch_decode(pred_ids, skip_special_tokens=True)\n",
        "ref_summaries = text_tokenizer.batch_decode(labels, skip_special_tokens=True)\n",
        "og_texts = text_tokenizer.batch_decode(sample_batch[\"input_ids\"], skip_special_tokens=True)\n",
        "\n",
        "#print results\n",
        "for i in range(len(og_texts)):\n",
        "    print(f\"\\nInput Text {i+1}:\\n{og_texts[i][:300]}...\")\n",
        "    print(f\"reference Summary:\\n{ref_summaries[i]}\")\n",
        "    print(f\"predicted Summary:\\n{pred_summaries[i]}\")\n"
      ]
    },
    {
      "cell_type": "code",
      "execution_count": 55,
      "metadata": {},
      "outputs": [
        {
          "data": {
            "image/png": "[encoded data removed]",
            "text/plain": [
              "<Figure size 1000x600 with 1 Axes>"
            ]
          },
          "metadata": {},
          "output_type": "display_data"
        }
      ],
      "source": [
        "import matplotlib.pyplot as plt\n",
        "\n",
        "#extract names and scores\n",
        "names = [name for name, _ in tuned_results]\n",
        "scores = [score for _, score in tuned_results]\n",
        "\n",
        "#find best index\n",
        "best_index = scores.index(max(scores))\n",
        "\n",
        "#assign colors iu want green for best and blue fo rthe defualt\n",
        "colors = [\"tab:blue\"] * len(scores)\n",
        "colors[best_index] = \"tab:green\"\n",
        "\n",
        "#plot\n",
        "plt.figure(figsize=(10, 6))\n",
        "plt.bar(names, scores, color=colors)\n",
        "plt.ylabel(\"BLEU score\")\n",
        "plt.xlabel(\"hyperparameter setting\")\n",
        "plt.title(\"BLEU score comparison for hyperparameter tunings\")\n",
        "plt.xticks(rotation=35, ha=\"right\", fontsize=9)\n",
        "plt.grid(axis='y', linestyle='--', alpha=0.7)\n",
        "plt.tight_layout()\n",
        "plt.show()\n"
      ]
    },
    {
      "cell_type": "markdown",
      "metadata": {},
      "source": [
        "### RNN and Machine Translation Report\n",
        "\n",
        "---\n",
        "\n",
        "#### 1. Dataset and split prep\n",
        "\n",
        "The dataset has texts and then truth summaries. The ca_test subset was loaded and split into training and testing sets using train_test_split() as shown in assigment.\n",
        "\n",
        "---\n",
        "\n",
        "#### 2. Number of neurons, dropout, and RNN architecture\n",
        "\n",
        "For the initial seq2seq model:\n",
        "\n",
        "- RNN Architecture: 2-layer LSTM encoder + decoder\n",
        "- Embedding dimension: 128\n",
        "- Hidden dimension: 256\n",
        "- Dropout: 0.3\n",
        "- Loss: Cross-Entropy ignoring padding index\n",
        "- Evaluation Metric: BLEU\n",
        "\n",
        "Then model tested on different combinations of the input lentghs and summary lengths from the assingment.\n",
        "\n",
        "---\n",
        "\n",
        "#### 3. Sequence length Impact\n",
        "\n",
        "The following BLEU scores were recorded after training each configuration for 20 epochs:\n",
        "\n",
        "- 1024_128, BLEU = 0.0713\n",
        "- 1024_256, BLEU = 0.0774\n",
        "- 2048_128, BLEU = 0.0776\n",
        "- 2048_256, BLEU = 0.0819\n",
        "\n",
        "##### Best Sequence length\n",
        "\n",
        "- Input Length:   **2048** \n",
        "- Summary Length:     **256** \n",
        "- BLEU Score:      **0.0819**\n",
        "\n",
        "- Increasing the input and summary lengths improved the BLEU scores.\n",
        "- The best performance was made with the 2048_256 setting.\n",
        "\n",
        "---\n",
        "\n",
        "#### 4. Hyperparameter Tuning\n",
        "\n",
        "The following combinations of embedding dimension, hidden dimension, dropout rate, and learning rate were tested:\n",
        "\n",
        "- Configuration 1:\n",
        "  - Embedding dimension: 128  \n",
        "  - hidden dimension: 256  \n",
        "  - Dropout: 0.3  \n",
        "  - Learning rate: 0.001  \n",
        "  - BLEU score: 0.0809\n",
        "\n",
        "- Configuration 2:\n",
        "  - Embedding dimension: 256  \n",
        "  - Hidden dimension: 512  \n",
        "  - Dropout: 0.2  \n",
        "  - Learning rate: 0.0005  \n",
        "  - BLEU score: 0.0945\n",
        "\n",
        "- Configuration 3:\n",
        "  - Embedding dimension: 512  \n",
        "  - hidden dimension: 512  \n",
        "  - Dropout: 0.1  \n",
        "  - Learning rate: 0.001  \n",
        "  - BLEU score: 0.1518\n",
        "\n",
        "##### Best Hyperparameters\n",
        "\n",
        "  - Embedding dimension:      **512**\n",
        "  - Hidden dimension:      **512**  \n",
        "  - Dropout:     **0.1**\n",
        "  - Learning rate:    **0.001** \n",
        "  - BLEU score:   **0.1518**\n",
        "\n",
        "This tuning nearly doubled BLEU from the base model from before.\n",
        "\n",
        "---\n",
        "\n",
        "#### 5. Final Best Model\n",
        "\n",
        "The final model used:\n",
        "\n",
        "- Sequence text length:    **2048 input, 256 summary**\n",
        "- Embedding dimension:    **512**\n",
        "- Hidden dimensions:    **512**\n",
        "- Dropout:    **0.1**\n",
        "- Learning rate:    **0.001**\n",
        "- Epochs:    **20**\n",
        "- Final BLEU score:   **0.1518**\n",
        "\n",
        "\n",
        "The model was saved as: model_with_embed=512,hidden=512,dropout=0.1,learningrate=0.001.pt\n",
        "\n",
        "and then reloaded as: ``` model_final_best_model.pt ```\n",
        "\n",
        "---\n",
        "\n",
        "#### 6. Generated Output Examples\n",
        "\n",
        "5 examples were tested using the best model. The predicted summaries were more clear and relevant than the earlier ones I tested using fewer epochs and smaller embedding sizes, although those early tests weren’t shown in the final results because Im still learning how to manage notebooks and Pytorch. While the model did a better job capturing important information, the summaries still weren’t very strong overall, since the BLEU score was relatively low compared to what a large pre-trained model like T5 could produce.\n",
        "\n",
        "---\n",
        "\n",
        "#### Conclusion\n",
        "\n",
        "Through careful tuning of both sequence length and  hyperparameters, I improved the BLEU score from ~0.05 to **0.15**, showing a meaningful improvement in the model's summarization ability using seq2seq learning.\n"
      ]
    }
  ],
  "metadata": {
    "colab": {
      "authorship_tag": "ABX9TyMYdhpkmJC0hIGQbntHoRFI",
      "include_colab_link": true,
      "provenance": []
    },
    "kernelspec": {
      "display_name": "Python 3",
      "language": "python",
      "name": "python3"
    },
    "language_info": {
      "codemirror_mode": {
        "name": "ipython",
        "version": 3
      },
      "file_extension": ".py",
      "mimetype": "text/x-python",
      "name": "python",
      "nbconvert_exporter": "python",
      "pygments_lexer": "ipython3",
      "version": "3.12.5"
    }
  },
  "nbformat": 4,
  "nbformat_minor": 0
}
