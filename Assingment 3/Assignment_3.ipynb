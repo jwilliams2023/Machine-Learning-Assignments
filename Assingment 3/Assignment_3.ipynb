{
  "cells": [
    {
      "cell_type": "markdown",
      "metadata": {
        "colab_type": "text",
        "id": "view-in-github"
      },
      "source": [
        "<a href=\"https://colab.research.google.com/github/jwilliams2023/Machine-Learning-Assignments/blob/main/Assignment_3.ipynb\" target=\"_parent\"><img src=\"https://colab.research.google.com/assets/colab-badge.svg\" alt=\"Open In Colab\"/></a>"
      ]
    },
    {
      "cell_type": "markdown",
      "metadata": {
        "id": "OqiRSXyk9PUM"
      },
      "source": [
        "# Dependencies\n",
        "\n",
        "- numpy\n",
        "- pandas\n",
        "- matplotlib\n",
        "- seaborn\n",
        "- scikit-learn\n",
        "- nltk\n",
        "- gensim\n",
        "- datasets\n",
        "- transformers\n",
        "- torch\n",
        "- evaluate\n"
      ]
    },
    {
      "cell_type": "code",
      "execution_count": 1,
      "metadata": {
        "colab": {
          "base_uri": "https://localhost:8080/"
        },
        "id": "nV4_rVVK4z3L",
        "outputId": "bed850c3-273a-41c6-c706-03060a89073d"
      },
      "outputs": [
        {
          "name": "stdout",
          "output_type": "stream",
          "text": [
            "Defaulting to user installation because normal site-packages is not writeable\n",
            "Requirement already satisfied: numpy in c:\\users\\joseph\\appdata\\roaming\\python\\python312\\site-packages (1.26.4)\n",
            "Requirement already satisfied: pandas in c:\\users\\joseph\\appdata\\roaming\\python\\python312\\site-packages (2.2.3)\n",
            "Requirement already satisfied: matplotlib in c:\\users\\joseph\\appdata\\roaming\\python\\python312\\site-packages (3.10.1)\n",
            "Requirement already satisfied: seaborn in c:\\users\\joseph\\appdata\\roaming\\python\\python312\\site-packages (0.13.2)\n",
            "Requirement already satisfied: scikit-learn in c:\\users\\joseph\\appdata\\roaming\\python\\python312\\site-packages (1.6.1)\n",
            "Requirement already satisfied: nltk in c:\\users\\joseph\\appdata\\roaming\\python\\python312\\site-packages (3.9.1)\n",
            "Requirement already satisfied: gensim in c:\\users\\joseph\\appdata\\roaming\\python\\python312\\site-packages (4.3.3)\n",
            "Requirement already satisfied: datasets in c:\\users\\joseph\\appdata\\roaming\\python\\python312\\site-packages (3.5.0)\n",
            "Requirement already satisfied: transformers in c:\\users\\joseph\\appdata\\roaming\\python\\python312\\site-packages (4.51.0)\n",
            "Requirement already satisfied: python-dateutil>=2.8.2 in c:\\users\\joseph\\appdata\\roaming\\python\\python312\\site-packages (from pandas) (2.9.0.post0)\n",
            "Requirement already satisfied: pytz>=2020.1 in c:\\users\\joseph\\appdata\\roaming\\python\\python312\\site-packages (from pandas) (2025.2)\n",
            "Requirement already satisfied: tzdata>=2022.7 in c:\\users\\joseph\\appdata\\roaming\\python\\python312\\site-packages (from pandas) (2025.2)\n",
            "Requirement already satisfied: contourpy>=1.0.1 in c:\\users\\joseph\\appdata\\roaming\\python\\python312\\site-packages (from matplotlib) (1.3.1)\n",
            "Requirement already satisfied: cycler>=0.10 in c:\\users\\joseph\\appdata\\roaming\\python\\python312\\site-packages (from matplotlib) (0.12.1)\n",
            "Requirement already satisfied: fonttools>=4.22.0 in c:\\users\\joseph\\appdata\\roaming\\python\\python312\\site-packages (from matplotlib) (4.57.0)\n",
            "Requirement already satisfied: kiwisolver>=1.3.1 in c:\\users\\joseph\\appdata\\roaming\\python\\python312\\site-packages (from matplotlib) (1.4.8)\n",
            "Requirement already satisfied: packaging>=20.0 in c:\\users\\joseph\\appdata\\roaming\\python\\python312\\site-packages (from matplotlib) (24.2)\n",
            "Requirement already satisfied: pillow>=8 in c:\\users\\joseph\\appdata\\roaming\\python\\python312\\site-packages (from matplotlib) (11.1.0)\n",
            "Requirement already satisfied: pyparsing>=2.3.1 in c:\\users\\joseph\\appdata\\roaming\\python\\python312\\site-packages (from matplotlib) (3.2.3)\n",
            "Requirement already satisfied: scipy>=1.6.0 in c:\\users\\joseph\\appdata\\roaming\\python\\python312\\site-packages (from scikit-learn) (1.13.1)\n",
            "Requirement already satisfied: joblib>=1.2.0 in c:\\users\\joseph\\appdata\\roaming\\python\\python312\\site-packages (from scikit-learn) (1.4.2)\n",
            "Requirement already satisfied: threadpoolctl>=3.1.0 in c:\\users\\joseph\\appdata\\roaming\\python\\python312\\site-packages (from scikit-learn) (3.6.0)\n",
            "Requirement already satisfied: click in c:\\users\\joseph\\appdata\\roaming\\python\\python312\\site-packages (from nltk) (8.1.8)\n",
            "Requirement already satisfied: regex>=2021.8.3 in c:\\users\\joseph\\appdata\\roaming\\python\\python312\\site-packages (from nltk) (2024.11.6)\n",
            "Requirement already satisfied: tqdm in c:\\users\\joseph\\appdata\\roaming\\python\\python312\\site-packages (from nltk) (4.67.1)\n",
            "Requirement already satisfied: smart-open>=1.8.1 in c:\\users\\joseph\\appdata\\roaming\\python\\python312\\site-packages (from gensim) (7.1.0)\n",
            "Requirement already satisfied: filelock in c:\\users\\joseph\\appdata\\roaming\\python\\python312\\site-packages (from datasets) (3.18.0)\n",
            "Requirement already satisfied: pyarrow>=15.0.0 in c:\\users\\joseph\\appdata\\roaming\\python\\python312\\site-packages (from datasets) (19.0.1)\n",
            "Requirement already satisfied: dill<0.3.9,>=0.3.0 in c:\\users\\joseph\\appdata\\roaming\\python\\python312\\site-packages (from datasets) (0.3.8)\n",
            "Requirement already satisfied: requests>=2.32.2 in c:\\users\\joseph\\appdata\\roaming\\python\\python312\\site-packages (from datasets) (2.32.3)\n",
            "Requirement already satisfied: xxhash in c:\\users\\joseph\\appdata\\roaming\\python\\python312\\site-packages (from datasets) (3.5.0)\n",
            "Requirement already satisfied: multiprocess<0.70.17 in c:\\users\\joseph\\appdata\\roaming\\python\\python312\\site-packages (from datasets) (0.70.16)\n",
            "Requirement already satisfied: fsspec<=2024.12.0,>=2023.1.0 in c:\\users\\joseph\\appdata\\roaming\\python\\python312\\site-packages (from fsspec[http]<=2024.12.0,>=2023.1.0->datasets) (2024.12.0)\n",
            "Requirement already satisfied: aiohttp in c:\\users\\joseph\\appdata\\roaming\\python\\python312\\site-packages (from datasets) (3.11.16)\n",
            "Requirement already satisfied: huggingface-hub>=0.24.0 in c:\\users\\joseph\\appdata\\roaming\\python\\python312\\site-packages (from datasets) (0.30.1)\n",
            "Requirement already satisfied: pyyaml>=5.1 in c:\\users\\joseph\\appdata\\roaming\\python\\python312\\site-packages (from datasets) (6.0.2)\n",
            "Requirement already satisfied: tokenizers<0.22,>=0.21 in c:\\users\\joseph\\appdata\\roaming\\python\\python312\\site-packages (from transformers) (0.21.1)\n",
            "Requirement already satisfied: safetensors>=0.4.3 in c:\\users\\joseph\\appdata\\roaming\\python\\python312\\site-packages (from transformers) (0.5.3)\n",
            "Requirement already satisfied: aiohappyeyeballs>=2.3.0 in c:\\users\\joseph\\appdata\\roaming\\python\\python312\\site-packages (from aiohttp->datasets) (2.6.1)\n",
            "Requirement already satisfied: aiosignal>=1.1.2 in c:\\users\\joseph\\appdata\\roaming\\python\\python312\\site-packages (from aiohttp->datasets) (1.3.2)\n",
            "Requirement already satisfied: attrs>=17.3.0 in c:\\users\\joseph\\appdata\\roaming\\python\\python312\\site-packages (from aiohttp->datasets) (25.3.0)\n",
            "Requirement already satisfied: frozenlist>=1.1.1 in c:\\users\\joseph\\appdata\\roaming\\python\\python312\\site-packages (from aiohttp->datasets) (1.5.0)\n",
            "Requirement already satisfied: multidict<7.0,>=4.5 in c:\\users\\joseph\\appdata\\roaming\\python\\python312\\site-packages (from aiohttp->datasets) (6.3.2)\n",
            "Requirement already satisfied: propcache>=0.2.0 in c:\\users\\joseph\\appdata\\roaming\\python\\python312\\site-packages (from aiohttp->datasets) (0.3.1)\n",
            "Requirement already satisfied: yarl<2.0,>=1.17.0 in c:\\users\\joseph\\appdata\\roaming\\python\\python312\\site-packages (from aiohttp->datasets) (1.19.0)\n",
            "Requirement already satisfied: typing-extensions>=3.7.4.3 in c:\\users\\joseph\\appdata\\roaming\\python\\python312\\site-packages (from huggingface-hub>=0.24.0->datasets) (4.13.1)\n",
            "Requirement already satisfied: six>=1.5 in c:\\users\\joseph\\appdata\\roaming\\python\\python312\\site-packages (from python-dateutil>=2.8.2->pandas) (1.17.0)\n",
            "Requirement already satisfied: charset-normalizer<4,>=2 in c:\\users\\joseph\\appdata\\roaming\\python\\python312\\site-packages (from requests>=2.32.2->datasets) (3.4.1)\n",
            "Requirement already satisfied: idna<4,>=2.5 in c:\\users\\joseph\\appdata\\roaming\\python\\python312\\site-packages (from requests>=2.32.2->datasets) (3.10)\n",
            "Requirement already satisfied: urllib3<3,>=1.21.1 in c:\\users\\joseph\\appdata\\roaming\\python\\python312\\site-packages (from requests>=2.32.2->datasets) (2.3.0)\n",
            "Requirement already satisfied: certifi>=2017.4.17 in c:\\users\\joseph\\appdata\\roaming\\python\\python312\\site-packages (from requests>=2.32.2->datasets) (2025.1.31)\n",
            "Requirement already satisfied: wrapt in c:\\users\\joseph\\appdata\\roaming\\python\\python312\\site-packages (from smart-open>=1.8.1->gensim) (1.17.2)\n",
            "Requirement already satisfied: colorama in c:\\users\\joseph\\appdata\\roaming\\python\\python312\\site-packages (from tqdm->nltk) (0.4.6)\n",
            "Note: you may need to restart the kernel to use updated packages.\n"
          ]
        }
      ],
      "source": [
        "%pip install numpy pandas matplotlib seaborn scikit-learn nltk gensim datasets transformers"
      ]
    },
    {
      "cell_type": "markdown",
      "metadata": {
        "id": "aQZyaGXvS0Rc"
      },
      "source": [
        "## Part 1 Word Embeddings and N-gram"
      ]
    },
    {
      "cell_type": "code",
      "execution_count": 2,
      "metadata": {
        "colab": {
          "base_uri": "https://localhost:8080/",
          "height": 529
        },
        "id": "wkid0SKxHCTu",
        "outputId": "99867586-3e8a-42b2-e316-fdf90e200d47"
      },
      "outputs": [
        {
          "name": "stdout",
          "output_type": "stream",
          "text": [
            "['human', 'interface', 'computer']\n",
            "3\n"
          ]
        }
      ],
      "source": [
        "import gensim.downloader as api\n",
        "from gensim.models import FastText\n",
        "from gensim.test.utils import common_texts\n",
        "\n",
        "print(common_texts[0])\n",
        "print(len(common_texts[0]))"
      ]
    },
    {
      "cell_type": "markdown",
      "metadata": {
        "id": "-2qpKr4ESfHY"
      },
      "source": [
        "### 1. (a)"
      ]
    },
    {
      "cell_type": "code",
      "execution_count": 3,
      "metadata": {
        "id": "YWM4dgsRH6qL"
      },
      "outputs": [],
      "source": [
        "from sklearn.metrics.pairwise import cosine_similarity\n",
        "import numpy as np\n",
        "import pandas as pd\n"
      ]
    },
    {
      "cell_type": "code",
      "execution_count": 4,
      "metadata": {
        "id": "IxhnLxF7ILk9"
      },
      "outputs": [],
      "source": [
        "words = [\"Dog\", \"Bark\", \"Tree\", \"Bank\", \"River\", \"Money\"]"
      ]
    },
    {
      "cell_type": "code",
      "execution_count": 5,
      "metadata": {
        "id": "LTIee-l0JpSX"
      },
      "outputs": [],
      "source": [
        "def compute_similarity_matrix(model, words):\n",
        "  vectors = []\n",
        "  labels = []\n",
        "  for word in words:\n",
        "    key = word.lower()\n",
        "    if key in model:\n",
        "      vectors.append(model[key])\n",
        "      labels.append(word)\n",
        "    else:\n",
        "      print(word, \"not found in vocab\")\n",
        "\n",
        "  similarity_matrix = cosine_similarity(vectors)\n",
        "  df = pd.DataFrame(similarity_matrix, index=labels, columns=labels)\n",
        "  return df"
      ]
    },
    {
      "cell_type": "code",
      "execution_count": 6,
      "metadata": {
        "id": "wsMkrvkaM2iV"
      },
      "outputs": [],
      "source": [
        "if 'model' not in globals():\n",
        "    model = api.load('glove-twitter-50')"
      ]
    },
    {
      "cell_type": "code",
      "execution_count": 7,
      "metadata": {
        "id": "D7bRDz9ONqxG"
      },
      "outputs": [
        {
          "data": {
            "text/html": [
              "<div>\n",
              "<style scoped>\n",
              "    .dataframe tbody tr th:only-of-type {\n",
              "        vertical-align: middle;\n",
              "    }\n",
              "\n",
              "    .dataframe tbody tr th {\n",
              "        vertical-align: top;\n",
              "    }\n",
              "\n",
              "    .dataframe thead th {\n",
              "        text-align: right;\n",
              "    }\n",
              "</style>\n",
              "<table border=\"1\" class=\"dataframe\">\n",
              "  <thead>\n",
              "    <tr style=\"text-align: right;\">\n",
              "      <th></th>\n",
              "      <th>Dog</th>\n",
              "      <th>Bark</th>\n",
              "      <th>Tree</th>\n",
              "      <th>Bank</th>\n",
              "      <th>River</th>\n",
              "      <th>Money</th>\n",
              "    </tr>\n",
              "  </thead>\n",
              "  <tbody>\n",
              "    <tr>\n",
              "      <th>Dog</th>\n",
              "      <td>1.000000</td>\n",
              "      <td>0.593780</td>\n",
              "      <td>0.713751</td>\n",
              "      <td>0.348236</td>\n",
              "      <td>0.401201</td>\n",
              "      <td>0.575133</td>\n",
              "    </tr>\n",
              "    <tr>\n",
              "      <th>Bark</th>\n",
              "      <td>0.593780</td>\n",
              "      <td>1.000000</td>\n",
              "      <td>0.545873</td>\n",
              "      <td>0.040109</td>\n",
              "      <td>0.266635</td>\n",
              "      <td>0.290985</td>\n",
              "    </tr>\n",
              "    <tr>\n",
              "      <th>Tree</th>\n",
              "      <td>0.713751</td>\n",
              "      <td>0.545873</td>\n",
              "      <td>1.000000</td>\n",
              "      <td>0.349456</td>\n",
              "      <td>0.487116</td>\n",
              "      <td>0.510081</td>\n",
              "    </tr>\n",
              "    <tr>\n",
              "      <th>Bank</th>\n",
              "      <td>0.348236</td>\n",
              "      <td>0.040109</td>\n",
              "      <td>0.349456</td>\n",
              "      <td>1.000000</td>\n",
              "      <td>0.319922</td>\n",
              "      <td>0.674656</td>\n",
              "    </tr>\n",
              "    <tr>\n",
              "      <th>River</th>\n",
              "      <td>0.401201</td>\n",
              "      <td>0.266635</td>\n",
              "      <td>0.487116</td>\n",
              "      <td>0.319922</td>\n",
              "      <td>1.000000</td>\n",
              "      <td>0.337800</td>\n",
              "    </tr>\n",
              "    <tr>\n",
              "      <th>Money</th>\n",
              "      <td>0.575133</td>\n",
              "      <td>0.290985</td>\n",
              "      <td>0.510081</td>\n",
              "      <td>0.674656</td>\n",
              "      <td>0.337800</td>\n",
              "      <td>1.000000</td>\n",
              "    </tr>\n",
              "  </tbody>\n",
              "</table>\n",
              "</div>"
            ],
            "text/plain": [
              "            Dog      Bark      Tree      Bank     River     Money\n",
              "Dog    1.000000  0.593780  0.713751  0.348236  0.401201  0.575133\n",
              "Bark   0.593780  1.000000  0.545873  0.040109  0.266635  0.290985\n",
              "Tree   0.713751  0.545873  1.000000  0.349456  0.487116  0.510081\n",
              "Bank   0.348236  0.040109  0.349456  1.000000  0.319922  0.674656\n",
              "River  0.401201  0.266635  0.487116  0.319922  1.000000  0.337800\n",
              "Money  0.575133  0.290985  0.510081  0.674656  0.337800  1.000000"
            ]
          },
          "metadata": {},
          "output_type": "display_data"
        }
      ],
      "source": [
        "similarity_matrix = compute_similarity_matrix(model, words)\n",
        "display(similarity_matrix)"
      ]
    },
    {
      "cell_type": "markdown",
      "metadata": {
        "id": "WDH6XQT-SoAi"
      },
      "source": [
        "### 1. (b)"
      ]
    },
    {
      "cell_type": "code",
      "execution_count": 8,
      "metadata": {
        "id": "lWwIms8COx24"
      },
      "outputs": [
        {
          "data": {
            "text/html": [
              "<div>\n",
              "<style scoped>\n",
              "    .dataframe tbody tr th:only-of-type {\n",
              "        vertical-align: middle;\n",
              "    }\n",
              "\n",
              "    .dataframe tbody tr th {\n",
              "        vertical-align: top;\n",
              "    }\n",
              "\n",
              "    .dataframe thead th {\n",
              "        text-align: right;\n",
              "    }\n",
              "</style>\n",
              "<table border=\"1\" class=\"dataframe\">\n",
              "  <thead>\n",
              "    <tr style=\"text-align: right;\">\n",
              "      <th></th>\n",
              "      <th>Dog</th>\n",
              "      <th>Bark</th>\n",
              "      <th>Tree</th>\n",
              "      <th>Bank</th>\n",
              "      <th>River</th>\n",
              "      <th>Money</th>\n",
              "    </tr>\n",
              "  </thead>\n",
              "  <tbody>\n",
              "    <tr>\n",
              "      <th>Dog</th>\n",
              "      <td>1.000000</td>\n",
              "      <td>0.107832</td>\n",
              "      <td>-0.169992</td>\n",
              "      <td>0.031316</td>\n",
              "      <td>-0.013496</td>\n",
              "      <td>-0.111240</td>\n",
              "    </tr>\n",
              "    <tr>\n",
              "      <th>Bark</th>\n",
              "      <td>0.107832</td>\n",
              "      <td>1.000000</td>\n",
              "      <td>0.207565</td>\n",
              "      <td>0.169627</td>\n",
              "      <td>0.086654</td>\n",
              "      <td>-0.046768</td>\n",
              "    </tr>\n",
              "    <tr>\n",
              "      <th>Tree</th>\n",
              "      <td>-0.169992</td>\n",
              "      <td>0.207565</td>\n",
              "      <td>1.000000</td>\n",
              "      <td>0.035650</td>\n",
              "      <td>0.065254</td>\n",
              "      <td>-0.263089</td>\n",
              "    </tr>\n",
              "    <tr>\n",
              "      <th>Bank</th>\n",
              "      <td>0.031316</td>\n",
              "      <td>0.169627</td>\n",
              "      <td>0.035650</td>\n",
              "      <td>1.000000</td>\n",
              "      <td>0.203295</td>\n",
              "      <td>-0.016420</td>\n",
              "    </tr>\n",
              "    <tr>\n",
              "      <th>River</th>\n",
              "      <td>-0.013496</td>\n",
              "      <td>0.086654</td>\n",
              "      <td>0.065254</td>\n",
              "      <td>0.203295</td>\n",
              "      <td>1.000000</td>\n",
              "      <td>-0.122650</td>\n",
              "    </tr>\n",
              "    <tr>\n",
              "      <th>Money</th>\n",
              "      <td>-0.111240</td>\n",
              "      <td>-0.046768</td>\n",
              "      <td>-0.263089</td>\n",
              "      <td>-0.016420</td>\n",
              "      <td>-0.122650</td>\n",
              "      <td>1.000000</td>\n",
              "    </tr>\n",
              "  </tbody>\n",
              "</table>\n",
              "</div>"
            ],
            "text/plain": [
              "            Dog      Bark      Tree      Bank     River     Money\n",
              "Dog    1.000000  0.107832 -0.169992  0.031316 -0.013496 -0.111240\n",
              "Bark   0.107832  1.000000  0.207565  0.169627  0.086654 -0.046768\n",
              "Tree  -0.169992  0.207565  1.000000  0.035650  0.065254 -0.263089\n",
              "Bank   0.031316  0.169627  0.035650  1.000000  0.203295 -0.016420\n",
              "River -0.013496  0.086654  0.065254  0.203295  1.000000 -0.122650\n",
              "Money -0.111240 -0.046768 -0.263089 -0.016420 -0.122650  1.000000"
            ]
          },
          "metadata": {},
          "output_type": "display_data"
        }
      ],
      "source": [
        "fasttext_model = FastText(sentences=common_texts, vector_size=50, window=5, min_count=1, epochs=10)\n",
        "fasttext_similarity_matrix = compute_similarity_matrix(fasttext_model.wv,words)\n",
        "display(fasttext_similarity_matrix)"
      ]
    },
    {
      "cell_type": "markdown",
      "metadata": {
        "id": "W3ZOzAblS3BM"
      },
      "source": [
        "### 1. (c)"
      ]
    },
    {
      "cell_type": "code",
      "execution_count": 9,
      "metadata": {
        "id": "G4HUdmUPRBnu"
      },
      "outputs": [
        {
          "data": {
            "image/png": "[encoded data removed]",
            "text/plain": [
              "<Figure size 800x600 with 2 Axes>"
            ]
          },
          "metadata": {},
          "output_type": "display_data"
        },
        {
          "data": {
            "image/png": "[encoded data removed]",
            "text/plain": [
              "<Figure size 800x600 with 2 Axes>"
            ]
          },
          "metadata": {},
          "output_type": "display_data"
        }
      ],
      "source": [
        "import seaborn as sns\n",
        "import matplotlib.pyplot as plt\n",
        "\n",
        "import seaborn as sns\n",
        "import matplotlib.pyplot as plt\n",
        "\n",
        "# Function to plot a heatmap from a similarity matrix\n",
        "def plot_heatmap(sim_matrix, title):\n",
        "    plt.figure(figsize=(8, 6))\n",
        "    sns.heatmap(sim_matrix, annot=True, cmap=\"coolwarm\", fmt=\".2f\", linewidths=0.5)\n",
        "    plt.title(title)\n",
        "    plt.xticks(rotation=45)\n",
        "    plt.yticks(rotation=0)\n",
        "    plt.tight_layout()\n",
        "    plt.show()\n",
        "\n",
        "# Plot GloVe similarity heatmap\n",
        "plot_heatmap(similarity_matrix, \"GloVe Similarity Heatmap\")\n",
        "\n",
        "# Plot FastText similarity heatmap\n",
        "plot_heatmap(fasttext_similarity_matrix, \"FastText Similarity Heatmap\")\n"
      ]
    },
    {
      "cell_type": "markdown",
      "metadata": {
        "id": "I3bCDQdfSEVx"
      },
      "source": [
        "#### Which embedding captures better semantics?\n",
        "\n",
        "Based on the similarity matrices and visualizations, GloVe clearly captures better semantic relationships among the words compared to FastText in this case.\n",
        "\n",
        "The GloVe model is pretrained on a large-scale Twitter corpus and contains well-established semantic patterns. For example:\n",
        "- \"Dog\" and \"Bark\" have a similarity of 0.59, reflecting their real-world connection.\n",
        "- \"Bank\" and \"Money\" score 0.67, indicating strong financial association.\n",
        "- \"Bank\" and \"River\" also show moderate similarity at 0.32, acknowledging the alternate geographic meaning of \"bank.\"\n",
        "\n",
        "In contrast, the FastText model, although more flexible in handling out-of-vocabulary words and morphology through subword units, was trained here on a small built-in dataset (common_texts) that lacks real-world context. As a result:\n",
        "- \"Dog\" and \"Bark\" only score 0.11\n",
        "- \"Bank\" and \"Money\" show near-zero similarity (-0.02)\n",
        "- Many relationships even have negative similarities, indicating noise rather than semantic closeness.\n",
        "\n",
        "While FastText has the potential to outperform GloVe on domain-specific or rare words if trained on a richer corpus, in this case, GloVe significantly outperforms FastText in capturing meaningful semantic similarities.\n"
      ]
    },
    {
      "cell_type": "markdown",
      "metadata": {
        "id": "1x8Is7mlTWn9"
      },
      "source": [
        "### 2. N-grams and Classification (a)"
      ]
    },
    {
      "cell_type": "code",
      "execution_count": 10,
      "metadata": {
        "id": "utvqgwe9T52W"
      },
      "outputs": [
        {
          "name": "stderr",
          "output_type": "stream",
          "text": [
            "[nltk_data] Downloading package twitter_samples to\n",
            "[nltk_data]     C:\\Users\\Joseph\\AppData\\Roaming\\nltk_data...\n",
            "[nltk_data]   Package twitter_samples is already up-to-date!\n",
            "[nltk_data] Downloading package stopwords to\n",
            "[nltk_data]     C:\\Users\\Joseph\\AppData\\Roaming\\nltk_data...\n",
            "[nltk_data]   Package stopwords is already up-to-date!\n"
          ]
        }
      ],
      "source": [
        "import pandas as pd\n",
        "import nltk\n",
        "from nltk.corpus import twitter_samples\n",
        "from nltk.corpus import stopwords\n",
        "import matplotlib.pyplot as plt\n",
        "from sklearn.model_selection import train_test_split\n",
        "\n",
        "nltk.download('twitter_samples')\n",
        "nltk.download('stopwords')\n",
        "\n",
        "positive_tweets = twitter_samples.strings('positive_tweets.json')\n",
        "negative_tweets = twitter_samples.strings('negative_tweets.json')\n",
        "\n",
        "all_tweets = positive_tweets + negative_tweets\n",
        "labels = [1] * len(positive_tweets) + [0] * len(negative_tweets)\n",
        "\n",
        "X_train, X_test, y_train, y_test = train_test_split(all_tweets, labels, test_size=0.3, random_state=77)\n"
      ]
    },
    {
      "cell_type": "markdown",
      "metadata": {
        "id": "_tpWTVO8T6lu"
      },
      "source": [
        "### 2. (b)"
      ]
    },
    {
      "cell_type": "code",
      "execution_count": 11,
      "metadata": {
        "id": "trAK4zijgBw2"
      },
      "outputs": [],
      "source": [
        "from sklearn.feature_extraction.text import CountVectorizer\n",
        "\n",
        "vectorizers = {\n",
        "    n: CountVectorizer(ngram_range=(n, n), stop_words='english')\n",
        "    for n in range(1, 5)\n",
        "}\n"
      ]
    },
    {
      "cell_type": "markdown",
      "metadata": {
        "id": "kOVywZ_MT952"
      },
      "source": [
        "### 2. (c)"
      ]
    },
    {
      "cell_type": "code",
      "execution_count": 12,
      "metadata": {
        "id": "3BZiWsfegeg9"
      },
      "outputs": [
        {
          "name": "stdout",
          "output_type": "stream",
          "text": [
            "1-gram accuracy score: 0.7437\n",
            "2-gram accuracy score: 0.6163\n",
            "3-gram accuracy score: 0.5500\n",
            "4-gram accuracy score: 0.5387\n"
          ]
        }
      ],
      "source": [
        "from sklearn.linear_model import LogisticRegression\n",
        "from sklearn.metrics import accuracy_score\n",
        "\n",
        "res = []\n",
        "\n",
        "for n, vectorizer in vectorizers.items():\n",
        "    X_train_vec = vectorizer.fit_transform(X_train)\n",
        "    X_test_vec = vectorizer.transform(X_test)\n",
        "\n",
        "    model = LogisticRegression(max_iter=200)\n",
        "    model.fit(X_train_vec, y_train)\n",
        "\n",
        "    y_pred = model.predict(X_test_vec)\n",
        "    acc = accuracy_score(y_test, y_pred)\n",
        "\n",
        "    res.append((n, acc))\n",
        "    print(f\"{n}-gram accuracy score: {acc:.4f}\")\n"
      ]
    },
    {
      "cell_type": "markdown",
      "metadata": {
        "id": "n8lZqfRZUBHT"
      },
      "source": [
        "### 2. (d)"
      ]
    },
    {
      "cell_type": "code",
      "execution_count": 13,
      "metadata": {
        "id": "4Ec5c4m7hIl0"
      },
      "outputs": [
        {
          "data": {
            "image/png": "[encoded data removed]",
            "text/plain": [
              "<Figure size 640x480 with 1 Axes>"
            ]
          },
          "metadata": {},
          "output_type": "display_data"
        }
      ],
      "source": [
        "unzipped = list(zip(*res))\n",
        "\n",
        "ngram_sizes, accuracy_scores = unzipped[0], unzipped[1]\n",
        "\n",
        "plt.plot(ngram_sizes, accuracy_scores, marker=\"o\")\n",
        "plt.title(\"Accuracy vs n-gram size\")\n",
        "plt.xlabel(\"n-gram size\")\n",
        "plt.ylabel(\"Accuracy\")\n",
        "# plt.grid(True)\n",
        "# plt.xticks(ngram_sizes)\n",
        "plt.xticks(ngram_sizes, labels=[\"unigram = 1\", \"bigram = 2\", \"trigram = 3\", \"quadgram = 4\"])\n",
        "plt.show()"
      ]
    },
    {
      "cell_type": "markdown",
      "metadata": {
        "id": "x9EuipYOlr9A"
      },
      "source": [
        "#### How does the value of n in n-gram affect the model’s performance?\n",
        "\n",
        "As the value of n increases, the model’s performance decreases. Unigrams (n = 1) gave the highest accuracy, while bigrams, trigrams, and quadgrams showed a steady drop in accuracy.\n",
        "\n",
        "This is likely because larger n-grams lead to more sparse features. While bigrams and higher can capture more context, they also result in many rare combinations that the model sees too few times to learn from. This can cause overfitting and reduced generalization.\n",
        "\n",
        "In this case, unigrams performed best due to their simplicity and broad coverage across the dataset.\n"
      ]
    },
    {
      "cell_type": "markdown",
      "metadata": {
        "id": "JPZA0tS1UIp7"
      },
      "source": [
        "## Part 2 RNN and Machine Translation"
      ]
    },
    {
      "cell_type": "markdown",
      "metadata": {
        "id": "QCIrjMVdUdia"
      },
      "source": [
        "### 1."
      ]
    },
    {
      "cell_type": "code",
      "execution_count": 14,
      "metadata": {
        "id": "YAA8Vo3bxIpl"
      },
      "outputs": [
        {
          "name": "stdout",
          "output_type": "stream",
          "text": [
            "Defaulting to user installation because normal site-packages is not writeable\n",
            "Looking in indexes: https://download.pytorch.org/whl/cu118\n",
            "Requirement already satisfied: torch in c:\\users\\joseph\\appdata\\roaming\\python\\python312\\site-packages (2.6.0+cu118)\n",
            "Requirement already satisfied: filelock in c:\\users\\joseph\\appdata\\roaming\\python\\python312\\site-packages (from torch) (3.18.0)\n",
            "Requirement already satisfied: typing-extensions>=4.10.0 in c:\\users\\joseph\\appdata\\roaming\\python\\python312\\site-packages (from torch) (4.13.1)\n",
            "Requirement already satisfied: networkx in c:\\users\\joseph\\appdata\\roaming\\python\\python312\\site-packages (from torch) (3.3)\n",
            "Requirement already satisfied: jinja2 in c:\\users\\joseph\\appdata\\roaming\\python\\python312\\site-packages (from torch) (3.1.4)\n",
            "Requirement already satisfied: fsspec in c:\\users\\joseph\\appdata\\roaming\\python\\python312\\site-packages (from torch) (2024.12.0)\n",
            "Requirement already satisfied: setuptools in c:\\users\\joseph\\appdata\\roaming\\python\\python312\\site-packages (from torch) (78.1.0)\n",
            "Requirement already satisfied: sympy==1.13.1 in c:\\users\\joseph\\appdata\\roaming\\python\\python312\\site-packages (from torch) (1.13.1)\n",
            "Requirement already satisfied: mpmath<1.4,>=1.1.0 in c:\\users\\joseph\\appdata\\roaming\\python\\python312\\site-packages (from sympy==1.13.1->torch) (1.3.0)\n",
            "Requirement already satisfied: MarkupSafe>=2.0 in c:\\users\\joseph\\appdata\\roaming\\python\\python312\\site-packages (from jinja2->torch) (3.0.2)\n",
            "Note: you may need to restart the kernel to use updated packages.\n",
            "Defaulting to user installation because normal site-packages is not writeable\n",
            "Requirement already satisfied: datasets in c:\\users\\joseph\\appdata\\roaming\\python\\python312\\site-packages (3.5.0)\n",
            "Requirement already satisfied: evaluate in c:\\users\\joseph\\appdata\\roaming\\python\\python312\\site-packages (0.4.3)\n",
            "Requirement already satisfied: filelock in c:\\users\\joseph\\appdata\\roaming\\python\\python312\\site-packages (from datasets) (3.18.0)\n",
            "Requirement already satisfied: numpy>=1.17 in c:\\users\\joseph\\appdata\\roaming\\python\\python312\\site-packages (from datasets) (1.26.4)\n",
            "Requirement already satisfied: pyarrow>=15.0.0 in c:\\users\\joseph\\appdata\\roaming\\python\\python312\\site-packages (from datasets) (19.0.1)\n",
            "Requirement already satisfied: dill<0.3.9,>=0.3.0 in c:\\users\\joseph\\appdata\\roaming\\python\\python312\\site-packages (from datasets) (0.3.8)\n",
            "Requirement already satisfied: pandas in c:\\users\\joseph\\appdata\\roaming\\python\\python312\\site-packages (from datasets) (2.2.3)\n",
            "Requirement already satisfied: requests>=2.32.2 in c:\\users\\joseph\\appdata\\roaming\\python\\python312\\site-packages (from datasets) (2.32.3)\n",
            "Requirement already satisfied: tqdm>=4.66.3 in c:\\users\\joseph\\appdata\\roaming\\python\\python312\\site-packages (from datasets) (4.67.1)\n",
            "Requirement already satisfied: xxhash in c:\\users\\joseph\\appdata\\roaming\\python\\python312\\site-packages (from datasets) (3.5.0)\n",
            "Requirement already satisfied: multiprocess<0.70.17 in c:\\users\\joseph\\appdata\\roaming\\python\\python312\\site-packages (from datasets) (0.70.16)\n",
            "Requirement already satisfied: fsspec<=2024.12.0,>=2023.1.0 in c:\\users\\joseph\\appdata\\roaming\\python\\python312\\site-packages (from fsspec[http]<=2024.12.0,>=2023.1.0->datasets) (2024.12.0)\n",
            "Requirement already satisfied: aiohttp in c:\\users\\joseph\\appdata\\roaming\\python\\python312\\site-packages (from datasets) (3.11.16)\n",
            "Requirement already satisfied: huggingface-hub>=0.24.0 in c:\\users\\joseph\\appdata\\roaming\\python\\python312\\site-packages (from datasets) (0.30.1)\n",
            "Requirement already satisfied: packaging in c:\\users\\joseph\\appdata\\roaming\\python\\python312\\site-packages (from datasets) (24.2)\n",
            "Requirement already satisfied: pyyaml>=5.1 in c:\\users\\joseph\\appdata\\roaming\\python\\python312\\site-packages (from datasets) (6.0.2)\n",
            "Requirement already satisfied: aiohappyeyeballs>=2.3.0 in c:\\users\\joseph\\appdata\\roaming\\python\\python312\\site-packages (from aiohttp->datasets) (2.6.1)\n",
            "Requirement already satisfied: aiosignal>=1.1.2 in c:\\users\\joseph\\appdata\\roaming\\python\\python312\\site-packages (from aiohttp->datasets) (1.3.2)\n",
            "Requirement already satisfied: attrs>=17.3.0 in c:\\users\\joseph\\appdata\\roaming\\python\\python312\\site-packages (from aiohttp->datasets) (25.3.0)\n",
            "Requirement already satisfied: frozenlist>=1.1.1 in c:\\users\\joseph\\appdata\\roaming\\python\\python312\\site-packages (from aiohttp->datasets) (1.5.0)\n",
            "Requirement already satisfied: multidict<7.0,>=4.5 in c:\\users\\joseph\\appdata\\roaming\\python\\python312\\site-packages (from aiohttp->datasets) (6.3.2)\n",
            "Requirement already satisfied: propcache>=0.2.0 in c:\\users\\joseph\\appdata\\roaming\\python\\python312\\site-packages (from aiohttp->datasets) (0.3.1)\n",
            "Requirement already satisfied: yarl<2.0,>=1.17.0 in c:\\users\\joseph\\appdata\\roaming\\python\\python312\\site-packages (from aiohttp->datasets) (1.19.0)\n",
            "Requirement already satisfied: typing-extensions>=3.7.4.3 in c:\\users\\joseph\\appdata\\roaming\\python\\python312\\site-packages (from huggingface-hub>=0.24.0->datasets) (4.13.1)\n",
            "Requirement already satisfied: charset-normalizer<4,>=2 in c:\\users\\joseph\\appdata\\roaming\\python\\python312\\site-packages (from requests>=2.32.2->datasets) (3.4.1)\n",
            "Requirement already satisfied: idna<4,>=2.5 in c:\\users\\joseph\\appdata\\roaming\\python\\python312\\site-packages (from requests>=2.32.2->datasets) (3.10)\n",
            "Requirement already satisfied: urllib3<3,>=1.21.1 in c:\\users\\joseph\\appdata\\roaming\\python\\python312\\site-packages (from requests>=2.32.2->datasets) (2.3.0)\n",
            "Requirement already satisfied: certifi>=2017.4.17 in c:\\users\\joseph\\appdata\\roaming\\python\\python312\\site-packages (from requests>=2.32.2->datasets) (2025.1.31)\n",
            "Requirement already satisfied: colorama in c:\\users\\joseph\\appdata\\roaming\\python\\python312\\site-packages (from tqdm>=4.66.3->datasets) (0.4.6)\n",
            "Requirement already satisfied: python-dateutil>=2.8.2 in c:\\users\\joseph\\appdata\\roaming\\python\\python312\\site-packages (from pandas->datasets) (2.9.0.post0)\n",
            "Requirement already satisfied: pytz>=2020.1 in c:\\users\\joseph\\appdata\\roaming\\python\\python312\\site-packages (from pandas->datasets) (2025.2)\n",
            "Requirement already satisfied: tzdata>=2022.7 in c:\\users\\joseph\\appdata\\roaming\\python\\python312\\site-packages (from pandas->datasets) (2025.2)\n",
            "Requirement already satisfied: six>=1.5 in c:\\users\\joseph\\appdata\\roaming\\python\\python312\\site-packages (from python-dateutil>=2.8.2->pandas->datasets) (1.17.0)\n",
            "Note: you may need to restart the kernel to use updated packages.\n"
          ]
        }
      ],
      "source": [
        "# GPU-ready PyTorch with CUDA 11.8\n",
        "%pip install torch --index-url https://download.pytorch.org/whl/cu118\n",
        "\n",
        "# Hugging Face datasets + BLEU evaluation\n",
        "%pip install datasets evaluate"
      ]
    },
    {
      "cell_type": "code",
      "execution_count": 15,
      "metadata": {},
      "outputs": [
        {
          "name": "stdout",
          "output_type": "stream",
          "text": [
            "PyTorch version: 2.6.0+cu118\n",
            "CUDA available: True\n",
            "GPU device name: NVIDIA GeForce RTX 4080 SUPER\n"
          ]
        }
      ],
      "source": [
        "import torch\n",
        "\n",
        "print(\"PyTorch version:\", torch.__version__)\n",
        "print(\"CUDA available:\", torch.cuda.is_available())\n",
        "print(\"GPU device name:\", torch.cuda.get_device_name(0) if torch.cuda.is_available() else \"None\")\n"
      ]
    },
    {
      "cell_type": "code",
      "execution_count": 16,
      "metadata": {},
      "outputs": [
        {
          "name": "stderr",
          "output_type": "stream",
          "text": [
            "C:\\Users\\Joseph\\AppData\\Roaming\\Python\\Python312\\site-packages\\tqdm\\auto.py:21: TqdmWarning: IProgress not found. Please update jupyter and ipywidgets. See https://ipywidgets.readthedocs.io/en/stable/user_install.html\n",
            "  from .autonotebook import tqdm as notebook_tqdm\n"
          ]
        }
      ],
      "source": [
        "from datasets import load_dataset\n",
        "\n",
        "# Load BillSum and split\n",
        "billsum = load_dataset(\"billsum\", split=\"ca_test\")\n",
        "billsum = billsum.train_test_split(test_size=0.2)\n"
      ]
    },
    {
      "cell_type": "code",
      "execution_count": 17,
      "metadata": {},
      "outputs": [
        {
          "name": "stdout",
          "output_type": "stream",
          "text": [
            "encoding for: 1024_128\n"
          ]
        },
        {
          "name": "stderr",
          "output_type": "stream",
          "text": [
            "Map: 100%|██████████| 989/989 [00:00<00:00, 1085.44 examples/s]\n",
            "Map: 100%|██████████| 248/248 [00:00<00:00, 1016.14 examples/s]\n"
          ]
        },
        {
          "name": "stdout",
          "output_type": "stream",
          "text": [
            "encoding for: 1024_256\n"
          ]
        },
        {
          "name": "stderr",
          "output_type": "stream",
          "text": [
            "Map: 100%|██████████| 989/989 [00:00<00:00, 1073.30 examples/s]\n",
            "Map: 100%|██████████| 248/248 [00:00<00:00, 892.30 examples/s]\n"
          ]
        },
        {
          "name": "stdout",
          "output_type": "stream",
          "text": [
            "encoding for: 2048_128\n"
          ]
        },
        {
          "name": "stderr",
          "output_type": "stream",
          "text": [
            "Map: 100%|██████████| 989/989 [00:01<00:00, 939.91 examples/s]\n",
            "Map: 100%|██████████| 248/248 [00:00<00:00, 761.63 examples/s]\n"
          ]
        },
        {
          "name": "stdout",
          "output_type": "stream",
          "text": [
            "encoding for: 2048_256\n"
          ]
        },
        {
          "name": "stderr",
          "output_type": "stream",
          "text": [
            "Map: 100%|██████████| 989/989 [00:01<00:00, 940.49 examples/s]\n",
            "Map: 100%|██████████| 248/248 [00:00<00:00, 749.34 examples/s]"
          ]
        },
        {
          "name": "stdout",
          "output_type": "stream",
          "text": [
            "\n",
            "tokenized seq lengths:\n",
            "- 1024_128\n",
            "- 1024_256\n",
            "- 2048_128\n",
            "- 2048_256\n"
          ]
        },
        {
          "name": "stderr",
          "output_type": "stream",
          "text": [
            "\n"
          ]
        }
      ],
      "source": [
        "from transformers import AutoTokenizer\n",
        "\n",
        "#loads the tokenizer for the t5 model\n",
        "text_tokenizer = AutoTokenizer.from_pretrained(\"t5-small\")\n",
        "\n",
        "#defines the input and summary length limits to test\n",
        "TEXT_LEN_1024 = 1024\n",
        "TEXT_LEN_2048 = 2048\n",
        "SUMMARY_LEN_128 = 128\n",
        "SUMMARY_LEN_256 = 256\n",
        "\n",
        "#list of each length configuration by name and size\n",
        "lengths = [\n",
        "    {\"name\": \"1024_128\", \"input_len\": TEXT_LEN_1024, \"summary_len\": SUMMARY_LEN_128},\n",
        "    {\"name\": \"1024_256\", \"input_len\": TEXT_LEN_1024, \"summary_len\": SUMMARY_LEN_256},\n",
        "    {\"name\": \"2048_128\", \"input_len\": TEXT_LEN_2048, \"summary_len\": SUMMARY_LEN_128},\n",
        "    {\"name\": \"2048_256\", \"input_len\": TEXT_LEN_2048, \"summary_len\": SUMMARY_LEN_256},\n",
        "]\n",
        "\n",
        "#dictionary to store the tokenized dataset for each setting\n",
        "tokenized_by_length = {}\n",
        "\n",
        "#function to tokenize one example using the input and summary limits\n",
        "def encode_text_and_summary(example, input_len, summary_len):\n",
        "    text_tokens = text_tokenizer(\n",
        "        example[\"text\"],\n",
        "        max_length=input_len,\n",
        "        truncation=True,\n",
        "        padding=\"max_length\"\n",
        "    )\n",
        "\n",
        "    summary_tokens = text_tokenizer(\n",
        "        example[\"summary\"],\n",
        "        max_length=summary_len,\n",
        "        truncation=True,\n",
        "        padding=\"max_length\"\n",
        "    )\n",
        "\n",
        "    return {\n",
        "        \"input_ids\": text_tokens[\"input_ids\"],\n",
        "        \"attention_mask\": text_tokens[\"attention_mask\"],\n",
        "        \"labels\": summary_tokens[\"input_ids\"]\n",
        "    }\n",
        "\n",
        "#loop through each length config and tokenize the dataset\n",
        "for length in lengths:\n",
        "    print(f\"encoding for: {length['name']}\")\n",
        "    processed = billsum.map(\n",
        "        lambda x: encode_text_and_summary(x, length[\"input_len\"], length[\"summary_len\"]),\n",
        "        batched=True\n",
        "    )\n",
        "    tokenized_by_length[length[\"name\"]] = processed\n",
        "\n",
        "#print the names of the configs that were processed\n",
        "print(\"\\ntokenized seq lengths:\")\n",
        "for name in tokenized_by_length:\n",
        "    print(f\"- {name}\")\n"
      ]
    },
    {
      "cell_type": "code",
      "execution_count": 19,
      "metadata": {},
      "outputs": [],
      "source": [
        "from torch.utils.data import Dataset, DataLoader\n",
        "\n",
        "\n",
        "#defines a custom dataset for sequence-to-sequence tasks\n",
        "class Seq2SeqDataset(Dataset):\n",
        "    def __init__(self, data):\n",
        "        self.input_ids = data[\"input_ids\"]\n",
        "        self.attention_mask = data[\"attention_mask\"]\n",
        "        self.labels = data[\"labels\"]\n",
        "\n",
        "    #returns the number of examples\n",
        "    def __len__(self):\n",
        "        return len(self.input_ids)\n",
        "\n",
        "    #returns a single example as a dictionary of tensors\n",
        "    def __getitem__(self, idx):\n",
        "        return {\n",
        "            \"input_ids\": torch.tensor(self.input_ids[idx], dtype=torch.long),\n",
        "            \"attention_mask\": torch.tensor(self.attention_mask[idx], dtype=torch.long),\n",
        "            \"labels\": torch.tensor(self.labels[idx], dtype=torch.long)\n",
        "        }\n"
      ]
    },
    {
      "cell_type": "markdown",
      "metadata": {},
      "source": [
        "### 2."
      ]
    },
    {
      "cell_type": "code",
      "execution_count": 20,
      "metadata": {},
      "outputs": [],
      "source": [
        "import torch.nn as nn\n",
        "\n",
        "#defines a seq2seq model using lstm layers\n",
        "class Seq2SeqLSTM(nn.Module):\n",
        "    def __init__(self, vocab_size, embed_dim, hidden_dim, input_len, target_len, dropout=0.1):\n",
        "        super().__init__()\n",
        "        self.embed = nn.Embedding(vocab_size, embed_dim)\n",
        "        self.encoder_lstm = nn.LSTM(embed_dim, hidden_dim, batch_first=True)\n",
        "        self.decoder_lstm = nn.LSTM(embed_dim, hidden_dim, batch_first=True)\n",
        "        self.fc_out = nn.Linear(hidden_dim, vocab_size)\n",
        "        self.dropout = nn.Dropout(dropout)\n",
        "        self.input_len = input_len\n",
        "        self.target_len = target_len\n",
        "\n",
        "    #defines the forward pass for input and target sequences\n",
        "    def forward(self, src, tgt):\n",
        "        embedded_src = self.dropout(self.embed(src))\n",
        "        _, (hidden, cell) = self.encoder_lstm(embedded_src)\n",
        "\n",
        "        embedded_tgt = self.dropout(self.embed(tgt))\n",
        "        decoder_outputs, _ = self.decoder_lstm(embedded_tgt, (hidden, cell))\n",
        "        return self.fc_out(decoder_outputs)\n"
      ]
    },
    {
      "cell_type": "code",
      "execution_count": 21,
      "metadata": {},
      "outputs": [],
      "source": [
        "def train_model(model, train_loader, optimizer, criterion, device, epochs=3):\n",
        "    #set model to training mode\n",
        "    model.train()\n",
        "\n",
        "    for epoch in range(epochs):\n",
        "        total_loss = 0\n",
        "\n",
        "        for batch in train_loader:\n",
        "            #move inputs and labels to the correct device\n",
        "            input_ids = batch[\"input_ids\"].to(device)\n",
        "            labels = batch[\"labels\"].to(device)\n",
        "\n",
        "            #prepare decoder input and target by shifting labels\n",
        "            decoder_input = labels[:, :-1]\n",
        "            decoder_target = labels[:, 1:]\n",
        "\n",
        "            #forward pass through the model\n",
        "            outputs = model(input_ids, decoder_input)\n",
        "\n",
        "            #reshape outputs and targets for loss calculation\n",
        "            outputs = outputs.reshape(-1, outputs.shape[-1])\n",
        "            decoder_target = decoder_target.reshape(-1)\n",
        "\n",
        "            #calculate loss\n",
        "            loss = criterion(outputs, decoder_target)\n",
        "\n",
        "            #backpropagation and optimizer step\n",
        "            optimizer.zero_grad()\n",
        "            loss.backward()\n",
        "            optimizer.step()\n",
        "\n",
        "            #accumulate batch loss\n",
        "            total_loss += loss.item()\n",
        "\n",
        "        #print average loss for the epoch\n",
        "        print(f\"Epoch {epoch+1}/{epochs} - Loss: {total_loss / len(train_loader):.4f}\")\n"
      ]
    },
    {
      "cell_type": "code",
      "execution_count": 22,
      "metadata": {},
      "outputs": [],
      "source": [
        "import evaluate\n",
        "\n",
        "def evaluate_bleu(model, test_loader, tokenizer, device):\n",
        "    #set model to evaluation mode\n",
        "    model.eval()\n",
        "\n",
        "    #load bleu evaluation metric\n",
        "    bleu = evaluate.load(\"bleu\")\n",
        "    predictions, references = [], []\n",
        "\n",
        "    with torch.no_grad():\n",
        "        for batch in test_loader:\n",
        "            #move input and labels to the device\n",
        "            input_ids = batch[\"input_ids\"].to(device)\n",
        "            labels = batch[\"labels\"].to(device)\n",
        "\n",
        "            #prepare decoder input from labels\n",
        "            decoder_input = labels[:, :-1]\n",
        "\n",
        "            #get model predictions\n",
        "            output_logits = model(input_ids, decoder_input)\n",
        "            pred_ids = torch.argmax(output_logits, dim=-1)\n",
        "\n",
        "            #decode predictions and labels to strings\n",
        "            decoded_preds = tokenizer.batch_decode(pred_ids, skip_special_tokens=True)\n",
        "            decoded_labels = tokenizer.batch_decode(labels, skip_special_tokens=True)\n",
        "\n",
        "            #collect results\n",
        "            predictions.extend(decoded_preds)\n",
        "            references.extend([[ref] for ref in decoded_labels])\n",
        "\n",
        "    #compute and return bleu score\n",
        "    score = bleu.compute(predictions=predictions, references=references)\n",
        "    return score[\"bleu\"]\n"
      ]
    },
    {
      "cell_type": "markdown",
      "metadata": {},
      "source": [
        "### 3."
      ]
    },
    {
      "cell_type": "code",
      "execution_count": 23,
      "metadata": {},
      "outputs": [
        {
          "name": "stdout",
          "output_type": "stream",
          "text": [
            "Loading existing model: model_with_inputlen=1024,summarylen=128.pt\n",
            "BLEU score for 1024_128: 0.0225\n",
            "Loading existing model: model_with_inputlen=1024,summarylen=256.pt\n",
            "BLEU score for 1024_256: 0.0333\n",
            "Loading existing model: model_with_inputlen=2048,summarylen=128.pt\n",
            "BLEU score for 2048_128: 0.0222\n",
            "Loading existing model: model_with_inputlen=2048,summarylen=256.pt\n",
            "BLEU score for 2048_256: 0.0349\n"
          ]
        }
      ],
      "source": [
        "import os\n",
        "from torch.utils.data import DataLoader\n",
        "\n",
        "#set device to gpu if available, otherwise use cpu\n",
        "device = torch.device(\"cuda\" if torch.cuda.is_available() else \"cpu\")\n",
        "\n",
        "#store bleu scores for each input and summary length combination\n",
        "results = []\n",
        "\n",
        "#loop through each input and summary length config\n",
        "for length in lengths:\n",
        "    name = length[\"name\"]\n",
        "    input_len = length[\"input_len\"]\n",
        "    summary_len = length[\"summary_len\"]\n",
        "\n",
        "   #define the model save path using sequence lengths\n",
        "    model_path = f\"model_with_inputlen={input_len},summarylen={summary_len}.pt\"\n",
        "\n",
        "    #load the tokenized dataset for the current length setting\n",
        "    data = tokenized_by_length[name]\n",
        "    train_dataset = Seq2SeqDataset(data[\"train\"])\n",
        "    test_dataset = Seq2SeqDataset(data[\"test\"])\n",
        "\n",
        "    #create dataloaders for training and evaluation\n",
        "    train_loader = DataLoader(train_dataset, batch_size=16, shuffle=True)\n",
        "    test_loader = DataLoader(test_dataset, batch_size=16)\n",
        "\n",
        "    #initialize the model with the current sequence lengths\n",
        "    model = Seq2SeqLSTM(\n",
        "        vocab_size=text_tokenizer.vocab_size,\n",
        "        embed_dim=128,\n",
        "        hidden_dim=256,\n",
        "        input_len=input_len,\n",
        "        target_len=summary_len,\n",
        "        dropout=0.3\n",
        "    ).to(device)\n",
        "\n",
        "    #load model if already saved, otherwise train and save it\n",
        "    if os.path.exists(model_path):\n",
        "        print(f\"Loading existing model: {model_path}\")\n",
        "        model.load_state_dict(torch.load(model_path, map_location=device))\n",
        "        model.eval()\n",
        "    else:\n",
        "        print(f\"\\nTraining model for sequence config: {name}\")\n",
        "        optimizer = torch.optim.Adam(model.parameters(), lr=0.001)\n",
        "        criterion = nn.CrossEntropyLoss(ignore_index=text_tokenizer.pad_token_id)\n",
        "        train_model(model, train_loader, optimizer, criterion, device, epochs=3)\n",
        "        torch.save(model.state_dict(), model_path)\n",
        "\n",
        "    #evaluate the model using bleu score and store the result\n",
        "    bleu_score = evaluate_bleu(model, test_loader, text_tokenizer, device)\n",
        "    results.append((name, bleu_score))\n",
        "    print(f\"BLEU score for {name}: {bleu_score:.4f}\")\n"
      ]
    },
    {
      "cell_type": "code",
      "execution_count": 24,
      "metadata": {},
      "outputs": [
        {
          "name": "stdout",
          "output_type": "stream",
          "text": [
            "\n",
            "Final BLEU Scores:\n",
            "1024_128: BLEU = 0.0225\n",
            "1024_256: BLEU = 0.0333\n",
            "2048_128: BLEU = 0.0222\n",
            "2048_256: BLEU = 0.0349\n",
            "\n",
            "Best Sequence Length:\n",
            "Seq Len: 2048_256\n",
            "BLEU Score: 0.0349\n"
          ]
        }
      ],
      "source": [
        "#print all bleu scores for each sequence length config\n",
        "print(\"\\nFinal BLEU Scores:\")\n",
        "for name, score in results:\n",
        "    print(f\"{name}: BLEU = {score:.4f}\")\n",
        "\n",
        "#find the length config with the highest bleu score\n",
        "best_seq_config = max(results, key=lambda x: x[1])\n",
        "\n",
        "#print the best performing length setting\n",
        "print(\"\\nBest Sequence Length:\")\n",
        "print(f\"Seq Len: {best_seq_config[0]}\")\n",
        "print(f\"BLEU Score: {best_seq_config[1]:.4f}\")\n"
      ]
    },
    {
      "cell_type": "markdown",
      "metadata": {},
      "source": [
        "### 4."
      ]
    },
    {
      "cell_type": "code",
      "execution_count": 25,
      "metadata": {},
      "outputs": [
        {
          "name": "stdout",
          "output_type": "stream",
          "text": [
            "Loading tuned model from model_with_embed=128,hidden=256,dropout=0.3,learningrate=0.001.pt\n",
            "BLEU score for embed=128,hidden=256,dropout=0.3,lr=0.001: 0.0368\n",
            "Loading tuned model from model_with_embed=256,hidden=512,dropout=0.2,learningrate=0.0005.pt\n",
            "BLEU score for embed=256,hidden=512,dropout=0.2,lr=0.0005: 0.0341\n",
            "Loading tuned model from model_with_embed=512,hidden=512,dropout=0.1,learningrate=0.001.pt\n",
            "BLEU score for embed=512,hidden=512,dropout=0.1,lr=0.001: 0.0551\n"
          ]
        }
      ],
      "source": [
        "#define different sets of hyperparameters to try\n",
        "hyperparameter_tunings = [\n",
        "    {\"name\": \"embed=128,hidden=256,dropout=0.3,lr=0.001\", \"embed_dim\": 128, \"hidden_dim\": 256, \"dropout\": 0.3, \"lr\": 0.001},\n",
        "    {\"name\": \"embed=256,hidden=512,dropout=0.2,lr=0.0005\", \"embed_dim\": 256, \"hidden_dim\": 512, \"dropout\": 0.2, \"lr\": 0.0005},\n",
        "    {\"name\": \"embed=512,hidden=512,dropout=0.1,lr=0.001\", \"embed_dim\": 512, \"hidden_dim\": 512, \"dropout\": 0.1, \"lr\": 0.001},\n",
        "]\n",
        "\n",
        "#select the sequence length setting that performed best\n",
        "base_config = [length for length in lengths if length[\"name\"] == best_seq_config[0]][0]\n",
        "data = tokenized_by_length[base_config[\"name\"]]\n",
        "\n",
        "#prepare datasets and loaders based on the best sequence length\n",
        "train_dataset = Seq2SeqDataset(data[\"train\"])\n",
        "test_dataset = Seq2SeqDataset(data[\"test\"])\n",
        "train_loader = DataLoader(train_dataset, batch_size=16, shuffle=True)\n",
        "test_loader = DataLoader(test_dataset, batch_size=16)\n",
        "\n",
        "#store bleu scores for each tuned model\n",
        "tuned_results = []\n",
        "\n",
        "#loop through each set of hyperparameters\n",
        "for params in hyperparameter_tunings:\n",
        "    #define a clear, descriptive path for saving or loading the model\n",
        "    model_path = f\"model_with_embed={params['embed_dim']},hidden={params['hidden_dim']},dropout={params['dropout']},learningrate={params['lr']}.pt\"\n",
        "\n",
        "    #initialize the model with the current hyperparameter values\n",
        "    model = Seq2SeqLSTM(\n",
        "        vocab_size=text_tokenizer.vocab_size,\n",
        "        embed_dim=params[\"embed_dim\"],\n",
        "        hidden_dim=params[\"hidden_dim\"],\n",
        "        input_len=base_config[\"input_len\"],\n",
        "        target_len=base_config[\"summary_len\"],\n",
        "        dropout=params[\"dropout\"]\n",
        "    ).to(device)\n",
        "\n",
        "    #load the model if already saved, otherwise train and save it\n",
        "    if os.path.exists(model_path):\n",
        "        print(f\"Loading tuned model from {model_path}\")\n",
        "        model.load_state_dict(torch.load(model_path, map_location=device))\n",
        "        model.eval()\n",
        "    else:\n",
        "        print(f\"\\nTraining tuned model with settings: {params['name']}\")\n",
        "        optimizer = torch.optim.Adam(model.parameters(), lr=params[\"lr\"])\n",
        "        criterion = nn.CrossEntropyLoss(ignore_index=text_tokenizer.pad_token_id)\n",
        "        train_model(model, train_loader, optimizer, criterion, device, epochs=3)\n",
        "        torch.save(model.state_dict(), model_path)\n",
        "\n",
        "    #evaluate bleu score and store the result\n",
        "    bleu_score = evaluate_bleu(model, test_loader, text_tokenizer, device)\n",
        "    tuned_results.append((params[\"name\"], bleu_score))\n",
        "    print(f\"BLEU score for {params['name']}: {bleu_score:.4f}\")\n"
      ]
    },
    {
      "cell_type": "code",
      "execution_count": 26,
      "metadata": {},
      "outputs": [
        {
          "name": "stdout",
          "output_type": "stream",
          "text": [
            "\n",
            "Best Hyperparameter Setting:\n",
            "name: embed=512,hidden=512,dropout=0.1,lr=0.001\n",
            "bleu score: 0.0551\n",
            "\n",
            "hyperparameters:\n",
            "embedding dim: 512\n",
            "hidden dim: 512\n",
            "dropout: 0.1\n",
            "learning rate: 0.001\n"
          ]
        }
      ],
      "source": [
        "#find the hyperparameter setting with the highest bleu score\n",
        "best_param_config = max(tuned_results, key=lambda x: x[1])\n",
        "\n",
        "#print the best performing hyperparameter configuration\n",
        "print(\"\\nBest Hyperparameter Setting:\")\n",
        "print(f\"name: {best_param_config[0]}\")\n",
        "print(f\"bleu score: {best_param_config[1]:.4f}\")\n",
        "\n",
        "#look up the detailed values for the best setting\n",
        "for params in hyperparameter_tunings:\n",
        "    if params[\"name\"] == best_param_config[0]:\n",
        "        final_hyperparams = params\n",
        "        print(\"\\nhyperparameters:\")\n",
        "        print(f\"embedding dim: {params['embed_dim']}\")\n",
        "        print(f\"hidden dim: {params['hidden_dim']}\")\n",
        "        print(f\"dropout: {params['dropout']}\")\n",
        "        print(f\"learning rate: {params['lr']}\")\n"
      ]
    },
    {
      "cell_type": "code",
      "execution_count": 27,
      "metadata": {},
      "outputs": [
        {
          "name": "stdout",
          "output_type": "stream",
          "text": [
            "\n",
            "final best model bleu score: 0.0551\n",
            "model loaded from: model_with_embed=512,hidden=512,dropout=0.1,learningrate=0.001.pt\n",
            "final model saved as: model_final_best_model.pt\n"
          ]
        }
      ],
      "source": [
        "#build the path to the best tuned model using selected hyperparameters\n",
        "final_model_path = f\"model_with_embed={final_hyperparams['embed_dim']},hidden={final_hyperparams['hidden_dim']},dropout={final_hyperparams['dropout']},learningrate={final_hyperparams['lr']}.pt\"\n",
        "\n",
        "#initialize the model using the best sequence length and hyperparameters\n",
        "final_model = Seq2SeqLSTM(\n",
        "    vocab_size=text_tokenizer.vocab_size,\n",
        "    embed_dim=final_hyperparams[\"embed_dim\"],\n",
        "    hidden_dim=final_hyperparams[\"hidden_dim\"],\n",
        "    input_len=base_config[\"input_len\"],\n",
        "    target_len=base_config[\"summary_len\"],\n",
        "    dropout=final_hyperparams[\"dropout\"]\n",
        ").to(device)\n",
        "\n",
        "#load the saved tuned model from disk\n",
        "final_model.load_state_dict(torch.load(final_model_path, map_location=device))\n",
        "final_model.eval()\n",
        "\n",
        "#prepare the test set based on the best sequence length\n",
        "final_data = tokenized_by_length[best_seq_config[0]]\n",
        "final_test_dataset = Seq2SeqDataset(final_data[\"test\"])\n",
        "final_test_loader = DataLoader(final_test_dataset, batch_size=16)\n",
        "\n",
        "#evaluate bleu score on the final model\n",
        "final_bleu = evaluate_bleu(final_model, final_test_loader, text_tokenizer, device)\n",
        "print(f\"\\nfinal best model bleu score: {final_bleu:.4f}\")\n",
        "print(f\"model loaded from: {final_model_path}\")\n",
        "\n",
        "#save the final model under a clean filename\n",
        "torch.save(final_model.state_dict(), \"model_final_best_model.pt\")\n",
        "print(\"final model saved as: model_final_best_model.pt\")\n"
      ]
    },
    {
      "cell_type": "code",
      "execution_count": 28,
      "metadata": {},
      "outputs": [
        {
          "data": {
            "image/png": "[encoded data removed]",
            "text/plain": [
              "<Figure size 1000x600 with 1 Axes>"
            ]
          },
          "metadata": {},
          "output_type": "display_data"
        }
      ],
      "source": [
        "import matplotlib.pyplot as plt\n",
        "\n",
        "#extract names and scores\n",
        "names = [name for name, _ in tuned_results]\n",
        "scores = [score for _, score in tuned_results]\n",
        "\n",
        "#find index of the highest scoring config\n",
        "best_index = scores.index(max(scores))\n",
        "\n",
        "#assign colors: default blue for all, green for the best\n",
        "colors = [\"tab:blue\"] * len(scores)\n",
        "colors[best_index] = \"tab:green\"\n",
        "\n",
        "#plot with clean layout\n",
        "plt.figure(figsize=(10, 6))\n",
        "plt.bar(names, scores, color=colors)\n",
        "plt.ylabel(\"bleu score\")\n",
        "plt.xlabel(\"hyperparameter setting\")\n",
        "plt.title(\"bleu score comparison across hyperparameter tuning\")\n",
        "plt.xticks(rotation=35, ha=\"right\", fontsize=9)\n",
        "plt.grid(axis='y', linestyle='--', alpha=0.7)\n",
        "plt.tight_layout()\n",
        "plt.show()\n"
      ]
    },
    {
      "cell_type": "markdown",
      "metadata": {},
      "source": [
        "### RNN and Machine Translation Report\n",
        "\n",
        "### 1. Dataset and Split\n",
        "\n",
        "The dataset used is the **BillSum** dataset, which consists of California State bill text and summaries. I used the **ca_test** split of this dataset for evaluation. The dataset was split into training and test sets using the **train_test_split** method.\n",
        "\n",
        "---\n",
        "\n",
        "### 2. Number of Neurons, Dropout, and RNN Architecture\n",
        "\n",
        "For the initial training, I used an RNN architecture with the following specifications:\n",
        "\n",
        "- **Neurons**: 256 hidden units for the LSTM layers.\n",
        "- **Dropout**: A dropout rate of 0.3 was applied to prevent overfitting.\n",
        "- **RNN Architecture**: Two LSTM layers (one for encoding and one for decoding).\n",
        "\n",
        "The **BLEU score** was used as the model's performance metric. I evaluated the model's performance on different sequence lengths (1024 and 2048 for input, 128 and 256 for summary) to compare how the input and output lengths impact performance.\n",
        "\n",
        "---\n",
        "\n",
        "### 3. Sequence Length Impact\n",
        "\n",
        "The following BLEU scores were obtained for different sequence lengths:\n",
        "\n",
        "- **1024_128**: BLEU = 0.0192\n",
        "- **1024_256**: BLEU = 0.0305\n",
        "- **2048_128**: BLEU = 0.0188\n",
        "- **2048_256**: BLEU = 0.0325\n",
        "\n",
        "The best sequence length configuration based on BLEU score is **2048_256**, with a BLEU score of **0.0325**.\n",
        "\n",
        "### Analysis:\n",
        "- Increasing the input length from **1024** to **2048** resulted in slight improvement in performance.\n",
        "- Increasing the summary length from **128** to **256** showed a positive impact.\n",
        "- The **2048_256** combination yielded the highest BLEU score, suggesting that this configuration is the best for the task.\n",
        "\n",
        "---\n",
        "\n",
        "### 4. Hyperparameter Tuning for Best Performance\n",
        "\n",
        "I experimented with different hyperparameters to achieve the best performance. The following hyperparameters were tested:\n",
        "\n",
        "- **Embedding Size (embed_dim)**: 128, 256, 512\n",
        "- **Hidden Units (hidden_dim)**: 256, 512\n",
        "- **Dropout Rate**: 0.3, 0.2, 0.1\n",
        "- **Learning Rate (lr)**: 0.001, 0.0005\n",
        "\n",
        "#### Hyperparameter Tuning Results:\n",
        "- **embed=128, hidden=256, dropout=0.3, lr=0.001**: BLEU = 0.0346\n",
        "- **embed=256, hidden=512, dropout=0.2, lr=0.0005**: BLEU = 0.0323\n",
        "- **embed=512, hidden=512, dropout=0.1, lr=0.001**: BLEU = 0.0527 (best model)\n",
        "\n",
        "#### Best Hyperparameter Setting:\n",
        "- The best model, with the highest **BLEU score** of **0.0527**, used the following hyperparameters:\n",
        "  - **Embedding Dim**: 512\n",
        "  - **Hidden Dim**: 512\n",
        "  - **Dropout**: 0.1\n",
        "  - **Learning Rate**: 0.001\n",
        "\n",
        "---\n",
        "\n",
        "### Final Model and Performance\n",
        "\n",
        "After finding the best hyperparameters, I retrained the model with these settings and evaluated it on the test set:\n",
        "\n",
        "- **Final BLEU Score**: 0.0527\n",
        "- **Model Path**: The model was saved as `model_with_embed=512,hidden=512,dropout=0.1,learningrate=0.001.pt` and then reloaded under the name `model_final_best_model.pt` for final evaluation.\n",
        "\n",
        "---\n",
        "\n",
        "### BLEU Score Comparison\n",
        "\n",
        "The **BLEU score** for each hyperparameter configuration is as follows:\n",
        "\n",
        "- **embed=128, hidden=256, dropout=0.3, lr=0.001**: 0.0346\n",
        "- **embed=256, hidden=512, dropout=0.2, lr=0.0005**: 0.0323\n",
        "- **embed=512, hidden=512, dropout=0.1, lr=0.001**: 0.0527\n",
        "\n",
        "The model with **embed_dim=512, hidden_dim=512, dropout=0.1, learning_rate=0.001** performed the best, achieving the highest **BLEU score**.\n",
        "\n",
        "---\n",
        "\n",
        "### Conclusion\n",
        "\n",
        "Based on the experiments with different input and summary sequence lengths and hyperparameters, I concluded that the best-performing model uses the following configuration:\n",
        "\n",
        "- **Input Length**: 2048\n",
        "- **Summary Length**: 256\n",
        "- **Embedding Size**: 512\n",
        "- **Hidden Units**: 512\n",
        "- **Dropout**: 0.1\n",
        "- **Learning Rate**: 0.001\n",
        "\n",
        "This model achieved the highest **BLEU score** of **0.0527**, which is the final model used for testing.\n",
        "\n",
        "---\n",
        "\n",
        "This report summarizes the findings, including the best sequence lengths, hyperparameters, and final performance of the model. The results and analysis should assist in understanding the impact of sequence length and hyperparameter settings on the model's performance.\n"
      ]
    }
  ],
  "metadata": {
    "colab": {
      "authorship_tag": "ABX9TyMYdhpkmJC0hIGQbntHoRFI",
      "include_colab_link": true,
      "provenance": []
    },
    "kernelspec": {
      "display_name": "Python 3",
      "language": "python",
      "name": "python3"
    },
    "language_info": {
      "codemirror_mode": {
        "name": "ipython",
        "version": 3
      },
      "file_extension": ".py",
      "mimetype": "text/x-python",
      "name": "python",
      "nbconvert_exporter": "python",
      "pygments_lexer": "ipython3",
      "version": "3.12.5"
    }
  },
  "nbformat": 4,
  "nbformat_minor": 0
}
