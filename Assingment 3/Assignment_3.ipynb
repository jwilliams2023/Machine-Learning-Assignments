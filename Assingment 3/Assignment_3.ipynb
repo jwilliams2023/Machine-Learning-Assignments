{
  "cells": [
    {
      "cell_type": "markdown",
      "metadata": {
        "colab_type": "text",
        "id": "view-in-github"
      },
      "source": [
        "<a href=\"https://colab.research.google.com/github/jwilliams2023/Machine-Learning-Assignments/blob/main/Assignment_3.ipynb\" target=\"_parent\"><img src=\"https://colab.research.google.com/assets/colab-badge.svg\" alt=\"Open In Colab\"/></a>"
      ]
    },
    {
      "cell_type": "markdown",
      "metadata": {
        "id": "OqiRSXyk9PUM"
      },
      "source": [
        "# Dependencies\n",
        "\n",
        "- numpy\n",
        "- pandas\n",
        "- matplotlib\n",
        "- seaborn\n",
        "- scikit-learn\n",
        "- nltk\n",
        "- gensim\n",
        "- datasets\n",
        "- transformers\n",
        "- torch\n",
        "- evaluate\n"
      ]
    },
    {
      "cell_type": "code",
      "execution_count": 1,
      "metadata": {
        "colab": {
          "base_uri": "https://localhost:8080/"
        },
        "id": "nV4_rVVK4z3L",
        "outputId": "bed850c3-273a-41c6-c706-03060a89073d"
      },
      "outputs": [
        {
          "name": "stdout",
          "output_type": "stream",
          "text": [
            "Defaulting to user installation because normal site-packages is not writeable\n",
            "Requirement already satisfied: numpy in /Library/Frameworks/Python.framework/Versions/3.12/lib/python3.12/site-packages (1.26.4)\n",
            "Requirement already satisfied: pandas in /Library/Frameworks/Python.framework/Versions/3.12/lib/python3.12/site-packages (2.2.2)\n",
            "Requirement already satisfied: matplotlib in /Library/Frameworks/Python.framework/Versions/3.12/lib/python3.12/site-packages (3.9.1)\n",
            "Requirement already satisfied: seaborn in /Library/Frameworks/Python.framework/Versions/3.12/lib/python3.12/site-packages (0.13.2)\n",
            "Requirement already satisfied: scikit-learn in /Library/Frameworks/Python.framework/Versions/3.12/lib/python3.12/site-packages (1.6.1)\n",
            "Requirement already satisfied: nltk in /Users/joe/Library/Python/3.12/lib/python/site-packages (3.9.1)\n",
            "Requirement already satisfied: gensim in /Users/joe/Library/Python/3.12/lib/python/site-packages (4.3.3)\n",
            "Requirement already satisfied: datasets in /Users/joe/Library/Python/3.12/lib/python/site-packages (3.5.0)\n",
            "Requirement already satisfied: transformers in /Users/joe/Library/Python/3.12/lib/python/site-packages (4.50.3)\n",
            "Requirement already satisfied: python-dateutil>=2.8.2 in /Library/Frameworks/Python.framework/Versions/3.12/lib/python3.12/site-packages (from pandas) (2.9.0.post0)\n",
            "Requirement already satisfied: pytz>=2020.1 in /Library/Frameworks/Python.framework/Versions/3.12/lib/python3.12/site-packages (from pandas) (2024.1)\n",
            "Requirement already satisfied: tzdata>=2022.7 in /Library/Frameworks/Python.framework/Versions/3.12/lib/python3.12/site-packages (from pandas) (2024.1)\n",
            "Requirement already satisfied: contourpy>=1.0.1 in /Library/Frameworks/Python.framework/Versions/3.12/lib/python3.12/site-packages (from matplotlib) (1.2.1)\n",
            "Requirement already satisfied: cycler>=0.10 in /Library/Frameworks/Python.framework/Versions/3.12/lib/python3.12/site-packages (from matplotlib) (0.12.1)\n",
            "Requirement already satisfied: fonttools>=4.22.0 in /Library/Frameworks/Python.framework/Versions/3.12/lib/python3.12/site-packages (from matplotlib) (4.53.1)\n",
            "Requirement already satisfied: kiwisolver>=1.3.1 in /Library/Frameworks/Python.framework/Versions/3.12/lib/python3.12/site-packages (from matplotlib) (1.4.5)\n",
            "Requirement already satisfied: packaging>=20.0 in /Library/Frameworks/Python.framework/Versions/3.12/lib/python3.12/site-packages (from matplotlib) (24.1)\n",
            "Requirement already satisfied: pillow>=8 in /Library/Frameworks/Python.framework/Versions/3.12/lib/python3.12/site-packages (from matplotlib) (10.4.0)\n",
            "Requirement already satisfied: pyparsing>=2.3.1 in /Library/Frameworks/Python.framework/Versions/3.12/lib/python3.12/site-packages (from matplotlib) (3.1.2)\n",
            "Requirement already satisfied: scipy>=1.6.0 in /Library/Frameworks/Python.framework/Versions/3.12/lib/python3.12/site-packages (from scikit-learn) (1.11.4)\n",
            "Requirement already satisfied: joblib>=1.2.0 in /Library/Frameworks/Python.framework/Versions/3.12/lib/python3.12/site-packages (from scikit-learn) (1.4.2)\n",
            "Requirement already satisfied: threadpoolctl>=3.1.0 in /Library/Frameworks/Python.framework/Versions/3.12/lib/python3.12/site-packages (from scikit-learn) (3.5.0)\n",
            "Requirement already satisfied: click in /Library/Frameworks/Python.framework/Versions/3.12/lib/python3.12/site-packages (from nltk) (8.1.8)\n",
            "Requirement already satisfied: regex>=2021.8.3 in /Library/Frameworks/Python.framework/Versions/3.12/lib/python3.12/site-packages (from nltk) (2024.11.6)\n",
            "Requirement already satisfied: tqdm in /Library/Frameworks/Python.framework/Versions/3.12/lib/python3.12/site-packages (from nltk) (4.67.1)\n",
            "Requirement already satisfied: smart-open>=1.8.1 in /Users/joe/Library/Python/3.12/lib/python/site-packages (from gensim) (7.1.0)\n",
            "Requirement already satisfied: filelock in /Library/Frameworks/Python.framework/Versions/3.12/lib/python3.12/site-packages (from datasets) (3.17.0)\n",
            "Requirement already satisfied: pyarrow>=15.0.0 in /Library/Frameworks/Python.framework/Versions/3.12/lib/python3.12/site-packages (from datasets) (19.0.1)\n",
            "Requirement already satisfied: dill<0.3.9,>=0.3.0 in /Users/joe/Library/Python/3.12/lib/python/site-packages (from datasets) (0.3.8)\n",
            "Requirement already satisfied: requests>=2.32.2 in /Library/Frameworks/Python.framework/Versions/3.12/lib/python3.12/site-packages (from datasets) (2.32.3)\n",
            "Requirement already satisfied: xxhash in /Users/joe/Library/Python/3.12/lib/python/site-packages (from datasets) (3.5.0)\n",
            "Requirement already satisfied: multiprocess<0.70.17 in /Users/joe/Library/Python/3.12/lib/python/site-packages (from datasets) (0.70.16)\n",
            "Requirement already satisfied: fsspec<=2024.12.0,>=2023.1.0 in /Library/Frameworks/Python.framework/Versions/3.12/lib/python3.12/site-packages (from fsspec[http]<=2024.12.0,>=2023.1.0->datasets) (2024.12.0)\n",
            "Requirement already satisfied: aiohttp in /Library/Frameworks/Python.framework/Versions/3.12/lib/python3.12/site-packages (from datasets) (3.11.11)\n",
            "Requirement already satisfied: huggingface-hub>=0.24.0 in /Library/Frameworks/Python.framework/Versions/3.12/lib/python3.12/site-packages (from datasets) (0.29.1)\n",
            "Requirement already satisfied: pyyaml>=5.1 in /Library/Frameworks/Python.framework/Versions/3.12/lib/python3.12/site-packages (from datasets) (6.0.1)\n",
            "Requirement already satisfied: tokenizers<0.22,>=0.21 in /Users/joe/Library/Python/3.12/lib/python/site-packages (from transformers) (0.21.1)\n",
            "Requirement already satisfied: safetensors>=0.4.3 in /Users/joe/Library/Python/3.12/lib/python/site-packages (from transformers) (0.5.3)\n",
            "Requirement already satisfied: aiohappyeyeballs>=2.3.0 in /Library/Frameworks/Python.framework/Versions/3.12/lib/python3.12/site-packages (from aiohttp->datasets) (2.4.4)\n",
            "Requirement already satisfied: aiosignal>=1.1.2 in /Library/Frameworks/Python.framework/Versions/3.12/lib/python3.12/site-packages (from aiohttp->datasets) (1.3.2)\n",
            "Requirement already satisfied: attrs>=17.3.0 in /Library/Frameworks/Python.framework/Versions/3.12/lib/python3.12/site-packages (from aiohttp->datasets) (23.2.0)\n",
            "Requirement already satisfied: frozenlist>=1.1.1 in /Library/Frameworks/Python.framework/Versions/3.12/lib/python3.12/site-packages (from aiohttp->datasets) (1.5.0)\n",
            "Requirement already satisfied: multidict<7.0,>=4.5 in /Library/Frameworks/Python.framework/Versions/3.12/lib/python3.12/site-packages (from aiohttp->datasets) (6.1.0)\n",
            "Requirement already satisfied: propcache>=0.2.0 in /Library/Frameworks/Python.framework/Versions/3.12/lib/python3.12/site-packages (from aiohttp->datasets) (0.2.1)\n",
            "Requirement already satisfied: yarl<2.0,>=1.17.0 in /Library/Frameworks/Python.framework/Versions/3.12/lib/python3.12/site-packages (from aiohttp->datasets) (1.18.3)\n",
            "Requirement already satisfied: typing-extensions>=3.7.4.3 in /Library/Frameworks/Python.framework/Versions/3.12/lib/python3.12/site-packages (from huggingface-hub>=0.24.0->datasets) (4.12.2)\n",
            "Requirement already satisfied: six>=1.5 in /Library/Frameworks/Python.framework/Versions/3.12/lib/python3.12/site-packages (from python-dateutil>=2.8.2->pandas) (1.16.0)\n",
            "Requirement already satisfied: charset-normalizer<4,>=2 in /Library/Frameworks/Python.framework/Versions/3.12/lib/python3.12/site-packages (from requests>=2.32.2->datasets) (3.3.2)\n",
            "Requirement already satisfied: idna<4,>=2.5 in /Library/Frameworks/Python.framework/Versions/3.12/lib/python3.12/site-packages (from requests>=2.32.2->datasets) (3.7)\n",
            "Requirement already satisfied: urllib3<3,>=1.21.1 in /Library/Frameworks/Python.framework/Versions/3.12/lib/python3.12/site-packages (from requests>=2.32.2->datasets) (2.3.0)\n",
            "Requirement already satisfied: certifi>=2017.4.17 in /Library/Frameworks/Python.framework/Versions/3.12/lib/python3.12/site-packages (from requests>=2.32.2->datasets) (2024.7.4)\n",
            "Requirement already satisfied: wrapt in /Library/Frameworks/Python.framework/Versions/3.12/lib/python3.12/site-packages (from smart-open>=1.8.1->gensim) (1.17.2)\n",
            "Note: you may need to restart the kernel to use updated packages.\n"
          ]
        }
      ],
      "source": [
        "%pip install numpy pandas matplotlib seaborn scikit-learn nltk gensim datasets transformers"
      ]
    },
    {
      "cell_type": "markdown",
      "metadata": {
        "id": "aQZyaGXvS0Rc"
      },
      "source": [
        "## Question 1 - Word Embeddings and N-gram"
      ]
    },
    {
      "cell_type": "code",
      "execution_count": 2,
      "metadata": {
        "colab": {
          "base_uri": "https://localhost:8080/",
          "height": 529
        },
        "id": "wkid0SKxHCTu",
        "outputId": "99867586-3e8a-42b2-e316-fdf90e200d47"
      },
      "outputs": [
        {
          "name": "stdout",
          "output_type": "stream",
          "text": [
            "['human', 'interface', 'computer']\n",
            "3\n"
          ]
        }
      ],
      "source": [
        "import gensim.downloader as api\n",
        "from gensim.models import FastText\n",
        "from gensim.test.utils import common_texts\n",
        "\n",
        "print(common_texts[0])\n",
        "print(len(common_texts[0]))"
      ]
    },
    {
      "cell_type": "markdown",
      "metadata": {
        "id": "-2qpKr4ESfHY"
      },
      "source": [
        "### 1. (a)"
      ]
    },
    {
      "cell_type": "code",
      "execution_count": 3,
      "metadata": {
        "id": "YWM4dgsRH6qL"
      },
      "outputs": [],
      "source": [
        "from sklearn.metrics.pairwise import cosine_similarity\n",
        "import numpy as np\n",
        "import pandas as pd\n"
      ]
    },
    {
      "cell_type": "code",
      "execution_count": 4,
      "metadata": {
        "id": "IxhnLxF7ILk9"
      },
      "outputs": [],
      "source": [
        "words = [\"Dog\", \"Bark\", \"Tree\", \"Bank\", \"River\", \"Money\"]"
      ]
    },
    {
      "cell_type": "code",
      "execution_count": 5,
      "metadata": {
        "id": "LTIee-l0JpSX"
      },
      "outputs": [],
      "source": [
        "def compute_similarity_matrix(model, words):\n",
        "  vectors = []\n",
        "  labels = []\n",
        "  for word in words:\n",
        "    key = word.lower()\n",
        "    if key in model:\n",
        "      vectors.append(model[key])\n",
        "      labels.append(word)\n",
        "    else:\n",
        "      print(word, \"not found in vocab\")\n",
        "\n",
        "  similarity_matrix = cosine_similarity(vectors)\n",
        "  df = pd.DataFrame(similarity_matrix, index=labels, columns=labels)\n",
        "  return df"
      ]
    },
    {
      "cell_type": "code",
      "execution_count": 6,
      "metadata": {
        "id": "wsMkrvkaM2iV"
      },
      "outputs": [],
      "source": [
        "if 'model' not in globals():\n",
        "    model = api.load('glove-twitter-50')"
      ]
    },
    {
      "cell_type": "code",
      "execution_count": 7,
      "metadata": {
        "id": "D7bRDz9ONqxG"
      },
      "outputs": [
        {
          "data": {
            "text/html": [
              "<div>\n",
              "<style scoped>\n",
              "    .dataframe tbody tr th:only-of-type {\n",
              "        vertical-align: middle;\n",
              "    }\n",
              "\n",
              "    .dataframe tbody tr th {\n",
              "        vertical-align: top;\n",
              "    }\n",
              "\n",
              "    .dataframe thead th {\n",
              "        text-align: right;\n",
              "    }\n",
              "</style>\n",
              "<table border=\"1\" class=\"dataframe\">\n",
              "  <thead>\n",
              "    <tr style=\"text-align: right;\">\n",
              "      <th></th>\n",
              "      <th>Dog</th>\n",
              "      <th>Bark</th>\n",
              "      <th>Tree</th>\n",
              "      <th>Bank</th>\n",
              "      <th>River</th>\n",
              "      <th>Money</th>\n",
              "    </tr>\n",
              "  </thead>\n",
              "  <tbody>\n",
              "    <tr>\n",
              "      <th>Dog</th>\n",
              "      <td>1.000000</td>\n",
              "      <td>0.593780</td>\n",
              "      <td>0.713751</td>\n",
              "      <td>0.348236</td>\n",
              "      <td>0.401201</td>\n",
              "      <td>0.575133</td>\n",
              "    </tr>\n",
              "    <tr>\n",
              "      <th>Bark</th>\n",
              "      <td>0.593780</td>\n",
              "      <td>1.000000</td>\n",
              "      <td>0.545873</td>\n",
              "      <td>0.040109</td>\n",
              "      <td>0.266635</td>\n",
              "      <td>0.290985</td>\n",
              "    </tr>\n",
              "    <tr>\n",
              "      <th>Tree</th>\n",
              "      <td>0.713751</td>\n",
              "      <td>0.545873</td>\n",
              "      <td>1.000000</td>\n",
              "      <td>0.349456</td>\n",
              "      <td>0.487116</td>\n",
              "      <td>0.510081</td>\n",
              "    </tr>\n",
              "    <tr>\n",
              "      <th>Bank</th>\n",
              "      <td>0.348236</td>\n",
              "      <td>0.040109</td>\n",
              "      <td>0.349456</td>\n",
              "      <td>1.000000</td>\n",
              "      <td>0.319922</td>\n",
              "      <td>0.674656</td>\n",
              "    </tr>\n",
              "    <tr>\n",
              "      <th>River</th>\n",
              "      <td>0.401201</td>\n",
              "      <td>0.266635</td>\n",
              "      <td>0.487116</td>\n",
              "      <td>0.319922</td>\n",
              "      <td>1.000000</td>\n",
              "      <td>0.337800</td>\n",
              "    </tr>\n",
              "    <tr>\n",
              "      <th>Money</th>\n",
              "      <td>0.575133</td>\n",
              "      <td>0.290985</td>\n",
              "      <td>0.510081</td>\n",
              "      <td>0.674656</td>\n",
              "      <td>0.337800</td>\n",
              "      <td>1.000000</td>\n",
              "    </tr>\n",
              "  </tbody>\n",
              "</table>\n",
              "</div>"
            ],
            "text/plain": [
              "            Dog      Bark      Tree      Bank     River     Money\n",
              "Dog    1.000000  0.593780  0.713751  0.348236  0.401201  0.575133\n",
              "Bark   0.593780  1.000000  0.545873  0.040109  0.266635  0.290985\n",
              "Tree   0.713751  0.545873  1.000000  0.349456  0.487116  0.510081\n",
              "Bank   0.348236  0.040109  0.349456  1.000000  0.319922  0.674656\n",
              "River  0.401201  0.266635  0.487116  0.319922  1.000000  0.337800\n",
              "Money  0.575133  0.290985  0.510081  0.674656  0.337800  1.000000"
            ]
          },
          "metadata": {},
          "output_type": "display_data"
        }
      ],
      "source": [
        "similarity_matrix = compute_similarity_matrix(model, words)\n",
        "display(similarity_matrix)"
      ]
    },
    {
      "cell_type": "markdown",
      "metadata": {
        "id": "WDH6XQT-SoAi"
      },
      "source": [
        "### 1. (b)"
      ]
    },
    {
      "cell_type": "code",
      "execution_count": 8,
      "metadata": {
        "id": "lWwIms8COx24"
      },
      "outputs": [
        {
          "data": {
            "text/html": [
              "<div>\n",
              "<style scoped>\n",
              "    .dataframe tbody tr th:only-of-type {\n",
              "        vertical-align: middle;\n",
              "    }\n",
              "\n",
              "    .dataframe tbody tr th {\n",
              "        vertical-align: top;\n",
              "    }\n",
              "\n",
              "    .dataframe thead th {\n",
              "        text-align: right;\n",
              "    }\n",
              "</style>\n",
              "<table border=\"1\" class=\"dataframe\">\n",
              "  <thead>\n",
              "    <tr style=\"text-align: right;\">\n",
              "      <th></th>\n",
              "      <th>Dog</th>\n",
              "      <th>Bark</th>\n",
              "      <th>Tree</th>\n",
              "      <th>Bank</th>\n",
              "      <th>River</th>\n",
              "      <th>Money</th>\n",
              "    </tr>\n",
              "  </thead>\n",
              "  <tbody>\n",
              "    <tr>\n",
              "      <th>Dog</th>\n",
              "      <td>1.000000</td>\n",
              "      <td>0.107832</td>\n",
              "      <td>-0.169992</td>\n",
              "      <td>0.031316</td>\n",
              "      <td>-0.013496</td>\n",
              "      <td>-0.111240</td>\n",
              "    </tr>\n",
              "    <tr>\n",
              "      <th>Bark</th>\n",
              "      <td>0.107832</td>\n",
              "      <td>1.000000</td>\n",
              "      <td>0.207565</td>\n",
              "      <td>0.169627</td>\n",
              "      <td>0.086654</td>\n",
              "      <td>-0.046768</td>\n",
              "    </tr>\n",
              "    <tr>\n",
              "      <th>Tree</th>\n",
              "      <td>-0.169992</td>\n",
              "      <td>0.207565</td>\n",
              "      <td>1.000000</td>\n",
              "      <td>0.035650</td>\n",
              "      <td>0.065254</td>\n",
              "      <td>-0.263089</td>\n",
              "    </tr>\n",
              "    <tr>\n",
              "      <th>Bank</th>\n",
              "      <td>0.031316</td>\n",
              "      <td>0.169627</td>\n",
              "      <td>0.035650</td>\n",
              "      <td>1.000000</td>\n",
              "      <td>0.203295</td>\n",
              "      <td>-0.016420</td>\n",
              "    </tr>\n",
              "    <tr>\n",
              "      <th>River</th>\n",
              "      <td>-0.013496</td>\n",
              "      <td>0.086654</td>\n",
              "      <td>0.065254</td>\n",
              "      <td>0.203295</td>\n",
              "      <td>1.000000</td>\n",
              "      <td>-0.122650</td>\n",
              "    </tr>\n",
              "    <tr>\n",
              "      <th>Money</th>\n",
              "      <td>-0.111240</td>\n",
              "      <td>-0.046768</td>\n",
              "      <td>-0.263089</td>\n",
              "      <td>-0.016420</td>\n",
              "      <td>-0.122650</td>\n",
              "      <td>1.000000</td>\n",
              "    </tr>\n",
              "  </tbody>\n",
              "</table>\n",
              "</div>"
            ],
            "text/plain": [
              "            Dog      Bark      Tree      Bank     River     Money\n",
              "Dog    1.000000  0.107832 -0.169992  0.031316 -0.013496 -0.111240\n",
              "Bark   0.107832  1.000000  0.207565  0.169627  0.086654 -0.046768\n",
              "Tree  -0.169992  0.207565  1.000000  0.035650  0.065254 -0.263089\n",
              "Bank   0.031316  0.169627  0.035650  1.000000  0.203295 -0.016420\n",
              "River -0.013496  0.086654  0.065254  0.203295  1.000000 -0.122650\n",
              "Money -0.111240 -0.046768 -0.263089 -0.016420 -0.122650  1.000000"
            ]
          },
          "metadata": {},
          "output_type": "display_data"
        }
      ],
      "source": [
        "fasttext_model = FastText(sentences=common_texts, vector_size=50, window=5, min_count=1, epochs=10)\n",
        "fasttext_similarity_matrix = compute_similarity_matrix(fasttext_model.wv,words)\n",
        "display(fasttext_similarity_matrix)"
      ]
    },
    {
      "cell_type": "markdown",
      "metadata": {
        "id": "W3ZOzAblS3BM"
      },
      "source": [
        "### 1. (c)"
      ]
    },
    {
      "cell_type": "code",
      "execution_count": 9,
      "metadata": {
        "id": "G4HUdmUPRBnu"
      },
      "outputs": [
        {
          "data": {
            "image/png": "[encoded data removed]",
            "text/plain": [
              "<Figure size 800x600 with 2 Axes>"
            ]
          },
          "metadata": {},
          "output_type": "display_data"
        },
        {
          "data": {
            "image/png": "[encoded data removed]",
            "text/plain": [
              "<Figure size 800x600 with 2 Axes>"
            ]
          },
          "metadata": {},
          "output_type": "display_data"
        }
      ],
      "source": [
        "import seaborn as sns\n",
        "import matplotlib.pyplot as plt\n",
        "\n",
        "import seaborn as sns\n",
        "import matplotlib.pyplot as plt\n",
        "\n",
        "# Function to plot a heatmap from a similarity matrix\n",
        "def plot_heatmap(sim_matrix, title):\n",
        "    plt.figure(figsize=(8, 6))\n",
        "    sns.heatmap(sim_matrix, annot=True, cmap=\"coolwarm\", fmt=\".2f\", linewidths=0.5)\n",
        "    plt.title(title)\n",
        "    plt.xticks(rotation=45)\n",
        "    plt.yticks(rotation=0)\n",
        "    plt.tight_layout()\n",
        "    plt.show()\n",
        "\n",
        "# Plot GloVe similarity heatmap\n",
        "plot_heatmap(similarity_matrix, \"GloVe Similarity Heatmap\")\n",
        "\n",
        "# Plot FastText similarity heatmap\n",
        "plot_heatmap(fasttext_similarity_matrix, \"FastText Similarity Heatmap\")\n"
      ]
    },
    {
      "cell_type": "markdown",
      "metadata": {
        "id": "I3bCDQdfSEVx"
      },
      "source": [
        "#### Which embedding captures better semantics?\n",
        "\n",
        "Based on the similarity matrices and visualizations, GloVe clearly captures better semantic relationships among the words compared to FastText in this case.\n",
        "\n",
        "The GloVe model is pretrained on a large-scale Twitter corpus and contains well-established semantic patterns. For example:\n",
        "- \"Dog\" and \"Bark\" have a similarity of 0.59, reflecting their real-world connection.\n",
        "- \"Bank\" and \"Money\" score 0.67, indicating strong financial association.\n",
        "- \"Bank\" and \"River\" also show moderate similarity at 0.32, acknowledging the alternate geographic meaning of \"bank.\"\n",
        "\n",
        "In contrast, the FastText model, although more flexible in handling out-of-vocabulary words and morphology through subword units, was trained here on a small built-in dataset (common_texts) that lacks real-world context. As a result:\n",
        "- \"Dog\" and \"Bark\" only score 0.11\n",
        "- \"Bank\" and \"Money\" show near-zero similarity (-0.02)\n",
        "- Many relationships even have negative similarities, indicating noise rather than semantic closeness.\n",
        "\n",
        "While FastText has the potential to outperform GloVe on domain-specific or rare words if trained on a richer corpus, in this case, GloVe significantly outperforms FastText in capturing meaningful semantic similarities.\n"
      ]
    },
    {
      "cell_type": "markdown",
      "metadata": {
        "id": "1x8Is7mlTWn9"
      },
      "source": [
        "### 2. N-grams and Classification (a)"
      ]
    },
    {
      "cell_type": "code",
      "execution_count": 10,
      "metadata": {
        "id": "utvqgwe9T52W"
      },
      "outputs": [
        {
          "name": "stderr",
          "output_type": "stream",
          "text": [
            "[nltk_data] Downloading package twitter_samples to\n",
            "[nltk_data]     /Users/joe/nltk_data...\n",
            "[nltk_data]   Package twitter_samples is already up-to-date!\n",
            "[nltk_data] Downloading package stopwords to /Users/joe/nltk_data...\n",
            "[nltk_data]   Package stopwords is already up-to-date!\n"
          ]
        }
      ],
      "source": [
        "import pandas as pd\n",
        "import nltk\n",
        "from nltk.corpus import twitter_samples\n",
        "from nltk.corpus import stopwords\n",
        "import matplotlib.pyplot as plt\n",
        "from sklearn.model_selection import train_test_split\n",
        "\n",
        "nltk.download('twitter_samples')\n",
        "nltk.download('stopwords')\n",
        "\n",
        "positive_tweets = twitter_samples.strings('positive_tweets.json')\n",
        "negative_tweets = twitter_samples.strings('negative_tweets.json')\n",
        "\n",
        "all_tweets = positive_tweets + negative_tweets\n",
        "labels = [1] * len(positive_tweets) + [0] * len(negative_tweets)\n",
        "\n",
        "X_train, X_test, y_train, y_test = train_test_split(all_tweets, labels, test_size=0.3, random_state=77)\n"
      ]
    },
    {
      "cell_type": "markdown",
      "metadata": {
        "id": "_tpWTVO8T6lu"
      },
      "source": [
        "### 2. (b)"
      ]
    },
    {
      "cell_type": "code",
      "execution_count": 11,
      "metadata": {
        "id": "trAK4zijgBw2"
      },
      "outputs": [],
      "source": [
        "from sklearn.feature_extraction.text import CountVectorizer\n",
        "\n",
        "vectorizers = {\n",
        "    n: CountVectorizer(ngram_range=(n, n), stop_words='english')\n",
        "    for n in range(1, 5)\n",
        "}\n"
      ]
    },
    {
      "cell_type": "markdown",
      "metadata": {
        "id": "kOVywZ_MT952"
      },
      "source": [
        "### 2. (c)"
      ]
    },
    {
      "cell_type": "code",
      "execution_count": 12,
      "metadata": {
        "id": "3BZiWsfegeg9"
      },
      "outputs": [
        {
          "name": "stdout",
          "output_type": "stream",
          "text": [
            "1 -gram accuracy score 0.7436666666666667\n",
            "2 -gram accuracy score 0.6163333333333333\n",
            "3 -gram accuracy score 0.55\n",
            "4 -gram accuracy score 0.5386666666666666\n"
          ]
        }
      ],
      "source": [
        "from sklearn.linear_model import LogisticRegression\n",
        "from sklearn.metrics import accuracy_score\n",
        "\n",
        "res = []\n",
        "\n",
        "for n, vectorizer in vectorizers.items():\n",
        "    X_train_vec = vectorizer.fit_transform(X_train)\n",
        "    X_test_vec = vectorizer.transform(X_test)\n",
        "\n",
        "    model = LogisticRegression(max_iter=200)\n",
        "    model.fit(X_train_vec, y_train)\n",
        "\n",
        "    y_pred = model.predict(X_test_vec)\n",
        "    acc = accuracy_score(y_test, y_pred)\n",
        "\n",
        "    res.append((n, acc))\n",
        "    print(n, \"-gram accuracy score\", acc)"
      ]
    },
    {
      "cell_type": "markdown",
      "metadata": {
        "id": "n8lZqfRZUBHT"
      },
      "source": [
        "### 2."
      ]
    },
    {
      "cell_type": "code",
      "execution_count": 13,
      "metadata": {
        "id": "4Ec5c4m7hIl0"
      },
      "outputs": [
        {
          "data": {
            "image/png": "[encoded data removed]",
            "text/plain": [
              "<Figure size 640x480 with 1 Axes>"
            ]
          },
          "metadata": {},
          "output_type": "display_data"
        }
      ],
      "source": [
        "unzipped = list(zip(*res))\n",
        "\n",
        "ngram_sizes, accuracy_scores = unzipped[0], unzipped[1]\n",
        "\n",
        "plt.plot(ngram_sizes, accuracy_scores, marker=\"o\")\n",
        "plt.title(\"Accuracy vs n-gram size\")\n",
        "plt.xlabel(\"n-gram size\")\n",
        "plt.ylabel(\"Accuracy\")\n",
        "# plt.grid(True)\n",
        "# plt.xticks(ngram_sizes)\n",
        "plt.xticks(ngram_sizes, labels=[\"unigram = 1\", \"bigram = 2\", \"trigram = 3\", \"quadgram = 4\"])\n",
        "plt.show()"
      ]
    },
    {
      "cell_type": "markdown",
      "metadata": {
        "id": "x9EuipYOlr9A"
      },
      "source": [
        "#### (d) How does the value of n in n-gram affect the model’s performance?\n",
        "\n",
        "As the value of n increases, the model’s performance decreases. Unigrams (n = 1) gave the highest accuracy, while bigrams, trigrams, and quadgrams showed a steady drop in accuracy.\n",
        "\n",
        "This is likely because larger n-grams lead to more sparse features. While bigrams and higher can capture more context, they also result in many rare combinations that the model sees too few times to learn from. This can cause overfitting and reduced generalization.\n",
        "\n",
        "In this case, unigrams performed best due to their simplicity and broad coverage across the dataset.\n"
      ]
    },
    {
      "cell_type": "markdown",
      "metadata": {
        "id": "JPZA0tS1UIp7"
      },
      "source": [
        "## Question 2 RNN and Machine Translation"
      ]
    },
    {
      "cell_type": "markdown",
      "metadata": {
        "id": "QCIrjMVdUdia"
      },
      "source": [
        "### 1."
      ]
    },
    {
      "cell_type": "code",
      "execution_count": 14,
      "metadata": {
        "id": "YAA8Vo3bxIpl"
      },
      "outputs": [
        {
          "name": "stdout",
          "output_type": "stream",
          "text": [
            "Defaulting to user installation because normal site-packages is not writeable\n",
            "Looking in indexes: https://download.pytorch.org/whl/cu118\n",
            "Requirement already satisfied: torch in /Library/Frameworks/Python.framework/Versions/3.12/lib/python3.12/site-packages (2.5.1)\n",
            "Requirement already satisfied: filelock in /Library/Frameworks/Python.framework/Versions/3.12/lib/python3.12/site-packages (from torch) (3.17.0)\n",
            "Requirement already satisfied: typing-extensions>=4.8.0 in /Library/Frameworks/Python.framework/Versions/3.12/lib/python3.12/site-packages (from torch) (4.12.2)\n",
            "Requirement already satisfied: networkx in /Library/Frameworks/Python.framework/Versions/3.12/lib/python3.12/site-packages (from torch) (3.4.2)\n",
            "Requirement already satisfied: jinja2 in /Library/Frameworks/Python.framework/Versions/3.12/lib/python3.12/site-packages (from torch) (3.1.4)\n",
            "Requirement already satisfied: fsspec in /Library/Frameworks/Python.framework/Versions/3.12/lib/python3.12/site-packages (from torch) (2024.12.0)\n",
            "Requirement already satisfied: setuptools in /Library/Frameworks/Python.framework/Versions/3.12/lib/python3.12/site-packages (from torch) (70.3.0)\n",
            "Requirement already satisfied: sympy==1.13.1 in /Library/Frameworks/Python.framework/Versions/3.12/lib/python3.12/site-packages (from torch) (1.13.1)\n",
            "Requirement already satisfied: mpmath<1.4,>=1.1.0 in /Library/Frameworks/Python.framework/Versions/3.12/lib/python3.12/site-packages (from sympy==1.13.1->torch) (1.3.0)\n",
            "Requirement already satisfied: MarkupSafe>=2.0 in /Library/Frameworks/Python.framework/Versions/3.12/lib/python3.12/site-packages (from jinja2->torch) (2.1.5)\n",
            "Note: you may need to restart the kernel to use updated packages.\n",
            "Defaulting to user installation because normal site-packages is not writeable\n",
            "Requirement already satisfied: datasets in /Users/joe/Library/Python/3.12/lib/python/site-packages (3.5.0)\n",
            "Requirement already satisfied: evaluate in /Users/joe/Library/Python/3.12/lib/python/site-packages (0.4.3)\n",
            "Requirement already satisfied: filelock in /Library/Frameworks/Python.framework/Versions/3.12/lib/python3.12/site-packages (from datasets) (3.17.0)\n",
            "Requirement already satisfied: numpy>=1.17 in /Library/Frameworks/Python.framework/Versions/3.12/lib/python3.12/site-packages (from datasets) (1.26.4)\n",
            "Requirement already satisfied: pyarrow>=15.0.0 in /Library/Frameworks/Python.framework/Versions/3.12/lib/python3.12/site-packages (from datasets) (19.0.1)\n",
            "Requirement already satisfied: dill<0.3.9,>=0.3.0 in /Users/joe/Library/Python/3.12/lib/python/site-packages (from datasets) (0.3.8)\n",
            "Requirement already satisfied: pandas in /Library/Frameworks/Python.framework/Versions/3.12/lib/python3.12/site-packages (from datasets) (2.2.2)\n",
            "Requirement already satisfied: requests>=2.32.2 in /Library/Frameworks/Python.framework/Versions/3.12/lib/python3.12/site-packages (from datasets) (2.32.3)\n",
            "Requirement already satisfied: tqdm>=4.66.3 in /Library/Frameworks/Python.framework/Versions/3.12/lib/python3.12/site-packages (from datasets) (4.67.1)\n",
            "Requirement already satisfied: xxhash in /Users/joe/Library/Python/3.12/lib/python/site-packages (from datasets) (3.5.0)\n",
            "Requirement already satisfied: multiprocess<0.70.17 in /Users/joe/Library/Python/3.12/lib/python/site-packages (from datasets) (0.70.16)\n",
            "Requirement already satisfied: fsspec<=2024.12.0,>=2023.1.0 in /Library/Frameworks/Python.framework/Versions/3.12/lib/python3.12/site-packages (from fsspec[http]<=2024.12.0,>=2023.1.0->datasets) (2024.12.0)\n",
            "Requirement already satisfied: aiohttp in /Library/Frameworks/Python.framework/Versions/3.12/lib/python3.12/site-packages (from datasets) (3.11.11)\n",
            "Requirement already satisfied: huggingface-hub>=0.24.0 in /Library/Frameworks/Python.framework/Versions/3.12/lib/python3.12/site-packages (from datasets) (0.29.1)\n",
            "Requirement already satisfied: packaging in /Library/Frameworks/Python.framework/Versions/3.12/lib/python3.12/site-packages (from datasets) (24.1)\n",
            "Requirement already satisfied: pyyaml>=5.1 in /Library/Frameworks/Python.framework/Versions/3.12/lib/python3.12/site-packages (from datasets) (6.0.1)\n",
            "Requirement already satisfied: aiohappyeyeballs>=2.3.0 in /Library/Frameworks/Python.framework/Versions/3.12/lib/python3.12/site-packages (from aiohttp->datasets) (2.4.4)\n",
            "Requirement already satisfied: aiosignal>=1.1.2 in /Library/Frameworks/Python.framework/Versions/3.12/lib/python3.12/site-packages (from aiohttp->datasets) (1.3.2)\n",
            "Requirement already satisfied: attrs>=17.3.0 in /Library/Frameworks/Python.framework/Versions/3.12/lib/python3.12/site-packages (from aiohttp->datasets) (23.2.0)\n",
            "Requirement already satisfied: frozenlist>=1.1.1 in /Library/Frameworks/Python.framework/Versions/3.12/lib/python3.12/site-packages (from aiohttp->datasets) (1.5.0)\n",
            "Requirement already satisfied: multidict<7.0,>=4.5 in /Library/Frameworks/Python.framework/Versions/3.12/lib/python3.12/site-packages (from aiohttp->datasets) (6.1.0)\n",
            "Requirement already satisfied: propcache>=0.2.0 in /Library/Frameworks/Python.framework/Versions/3.12/lib/python3.12/site-packages (from aiohttp->datasets) (0.2.1)\n",
            "Requirement already satisfied: yarl<2.0,>=1.17.0 in /Library/Frameworks/Python.framework/Versions/3.12/lib/python3.12/site-packages (from aiohttp->datasets) (1.18.3)\n",
            "Requirement already satisfied: typing-extensions>=3.7.4.3 in /Library/Frameworks/Python.framework/Versions/3.12/lib/python3.12/site-packages (from huggingface-hub>=0.24.0->datasets) (4.12.2)\n",
            "Requirement already satisfied: charset-normalizer<4,>=2 in /Library/Frameworks/Python.framework/Versions/3.12/lib/python3.12/site-packages (from requests>=2.32.2->datasets) (3.3.2)\n",
            "Requirement already satisfied: idna<4,>=2.5 in /Library/Frameworks/Python.framework/Versions/3.12/lib/python3.12/site-packages (from requests>=2.32.2->datasets) (3.7)\n",
            "Requirement already satisfied: urllib3<3,>=1.21.1 in /Library/Frameworks/Python.framework/Versions/3.12/lib/python3.12/site-packages (from requests>=2.32.2->datasets) (2.3.0)\n",
            "Requirement already satisfied: certifi>=2017.4.17 in /Library/Frameworks/Python.framework/Versions/3.12/lib/python3.12/site-packages (from requests>=2.32.2->datasets) (2024.7.4)\n",
            "Requirement already satisfied: python-dateutil>=2.8.2 in /Library/Frameworks/Python.framework/Versions/3.12/lib/python3.12/site-packages (from pandas->datasets) (2.9.0.post0)\n",
            "Requirement already satisfied: pytz>=2020.1 in /Library/Frameworks/Python.framework/Versions/3.12/lib/python3.12/site-packages (from pandas->datasets) (2024.1)\n",
            "Requirement already satisfied: tzdata>=2022.7 in /Library/Frameworks/Python.framework/Versions/3.12/lib/python3.12/site-packages (from pandas->datasets) (2024.1)\n",
            "Requirement already satisfied: six>=1.5 in /Library/Frameworks/Python.framework/Versions/3.12/lib/python3.12/site-packages (from python-dateutil>=2.8.2->pandas->datasets) (1.16.0)\n",
            "Note: you may need to restart the kernel to use updated packages.\n"
          ]
        }
      ],
      "source": [
        "# GPU-ready PyTorch with CUDA 11.8\n",
        "%pip install torch --index-url https://download.pytorch.org/whl/cu118\n",
        "\n",
        "# Hugging Face datasets + BLEU evaluation\n",
        "%pip install datasets evaluate"
      ]
    },
    {
      "cell_type": "code",
      "execution_count": 15,
      "metadata": {},
      "outputs": [
        {
          "name": "stdout",
          "output_type": "stream",
          "text": [
            "PyTorch version: 2.5.1\n",
            "CUDA available: False\n",
            "GPU device name: None\n"
          ]
        }
      ],
      "source": [
        "import torch\n",
        "\n",
        "print(\"PyTorch version:\", torch.__version__)\n",
        "print(\"CUDA available:\", torch.cuda.is_available())\n",
        "print(\"GPU device name:\", torch.cuda.get_device_name(0) if torch.cuda.is_available() else \"None\")\n"
      ]
    },
    {
      "cell_type": "code",
      "execution_count": 16,
      "metadata": {},
      "outputs": [],
      "source": [
        "from datasets import load_dataset\n",
        "\n",
        "# Load BillSum and split\n",
        "billsum = load_dataset(\"billsum\", split=\"ca_test\")\n",
        "billsum = billsum.train_test_split(test_size=0.2)\n"
      ]
    },
    {
      "cell_type": "code",
      "execution_count": 17,
      "metadata": {},
      "outputs": [
        {
          "name": "stdout",
          "output_type": "stream",
          "text": [
            "Tokenizing config: 1024_128\n"
          ]
        },
        {
          "data": {
            "application/vnd.jupyter.widget-view+json": {
              "model_id": "0a3965790fe64d28a56c57863262461e",
              "version_major": 2,
              "version_minor": 0
            },
            "text/plain": [
              "Map:   0%|          | 0/989 [00:00<?, ? examples/s]"
            ]
          },
          "metadata": {},
          "output_type": "display_data"
        },
        {
          "data": {
            "application/vnd.jupyter.widget-view+json": {
              "model_id": "b2a50f36c8ba4f21be11ba686dc5af4f",
              "version_major": 2,
              "version_minor": 0
            },
            "text/plain": [
              "Map:   0%|          | 0/248 [00:00<?, ? examples/s]"
            ]
          },
          "metadata": {},
          "output_type": "display_data"
        },
        {
          "name": "stdout",
          "output_type": "stream",
          "text": [
            "Tokenizing config: 1024_256\n"
          ]
        },
        {
          "data": {
            "application/vnd.jupyter.widget-view+json": {
              "model_id": "c7c2301397a24003aa3b07bda07b49fd",
              "version_major": 2,
              "version_minor": 0
            },
            "text/plain": [
              "Map:   0%|          | 0/989 [00:00<?, ? examples/s]"
            ]
          },
          "metadata": {},
          "output_type": "display_data"
        },
        {
          "data": {
            "application/vnd.jupyter.widget-view+json": {
              "model_id": "5d0646ef7533415b9a2f55a3d0921f64",
              "version_major": 2,
              "version_minor": 0
            },
            "text/plain": [
              "Map:   0%|          | 0/248 [00:00<?, ? examples/s]"
            ]
          },
          "metadata": {},
          "output_type": "display_data"
        },
        {
          "name": "stdout",
          "output_type": "stream",
          "text": [
            "Tokenizing config: 2048_128\n"
          ]
        },
        {
          "data": {
            "application/vnd.jupyter.widget-view+json": {
              "model_id": "f86287ca4ecc410dbecbdddb13f72e60",
              "version_major": 2,
              "version_minor": 0
            },
            "text/plain": [
              "Map:   0%|          | 0/989 [00:00<?, ? examples/s]"
            ]
          },
          "metadata": {},
          "output_type": "display_data"
        },
        {
          "data": {
            "application/vnd.jupyter.widget-view+json": {
              "model_id": "b71d06c4d7b147cd9f516154fead4c9a",
              "version_major": 2,
              "version_minor": 0
            },
            "text/plain": [
              "Map:   0%|          | 0/248 [00:00<?, ? examples/s]"
            ]
          },
          "metadata": {},
          "output_type": "display_data"
        },
        {
          "name": "stdout",
          "output_type": "stream",
          "text": [
            "Tokenizing config: 2048_256\n"
          ]
        },
        {
          "data": {
            "application/vnd.jupyter.widget-view+json": {
              "model_id": "732fda4c30254d65a888cba51c3d3021",
              "version_major": 2,
              "version_minor": 0
            },
            "text/plain": [
              "Map:   0%|          | 0/989 [00:00<?, ? examples/s]"
            ]
          },
          "metadata": {},
          "output_type": "display_data"
        },
        {
          "data": {
            "application/vnd.jupyter.widget-view+json": {
              "model_id": "a75149b1b7a34facae75a185f0e722d7",
              "version_major": 2,
              "version_minor": 0
            },
            "text/plain": [
              "Map:   0%|          | 0/248 [00:00<?, ? examples/s]"
            ]
          },
          "metadata": {},
          "output_type": "display_data"
        }
      ],
      "source": [
        "from transformers import AutoTokenizer\n",
        "\n",
        "tokenizer = AutoTokenizer.from_pretrained(\"t5-small\")\n",
        "\n",
        "MAX_INPUT_1024 = 1024\n",
        "MAX_INPUT_2048 = 2048\n",
        "MAX_TARGET_128 = 128\n",
        "MAX_TARGET_256 = 256\n",
        "\n",
        "configurations = [\n",
        "    {\"name\": \"1024_128\", \"input_len\": MAX_INPUT_1024, \"target_len\": MAX_TARGET_128},\n",
        "    {\"name\": \"1024_256\", \"input_len\": MAX_INPUT_1024, \"target_len\": MAX_TARGET_256},\n",
        "    {\"name\": \"2048_128\", \"input_len\": MAX_INPUT_2048, \"target_len\": MAX_TARGET_128},\n",
        "    {\"name\": \"2048_256\", \"input_len\": MAX_INPUT_2048, \"target_len\": MAX_TARGET_256},\n",
        "]\n",
        "\n",
        "tokenized_versions = {}\n",
        "\n",
        "for config in configurations:\n",
        "    def preprocess(example):\n",
        "        inputs = tokenizer(example[\"text\"], max_length=config[\"input_len\"], truncation=True, padding=\"max_length\")\n",
        "        targets = tokenizer(example[\"summary\"], max_length=config[\"target_len\"], truncation=True, padding=\"max_length\")\n",
        "        return {\n",
        "            \"input_ids\": inputs[\"input_ids\"],\n",
        "            \"attention_mask\": inputs[\"attention_mask\"],\n",
        "            \"labels\": targets[\"input_ids\"]\n",
        "        }\n",
        "\n",
        "    print(f\"Tokenizing config: {config['name']}\")\n",
        "    tokenized = billsum.map(preprocess, batched=True)\n",
        "    tokenized_versions[config[\"name\"]] = tokenized\n"
      ]
    },
    {
      "cell_type": "code",
      "execution_count": 18,
      "metadata": {},
      "outputs": [],
      "source": [
        "import torch\n",
        "from torch.utils.data import Dataset, DataLoader\n",
        "\n",
        "class Seq2SeqDataset(Dataset):\n",
        "    def __init__(self, data):\n",
        "        self.input_ids = data[\"input_ids\"]\n",
        "        self.attention_mask = data[\"attention_mask\"]\n",
        "        self.labels = data[\"labels\"]\n",
        "\n",
        "    def __len__(self):\n",
        "        return len(self.input_ids)\n",
        "\n",
        "    def __getitem__(self, idx):\n",
        "        return {\n",
        "            \"input_ids\": torch.tensor(self.input_ids[idx], dtype=torch.long),\n",
        "            \"attention_mask\": torch.tensor(self.attention_mask[idx], dtype=torch.long),\n",
        "            \"labels\": torch.tensor(self.labels[idx], dtype=torch.long)\n",
        "        }\n"
      ]
    },
    {
      "cell_type": "code",
      "execution_count": 19,
      "metadata": {},
      "outputs": [],
      "source": [
        "import torch.nn as nn\n",
        "\n",
        "class Seq2SeqLSTM(nn.Module):\n",
        "    def __init__(self, vocab_size, embed_dim, hidden_dim, input_len, target_len, dropout=0.1):\n",
        "        super().__init__()\n",
        "        self.embed = nn.Embedding(vocab_size, embed_dim)\n",
        "        self.encoder_lstm = nn.LSTM(embed_dim, hidden_dim, batch_first=True)\n",
        "        self.decoder_lstm = nn.LSTM(embed_dim, hidden_dim, batch_first=True)\n",
        "        self.fc_out = nn.Linear(hidden_dim, vocab_size)\n",
        "        self.dropout = nn.Dropout(dropout)\n",
        "\n",
        "    def forward(self, src, tgt):\n",
        "        embedded_src = self.dropout(self.embed(src))\n",
        "        _, (hidden, cell) = self.encoder_lstm(embedded_src)\n",
        "\n",
        "        embedded_tgt = self.dropout(self.embed(tgt))\n",
        "        decoder_outputs, _ = self.decoder_lstm(embedded_tgt, (hidden, cell))\n",
        "        return self.fc_out(decoder_outputs)\n"
      ]
    },
    {
      "cell_type": "code",
      "execution_count": null,
      "metadata": {},
      "outputs": [],
      "source": [
        "def train_model(model, train_loader, optimizer, criterion, device, epochs=3):\n",
        "    model.train()\n",
        "    for epoch in range(epochs):\n",
        "        total_loss = 0\n",
        "        for batch in train_loader:\n",
        "            input_ids = batch[\"input_ids\"].to(device)\n",
        "            labels = batch[\"labels\"].to(device)\n",
        "\n",
        "            decoder_input = labels[:, :-1]\n",
        "            decoder_target = labels[:, 1:]\n",
        "\n",
        "            outputs = model(input_ids, decoder_input)\n",
        "            outputs = outputs.reshape(-1, outputs.shape[-1])\n",
        "            decoder_target = decoder_target.reshape(-1)\n",
        "\n",
        "            loss = criterion(outputs, decoder_target)\n",
        "\n",
        "            optimizer.zero_grad()\n",
        "            loss.backward()\n",
        "            optimizer.step()\n",
        "\n",
        "            total_loss += loss.item()\n",
        "        print(f\"Epoch {epoch+1}/{epochs} - Loss: {total_loss / len(train_loader):.4f}\")\n"
      ]
    },
    {
      "cell_type": "code",
      "execution_count": null,
      "metadata": {},
      "outputs": [],
      "source": [
        "import evaluate\n",
        "\n",
        "def evaluate_bleu(model, test_loader, tokenizer, device):\n",
        "    model.eval()\n",
        "    bleu = evaluate.load(\"bleu\")\n",
        "    predictions, references = [], []\n",
        "\n",
        "    with torch.no_grad():\n",
        "        for batch in test_loader:\n",
        "            input_ids = batch[\"input_ids\"].to(device)\n",
        "            labels = batch[\"labels\"].to(device)\n",
        "            decoder_input = labels[:, :-1]\n",
        "\n",
        "            output_logits = model(input_ids, decoder_input)\n",
        "            pred_ids = torch.argmax(output_logits, dim=-1)\n",
        "\n",
        "            decoded_preds = tokenizer.batch_decode(pred_ids, skip_special_tokens=True)\n",
        "            decoded_labels = tokenizer.batch_decode(labels, skip_special_tokens=True)\n",
        "\n",
        "            predictions.extend(decoded_preds)\n",
        "            references.extend([[ref] for ref in decoded_labels])\n",
        "\n",
        "    score = bleu.compute(predictions=predictions, references=references)\n",
        "    return score[\"bleu\"]\n"
      ]
    },
    {
      "cell_type": "code",
      "execution_count": 30,
      "metadata": {},
      "outputs": [
        {
          "name": "stdout",
          "output_type": "stream",
          "text": [
            "Model for 1024_128 already exists. Loading from model_1024_128.pt...\n"
          ]
        },
        {
          "name": "stderr",
          "output_type": "stream",
          "text": [
            "/var/folders/xx/dcdf2ph51j95qzcp464_68v00000gn/T/ipykernel_70705/173871121.py:28: FutureWarning: You are using `torch.load` with `weights_only=False` (the current default value), which uses the default pickle module implicitly. It is possible to construct malicious pickle data which will execute arbitrary code during unpickling (See https://github.com/pytorch/pytorch/blob/main/SECURITY.md#untrusted-models for more details). In a future release, the default value for `weights_only` will be flipped to `True`. This limits the functions that could be executed during unpickling. Arbitrary objects will no longer be allowed to be loaded via this mode unless they are explicitly allowlisted by the user via `torch.serialization.add_safe_globals`. We recommend you start setting `weights_only=True` for any use case where you don't have full control of the loaded file. Please open an issue on GitHub for any issues related to this experimental feature.\n",
            "  model.load_state_dict(torch.load(model_path, map_location=device))\n"
          ]
        },
        {
          "name": "stdout",
          "output_type": "stream",
          "text": [
            "BLEU score for 1024_128: 0.0234\n",
            "Model for 1024_256 already exists. Loading from model_1024_256.pt...\n",
            "BLEU score for 1024_256: 0.0287\n"
          ]
        },
        {
          "ename": "KeyboardInterrupt",
          "evalue": "",
          "output_type": "error",
          "traceback": [
            "\u001b[0;31m---------------------------------------------------------------------------\u001b[0m",
            "\u001b[0;31mKeyboardInterrupt\u001b[0m                         Traceback (most recent call last)",
            "Cell \u001b[0;32mIn[30], line 11\u001b[0m\n\u001b[1;32m      8\u001b[0m model_path \u001b[38;5;241m=\u001b[39m \u001b[38;5;124mf\u001b[39m\u001b[38;5;124m\"\u001b[39m\u001b[38;5;124mmodel_\u001b[39m\u001b[38;5;132;01m{\u001b[39;00mname\u001b[38;5;132;01m}\u001b[39;00m\u001b[38;5;124m.pt\u001b[39m\u001b[38;5;124m\"\u001b[39m\n\u001b[1;32m     10\u001b[0m data \u001b[38;5;241m=\u001b[39m tokenized_versions[name]\n\u001b[0;32m---> 11\u001b[0m train_dataset \u001b[38;5;241m=\u001b[39m \u001b[43mSeq2SeqDataset\u001b[49m\u001b[43m(\u001b[49m\u001b[43mdata\u001b[49m\u001b[43m[\u001b[49m\u001b[38;5;124;43m\"\u001b[39;49m\u001b[38;5;124;43mtrain\u001b[39;49m\u001b[38;5;124;43m\"\u001b[39;49m\u001b[43m]\u001b[49m\u001b[43m)\u001b[49m\n\u001b[1;32m     12\u001b[0m test_dataset \u001b[38;5;241m=\u001b[39m Seq2SeqDataset(data[\u001b[38;5;124m\"\u001b[39m\u001b[38;5;124mtest\u001b[39m\u001b[38;5;124m\"\u001b[39m])\n\u001b[1;32m     14\u001b[0m train_loader \u001b[38;5;241m=\u001b[39m DataLoader(train_dataset, batch_size\u001b[38;5;241m=\u001b[39m\u001b[38;5;241m16\u001b[39m, shuffle\u001b[38;5;241m=\u001b[39m\u001b[38;5;28;01mTrue\u001b[39;00m)\n",
            "Cell \u001b[0;32mIn[18], line 7\u001b[0m, in \u001b[0;36mSeq2SeqDataset.__init__\u001b[0;34m(self, data)\u001b[0m\n\u001b[1;32m      5\u001b[0m \u001b[38;5;28;01mdef\u001b[39;00m \u001b[38;5;21m__init__\u001b[39m(\u001b[38;5;28mself\u001b[39m, data):\n\u001b[1;32m      6\u001b[0m     \u001b[38;5;28mself\u001b[39m\u001b[38;5;241m.\u001b[39minput_ids \u001b[38;5;241m=\u001b[39m data[\u001b[38;5;124m\"\u001b[39m\u001b[38;5;124minput_ids\u001b[39m\u001b[38;5;124m\"\u001b[39m]\n\u001b[0;32m----> 7\u001b[0m     \u001b[38;5;28mself\u001b[39m\u001b[38;5;241m.\u001b[39mattention_mask \u001b[38;5;241m=\u001b[39m \u001b[43mdata\u001b[49m\u001b[43m[\u001b[49m\u001b[38;5;124;43m\"\u001b[39;49m\u001b[38;5;124;43mattention_mask\u001b[39;49m\u001b[38;5;124;43m\"\u001b[39;49m\u001b[43m]\u001b[49m\n\u001b[1;32m      8\u001b[0m     \u001b[38;5;28mself\u001b[39m\u001b[38;5;241m.\u001b[39mlabels \u001b[38;5;241m=\u001b[39m data[\u001b[38;5;124m\"\u001b[39m\u001b[38;5;124mlabels\u001b[39m\u001b[38;5;124m\"\u001b[39m]\n",
            "File \u001b[0;32m~/Library/Python/3.12/lib/python/site-packages/datasets/arrow_dataset.py:2777\u001b[0m, in \u001b[0;36mDataset.__getitem__\u001b[0;34m(self, key)\u001b[0m\n\u001b[1;32m   2775\u001b[0m \u001b[38;5;28;01mdef\u001b[39;00m \u001b[38;5;21m__getitem__\u001b[39m(\u001b[38;5;28mself\u001b[39m, key):  \u001b[38;5;66;03m# noqa: F811\u001b[39;00m\n\u001b[1;32m   2776\u001b[0m \u001b[38;5;250m    \u001b[39m\u001b[38;5;124;03m\"\"\"Can be used to index columns (by string names) or rows (by integer index or iterable of indices or bools).\"\"\"\u001b[39;00m\n\u001b[0;32m-> 2777\u001b[0m     \u001b[38;5;28;01mreturn\u001b[39;00m \u001b[38;5;28;43mself\u001b[39;49m\u001b[38;5;241;43m.\u001b[39;49m\u001b[43m_getitem\u001b[49m\u001b[43m(\u001b[49m\u001b[43mkey\u001b[49m\u001b[43m)\u001b[49m\n",
            "File \u001b[0;32m~/Library/Python/3.12/lib/python/site-packages/datasets/arrow_dataset.py:2762\u001b[0m, in \u001b[0;36mDataset._getitem\u001b[0;34m(self, key, **kwargs)\u001b[0m\n\u001b[1;32m   2760\u001b[0m formatter \u001b[38;5;241m=\u001b[39m get_formatter(format_type, features\u001b[38;5;241m=\u001b[39m\u001b[38;5;28mself\u001b[39m\u001b[38;5;241m.\u001b[39m_info\u001b[38;5;241m.\u001b[39mfeatures, \u001b[38;5;241m*\u001b[39m\u001b[38;5;241m*\u001b[39mformat_kwargs)\n\u001b[1;32m   2761\u001b[0m pa_subtable \u001b[38;5;241m=\u001b[39m query_table(\u001b[38;5;28mself\u001b[39m\u001b[38;5;241m.\u001b[39m_data, key, indices\u001b[38;5;241m=\u001b[39m\u001b[38;5;28mself\u001b[39m\u001b[38;5;241m.\u001b[39m_indices)\n\u001b[0;32m-> 2762\u001b[0m formatted_output \u001b[38;5;241m=\u001b[39m \u001b[43mformat_table\u001b[49m\u001b[43m(\u001b[49m\n\u001b[1;32m   2763\u001b[0m \u001b[43m    \u001b[49m\u001b[43mpa_subtable\u001b[49m\u001b[43m,\u001b[49m\u001b[43m \u001b[49m\u001b[43mkey\u001b[49m\u001b[43m,\u001b[49m\u001b[43m \u001b[49m\u001b[43mformatter\u001b[49m\u001b[38;5;241;43m=\u001b[39;49m\u001b[43mformatter\u001b[49m\u001b[43m,\u001b[49m\u001b[43m \u001b[49m\u001b[43mformat_columns\u001b[49m\u001b[38;5;241;43m=\u001b[39;49m\u001b[43mformat_columns\u001b[49m\u001b[43m,\u001b[49m\u001b[43m \u001b[49m\u001b[43moutput_all_columns\u001b[49m\u001b[38;5;241;43m=\u001b[39;49m\u001b[43moutput_all_columns\u001b[49m\n\u001b[1;32m   2764\u001b[0m \u001b[43m\u001b[49m\u001b[43m)\u001b[49m\n\u001b[1;32m   2765\u001b[0m \u001b[38;5;28;01mreturn\u001b[39;00m formatted_output\n",
            "File \u001b[0;32m~/Library/Python/3.12/lib/python/site-packages/datasets/formatting/formatting.py:658\u001b[0m, in \u001b[0;36mformat_table\u001b[0;34m(table, key, formatter, format_columns, output_all_columns)\u001b[0m\n\u001b[1;32m    656\u001b[0m python_formatter \u001b[38;5;241m=\u001b[39m PythonFormatter(features\u001b[38;5;241m=\u001b[39mformatter\u001b[38;5;241m.\u001b[39mfeatures)\n\u001b[1;32m    657\u001b[0m \u001b[38;5;28;01mif\u001b[39;00m format_columns \u001b[38;5;129;01mis\u001b[39;00m \u001b[38;5;28;01mNone\u001b[39;00m:\n\u001b[0;32m--> 658\u001b[0m     \u001b[38;5;28;01mreturn\u001b[39;00m \u001b[43mformatter\u001b[49m\u001b[43m(\u001b[49m\u001b[43mpa_table\u001b[49m\u001b[43m,\u001b[49m\u001b[43m \u001b[49m\u001b[43mquery_type\u001b[49m\u001b[38;5;241;43m=\u001b[39;49m\u001b[43mquery_type\u001b[49m\u001b[43m)\u001b[49m\n\u001b[1;32m    659\u001b[0m \u001b[38;5;28;01melif\u001b[39;00m query_type \u001b[38;5;241m==\u001b[39m \u001b[38;5;124m\"\u001b[39m\u001b[38;5;124mcolumn\u001b[39m\u001b[38;5;124m\"\u001b[39m:\n\u001b[1;32m    660\u001b[0m     \u001b[38;5;28;01mif\u001b[39;00m key \u001b[38;5;129;01min\u001b[39;00m format_columns:\n",
            "File \u001b[0;32m~/Library/Python/3.12/lib/python/site-packages/datasets/formatting/formatting.py:413\u001b[0m, in \u001b[0;36mFormatter.__call__\u001b[0;34m(self, pa_table, query_type)\u001b[0m\n\u001b[1;32m    411\u001b[0m     \u001b[38;5;28;01mreturn\u001b[39;00m \u001b[38;5;28mself\u001b[39m\u001b[38;5;241m.\u001b[39mformat_row(pa_table)\n\u001b[1;32m    412\u001b[0m \u001b[38;5;28;01melif\u001b[39;00m query_type \u001b[38;5;241m==\u001b[39m \u001b[38;5;124m\"\u001b[39m\u001b[38;5;124mcolumn\u001b[39m\u001b[38;5;124m\"\u001b[39m:\n\u001b[0;32m--> 413\u001b[0m     \u001b[38;5;28;01mreturn\u001b[39;00m \u001b[38;5;28;43mself\u001b[39;49m\u001b[38;5;241;43m.\u001b[39;49m\u001b[43mformat_column\u001b[49m\u001b[43m(\u001b[49m\u001b[43mpa_table\u001b[49m\u001b[43m)\u001b[49m\n\u001b[1;32m    414\u001b[0m \u001b[38;5;28;01melif\u001b[39;00m query_type \u001b[38;5;241m==\u001b[39m \u001b[38;5;124m\"\u001b[39m\u001b[38;5;124mbatch\u001b[39m\u001b[38;5;124m\"\u001b[39m:\n\u001b[1;32m    415\u001b[0m     \u001b[38;5;28;01mreturn\u001b[39;00m \u001b[38;5;28mself\u001b[39m\u001b[38;5;241m.\u001b[39mformat_batch(pa_table)\n",
            "File \u001b[0;32m~/Library/Python/3.12/lib/python/site-packages/datasets/formatting/formatting.py:464\u001b[0m, in \u001b[0;36mPythonFormatter.format_column\u001b[0;34m(self, pa_table)\u001b[0m\n\u001b[1;32m    463\u001b[0m \u001b[38;5;28;01mdef\u001b[39;00m \u001b[38;5;21mformat_column\u001b[39m(\u001b[38;5;28mself\u001b[39m, pa_table: pa\u001b[38;5;241m.\u001b[39mTable) \u001b[38;5;241m-\u001b[39m\u001b[38;5;241m>\u001b[39m \u001b[38;5;28mlist\u001b[39m:\n\u001b[0;32m--> 464\u001b[0m     column \u001b[38;5;241m=\u001b[39m \u001b[38;5;28;43mself\u001b[39;49m\u001b[38;5;241;43m.\u001b[39;49m\u001b[43mpython_arrow_extractor\u001b[49m\u001b[43m(\u001b[49m\u001b[43m)\u001b[49m\u001b[38;5;241;43m.\u001b[39;49m\u001b[43mextract_column\u001b[49m\u001b[43m(\u001b[49m\u001b[43mpa_table\u001b[49m\u001b[43m)\u001b[49m\n\u001b[1;32m    465\u001b[0m     column \u001b[38;5;241m=\u001b[39m \u001b[38;5;28mself\u001b[39m\u001b[38;5;241m.\u001b[39mpython_features_decoder\u001b[38;5;241m.\u001b[39mdecode_column(column, pa_table\u001b[38;5;241m.\u001b[39mcolumn_names[\u001b[38;5;241m0\u001b[39m])\n\u001b[1;32m    466\u001b[0m     \u001b[38;5;28;01mreturn\u001b[39;00m column\n",
            "File \u001b[0;32m~/Library/Python/3.12/lib/python/site-packages/datasets/formatting/formatting.py:148\u001b[0m, in \u001b[0;36mPythonArrowExtractor.extract_column\u001b[0;34m(self, pa_table)\u001b[0m\n\u001b[1;32m    147\u001b[0m \u001b[38;5;28;01mdef\u001b[39;00m \u001b[38;5;21mextract_column\u001b[39m(\u001b[38;5;28mself\u001b[39m, pa_table: pa\u001b[38;5;241m.\u001b[39mTable) \u001b[38;5;241m-\u001b[39m\u001b[38;5;241m>\u001b[39m \u001b[38;5;28mlist\u001b[39m:\n\u001b[0;32m--> 148\u001b[0m     \u001b[38;5;28;01mreturn\u001b[39;00m \u001b[43mpa_table\u001b[49m\u001b[38;5;241;43m.\u001b[39;49m\u001b[43mcolumn\u001b[49m\u001b[43m(\u001b[49m\u001b[38;5;241;43m0\u001b[39;49m\u001b[43m)\u001b[49m\u001b[38;5;241;43m.\u001b[39;49m\u001b[43mto_pylist\u001b[49m\u001b[43m(\u001b[49m\u001b[43m)\u001b[49m\n",
            "\u001b[0;31mKeyboardInterrupt\u001b[0m: "
          ]
        }
      ],
      "source": [
        "import os\n",
        "\n",
        "device = torch.device(\"cuda\" if torch.cuda.is_available() else \"cpu\")\n",
        "results = []\n",
        "\n",
        "for config in configurations:\n",
        "    name = config[\"name\"]\n",
        "    model_path = f\"model_{name}.pt\"\n",
        "\n",
        "    data = tokenized_versions[name]\n",
        "    train_dataset = Seq2SeqDataset(data[\"train\"])\n",
        "    test_dataset = Seq2SeqDataset(data[\"test\"])\n",
        "\n",
        "    train_loader = DataLoader(train_dataset, batch_size=16, shuffle=True)\n",
        "    test_loader = DataLoader(test_dataset, batch_size=16)\n",
        "\n",
        "    model = Seq2SeqLSTM(\n",
        "        vocab_size=tokenizer.vocab_size,\n",
        "        embed_dim=128,\n",
        "        hidden_dim=256,\n",
        "        input_len=config[\"input_len\"],\n",
        "        target_len=config[\"target_len\"],\n",
        "        dropout=0.3\n",
        "    ).to(device)\n",
        "\n",
        "    if os.path.exists(model_path):\n",
        "        print(f\"Model for {name} already exists. Loading from {model_path}...\")\n",
        "        model.load_state_dict(torch.load(model_path, map_location=device))\n",
        "        model.eval()\n",
        "    else:\n",
        "        print(f\"\\nTraining model for config: {name}\")\n",
        "        optimizer = torch.optim.Adam(model.parameters(), lr=0.001)\n",
        "        criterion = nn.CrossEntropyLoss(ignore_index=tokenizer.pad_token_id)\n",
        "\n",
        "        train_model(model, train_loader, optimizer, criterion, device, epochs=3)\n",
        "\n",
        "        torch.save(model.state_dict(), model_path)\n",
        "        print(f\"Saved model to {model_path}\")\n",
        "\n",
        "    bleu_score = evaluate_bleu(model, test_loader, tokenizer, device)\n",
        "    results.append((name, bleu_score))\n",
        "    print(f\"BLEU score for {name}: {bleu_score:.4f}\")\n"
      ]
    },
    {
      "cell_type": "code",
      "execution_count": null,
      "metadata": {},
      "outputs": [
        {
          "name": "stdout",
          "output_type": "stream",
          "text": [
            "\n",
            "Final BLEU Scores:\n",
            "1024_128: BLEU = 0.0234\n",
            "1024_256: BLEU = 0.0287\n",
            "2048_128: BLEU = 0.0221\n",
            "2048_256: BLEU = 0.0295\n"
          ]
        }
      ],
      "source": [
        "print(\"\\nFinal BLEU Scores:\")\n",
        "for name, score in results:\n",
        "    print(f\"{name}: BLEU = {score:.4f}\")\n",
        "#\n",
        "# %%\n",
        "best_seq_config = max(results, key=lambda x: x[1])\n",
        "print(\"\\nBest Sequence Length Configuration:\")\n",
        "print(f\"Config: {best_seq_config[0]}\")\n",
        "print(f\"BLEU Score: {best_seq_config[1]:.4f}\")"
      ]
    },
    {
      "cell_type": "code",
      "execution_count": null,
      "metadata": {},
      "outputs": [],
      "source": [
        "hyperparam_configs = [\n",
        "    {\"name\": \"emb128_hid256_drp0.3_lr0.001\", \"embed_dim\": 128, \"hidden_dim\": 256, \"dropout\": 0.3, \"lr\": 0.001},\n",
        "    {\"name\": \"emb256_hid512_drp0.2_lr0.0005\", \"embed_dim\": 256, \"hidden_dim\": 512, \"dropout\": 0.2, \"lr\": 0.0005},\n",
        "    {\"name\": \"emb512_hid512_drp0.1_lr0.001\", \"embed_dim\": 512, \"hidden_dim\": 512, \"dropout\": 0.1, \"lr\": 0.001},\n",
        "]"
      ]
    },
    {
      "cell_type": "code",
      "execution_count": null,
      "metadata": {},
      "outputs": [],
      "source": [
        "from torch.utils.data import DataLoader\n",
        "\n",
        "device = torch.device(\"cuda\" if torch.cuda.is_available() else \"cpu\")\n",
        "base_config = [c for c in configurations if c[\"name\"] == \"2048_256\"][0]\n",
        "data = tokenized_versions[base_config[\"name\"]]\n",
        "\n",
        "train_dataset = Seq2SeqDataset(data[\"train\"])\n",
        "test_dataset = Seq2SeqDataset(data[\"test\"])\n",
        "\n",
        "train_loader = DataLoader(train_dataset, batch_size=16, shuffle=True)\n",
        "test_loader = DataLoader(test_dataset, batch_size=16)\n",
        "\n",
        "tuned_results = []\n",
        "\n",
        "for params in hyperparam_configs:\n",
        "    model = Seq2SeqLSTM(\n",
        "        vocab_size=tokenizer.vocab_size,\n",
        "        embed_dim=params[\"embed_dim\"],\n",
        "        hidden_dim=params[\"hidden_dim\"],\n",
        "        input_len=base_config[\"input_len\"],\n",
        "        target_len=base_config[\"target_len\"],\n",
        "        dropout=params[\"dropout\"]\n",
        "    ).to(device)\n",
        "\n",
        "    optimizer = torch.optim.Adam(model.parameters(), lr=params[\"lr\"])\n",
        "    criterion = nn.CrossEntropyLoss(ignore_index=tokenizer.pad_token_id)\n",
        "\n",
        "    print(f\"\\nTraining model with {params['name']}\")\n",
        "    train_model(model, train_loader, optimizer, criterion, device, epochs=3)\n",
        "\n",
        "    bleu_score = evaluate_bleu(model, test_loader, tokenizer, device)\n",
        "    tuned_results.append((params[\"name\"], bleu_score))\n",
        "    print(f\"BLEU score for {params['name']}: {bleu_score:.4f}\")"
      ]
    },
    {
      "cell_type": "code",
      "execution_count": null,
      "metadata": {},
      "outputs": [],
      "source": [
        "# %%\n",
        "best_param_config = max(tuned_results, key=lambda x: x[1])\n",
        "print(\"\\nBest Hyperparameter Setting:\")\n",
        "print(f\"Name: {best_param_config[0]}\")\n",
        "print(f\"BLEU Score: {best_param_config[1]:.4f}\")\n",
        "\n",
        "for config in hyperparam_configs:\n",
        "    if config[\"name\"] == best_param_config[0]:\n",
        "        final_hyperparams = config\n",
        "        print(\"\\nHyperparameters:\")\n",
        "        print(f\"Embedding Dim: {config['embed_dim']}\")\n",
        "        print(f\"Hidden Dim: {config['hidden_dim']}\")\n",
        "        print(f\"Dropout: {config['dropout']}\")\n",
        "        print(f\"Learning Rate: {config['lr']}\")"
      ]
    },
    {
      "cell_type": "code",
      "execution_count": null,
      "metadata": {},
      "outputs": [],
      "source": [
        "# %%\n",
        "final_data = tokenized_versions[best_seq_config[0]]\n",
        "final_train_dataset = Seq2SeqDataset(final_data[\"train\"])\n",
        "final_test_dataset = Seq2SeqDataset(final_data[\"test\"])\n",
        "\n",
        "final_train_loader = DataLoader(final_train_dataset, batch_size=16, shuffle=True)\n",
        "final_test_loader = DataLoader(final_test_dataset, batch_size=16)\n",
        "\n",
        "final_model = Seq2SeqLSTM(\n",
        "    vocab_size=tokenizer.vocab_size,\n",
        "    embed_dim=final_hyperparams[\"embed_dim\"],\n",
        "    hidden_dim=final_hyperparams[\"hidden_dim\"],\n",
        "    input_len=MAX_INPUT_2048,\n",
        "    target_len=MAX_TARGET_256,\n",
        "    dropout=final_hyperparams[\"dropout\"]\n",
        ").to(device)\n",
        "\n",
        "final_optimizer = torch.optim.Adam(final_model.parameters(), lr=final_hyperparams[\"lr\"])\n",
        "final_criterion = nn.CrossEntropyLoss(ignore_index=tokenizer.pad_token_id)\n",
        "\n",
        "print(\"\\nTraining final best model...\")\n",
        "train_model(final_model, final_train_loader, final_optimizer, final_criterion, device, epochs=3)\n",
        "\n",
        "final_bleu = evaluate_bleu(final_model, final_test_loader, tokenizer, device)\n",
        "print(f\"\\nFinal Best Model BLEU Score: {final_bleu:.4f}\")"
      ]
    },
    {
      "cell_type": "code",
      "execution_count": null,
      "metadata": {},
      "outputs": [],
      "source": [
        "# %%\n",
        "import matplotlib.pyplot as plt\n",
        "\n",
        "names = [name for name, _ in tuned_results]\n",
        "scores = [score for _, score in tuned_results]\n",
        "\n",
        "plt.figure(figsize=(8, 5))\n",
        "plt.bar(names, scores)\n",
        "plt.ylabel(\"BLEU Score\")\n",
        "plt.xlabel(\"Hyperparameter Config\")\n",
        "plt.title(\"BLEU Score Comparison: Hyperparameter Tuning\")\n",
        "plt.xticks(rotation=45, ha=\"right\")\n",
        "plt.grid(axis='y', linestyle='--', alpha=0.7)\n",
        "plt.tight_layout()\n",
        "plt.show()"
      ]
    }
  ],
  "metadata": {
    "colab": {
      "authorship_tag": "ABX9TyMYdhpkmJC0hIGQbntHoRFI",
      "include_colab_link": true,
      "provenance": []
    },
    "kernelspec": {
      "display_name": "Python 3",
      "language": "python",
      "name": "python3"
    },
    "language_info": {
      "codemirror_mode": {
        "name": "ipython",
        "version": 3
      },
      "file_extension": ".py",
      "mimetype": "text/x-python",
      "name": "python",
      "nbconvert_exporter": "python",
      "pygments_lexer": "ipython3",
      "version": "3.12.4"
    }
  },
  "nbformat": 4,
  "nbformat_minor": 0
}
